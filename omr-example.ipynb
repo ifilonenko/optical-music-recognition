{
 "cells": [
  {
   "cell_type": "code",
   "execution_count": 1,
   "metadata": {},
   "outputs": [
    {
     "name": "stderr",
     "output_type": "stream",
     "text": [
      "/Users/ilanfilonenko/6700/optical-music-recognition/venv/lib/python3.6/site-packages/h5py/__init__.py:36: FutureWarning: Conversion of the second argument of issubdtype from `float` to `np.floating` is deprecated. In future, it will be treated as `np.float64 == np.dtype(float).type`.\n",
      "  from ._conv import register_converters as _register_converters\n",
      "Using TensorFlow backend.\n"
     ]
    }
   ],
   "source": [
    "from keras.models import load_model\n",
    "from music21.midi import translate\n",
    "from music21 import pitch, note\n",
    "from music21.articulations import Fingering, Articulation\n",
    "from music21.stream import Stream\n",
    "import numpy as np\n",
    "\n",
    "from configs import Configs\n",
    "from data_utils import DataUtil\n",
    "from trainer import TrainerSetup\n",
    "from image_transfer_learning import image_generator\n",
    "from models import build_res_net\n",
    "from utils import pickle_load\n",
    "from IPython.display import Image\n",
    "from IPython.core.display import HTML "
   ]
  },
  {
   "cell_type": "code",
   "execution_count": 2,
   "metadata": {},
   "outputs": [],
   "source": [
    "from inference import Inference, Configs, DataUtil"
   ]
  },
  {
   "cell_type": "markdown",
   "metadata": {},
   "source": [
    "## Load configs and data_util for encoding + decoding"
   ]
  },
  {
   "cell_type": "code",
   "execution_count": 3,
   "metadata": {},
   "outputs": [],
   "source": [
    "configs: Configs = \\\n",
    "    pickle_load('cache/{}.p'.format(\"configs\"))\n",
    "data_util: DataUtil = \\\n",
    "    pickle_load('cache/{}.p'.format(\"data_util\"))\n",
    "inference = Inference(configs, data_util)"
   ]
  },
  {
   "cell_type": "markdown",
   "metadata": {},
   "source": [
    "## Evaluate Seq2Seq Model"
   ]
  },
  {
   "cell_type": "code",
   "execution_count": 4,
   "metadata": {},
   "outputs": [],
   "source": [
    "model = load_model('cache/{}.h5'.format(\"model\"))"
   ]
  },
  {
   "cell_type": "code",
   "execution_count": 5,
   "metadata": {},
   "outputs": [
    {
     "name": "stdout",
     "output_type": "stream",
     "text": [
      "__________________________________________________________________________________________________\n",
      "Layer (type)                    Output Shape         Param #     Connected to                     \n",
      "==================================================================================================\n",
      "encoder_input (InputLayer)      (None, 1, 2048)      0                                            \n",
      "__________________________________________________________________________________________________\n",
      "decoder_input (InputLayer)      (None, 400, 666)     0                                            \n",
      "__________________________________________________________________________________________________\n",
      "time_distributed_1 (TimeDistrib (None, 1, 256)       524544      encoder_input[0][0]              \n",
      "__________________________________________________________________________________________________\n",
      "time_distributed_2 (TimeDistrib (None, 400, 256)     170752      decoder_input[0][0]              \n",
      "__________________________________________________________________________________________________\n",
      "e_lstm (LSTM)                   [(None, 256), (None, 525312      time_distributed_1[0][0]         \n",
      "__________________________________________________________________________________________________\n",
      "d_lstm (LSTM)                   [(None, 400, 256), ( 525312      time_distributed_2[0][0]         \n",
      "                                                                 e_lstm[0][1]                     \n",
      "                                                                 e_lstm[0][2]                     \n",
      "__________________________________________________________________________________________________\n",
      "decoder_dense (Dense)           (None, 400, 666)     171162      d_lstm[0][0]                     \n",
      "==================================================================================================\n",
      "Total params: 1,917,082\n",
      "Trainable params: 1,917,082\n",
      "Non-trainable params: 0\n",
      "__________________________________________________________________________________________________\n"
     ]
    }
   ],
   "source": [
    "model.summary()"
   ]
  },
  {
   "cell_type": "markdown",
   "metadata": {},
   "source": [
    "## Evaluate Encoder and Decoder Model"
   ]
  },
  {
   "cell_type": "code",
   "execution_count": 6,
   "metadata": {},
   "outputs": [
    {
     "name": "stderr",
     "output_type": "stream",
     "text": [
      "/Users/ilanfilonenko/6700/optical-music-recognition/venv/lib/python3.6/site-packages/keras/models.py:282: UserWarning: No training configuration found in save file: the model was *not* compiled. Compile it manually.\n",
      "  warnings.warn('No training configuration found in save file: '\n"
     ]
    }
   ],
   "source": [
    "inference.encoder_model = \\\n",
    "    load_model('cache/{}.h5'.format(\"encoder_example\"))\n",
    "inference.decoder_model = \\\n",
    "    load_model('cache/{}.h5'.format(\"decoder_example\"))"
   ]
  },
  {
   "cell_type": "code",
   "execution_count": 7,
   "metadata": {},
   "outputs": [
    {
     "name": "stdout",
     "output_type": "stream",
     "text": [
      "_________________________________________________________________\n",
      "Layer (type)                 Output Shape              Param #   \n",
      "=================================================================\n",
      "encoder_input (InputLayer)   (None, 1, 2048)           0         \n",
      "_________________________________________________________________\n",
      "time_distributed_1 (TimeDist (None, 1, 256)            524544    \n",
      "_________________________________________________________________\n",
      "e_lstm (LSTM)                [(None, 256), (None, 256) 525312    \n",
      "=================================================================\n",
      "Total params: 1,049,856\n",
      "Trainable params: 1,049,856\n",
      "Non-trainable params: 0\n",
      "_________________________________________________________________\n"
     ]
    }
   ],
   "source": [
    "inference.encoder_model.summary()"
   ]
  },
  {
   "cell_type": "code",
   "execution_count": 8,
   "metadata": {},
   "outputs": [
    {
     "name": "stdout",
     "output_type": "stream",
     "text": [
      "__________________________________________________________________________________________________\n",
      "Layer (type)                    Output Shape         Param #     Connected to                     \n",
      "==================================================================================================\n",
      "decoder_input (InputLayer)      (None, 400, 666)     0                                            \n",
      "__________________________________________________________________________________________________\n",
      "time_distributed_2 (TimeDistrib (None, 400, 256)     170752      decoder_input[0][0]              \n",
      "__________________________________________________________________________________________________\n",
      "input_2 (InputLayer)            (None, 1, 256)       0                                            \n",
      "__________________________________________________________________________________________________\n",
      "input_3 (InputLayer)            (None, 1, 256)       0                                            \n",
      "__________________________________________________________________________________________________\n",
      "d_lstm (LSTM)                   [(None, 400, 256), ( 525312      time_distributed_2[0][0]         \n",
      "                                                                 input_2[0][0]                    \n",
      "                                                                 input_3[0][0]                    \n",
      "__________________________________________________________________________________________________\n",
      "decoder_dense (Dense)           (None, 400, 666)     171162      d_lstm[0][0]                     \n",
      "==================================================================================================\n",
      "Total params: 867,226\n",
      "Trainable params: 867,226\n",
      "Non-trainable params: 0\n",
      "__________________________________________________________________________________________________\n"
     ]
    }
   ],
   "source": [
    "inference.decoder_model.summary()"
   ]
  },
  {
   "cell_type": "markdown",
   "metadata": {},
   "source": [
    "## Example end2end test"
   ]
  },
  {
   "cell_type": "code",
   "execution_count": 9,
   "metadata": {},
   "outputs": [
    {
     "data": {
      "text/html": [
       "<img src=\"data/training/images/1981321.jpg\" width=\"400\" height=\"400\"/>"
      ],
      "text/plain": [
       "<IPython.core.display.Image object>"
      ]
     },
     "execution_count": 9,
     "metadata": {},
     "output_type": "execute_result"
    }
   ],
   "source": [
    "Image(url= \"data/training/images/1981321.jpg\", width=400, height=400)"
   ]
  },
  {
   "cell_type": "code",
   "execution_count": 10,
   "metadata": {},
   "outputs": [
    {
     "name": "stderr",
     "output_type": "stream",
     "text": [
      "/Users/ilanfilonenko/6700/optical-music-recognition/models.py:68: UserWarning: Update your `Model` call to the Keras 2 API: `Model(inputs=Tensor(\"in..., outputs=Tensor(\"av...)`\n",
      "  output=base_model.get_layer('avg_pool').output))\n"
     ]
    },
    {
     "name": "stdout",
     "output_type": "stream",
     "text": [
      "\r",
      "1/1 [==============================] - 2s 2s/step\n"
     ]
    }
   ],
   "source": [
    "resNet = build_res_net()\n",
    "gen = image_generator([\"data/training/images/1981321.jpg\"], 1)\n",
    "input_img_vector = resNet.predict_generator(gen, 1, verbose=1)"
   ]
  },
  {
   "cell_type": "markdown",
   "metadata": {},
   "source": [
    "### Encoder Output"
   ]
  },
  {
   "cell_type": "code",
   "execution_count": 11,
   "metadata": {},
   "outputs": [],
   "source": [
    "encoder_states = inference.encoder_model.predict(input_img_vector.reshape(1,1,configs.image_vec_dim))"
   ]
  },
  {
   "cell_type": "markdown",
   "metadata": {},
   "source": [
    "### Decoder Start State"
   ]
  },
  {
   "cell_type": "code",
   "execution_count": 39,
   "metadata": {},
   "outputs": [],
   "source": [
    "start_state = np.vstack((data_util.middle_c.reshape(1,data_util.encoding_size+1)\\\n",
    "           ,np.zeros((configs.L-1,data_util.encoding_size+1)))).reshape(1,configs.L,data_util.encoding_size+1)"
   ]
  },
  {
   "cell_type": "markdown",
   "metadata": {},
   "source": [
    "### Decoder Output"
   ]
  },
  {
   "cell_type": "code",
   "execution_count": 40,
   "metadata": {},
   "outputs": [],
   "source": [
    "output_tokens, _, _ = inference.decoder_model.predict(\n",
    "    [start_state] + \\\n",
    "    [encoder_states[0].reshape(1, 1, configs.lstm_input_size), \\\n",
    "     encoder_states[1].reshape(1, 1, configs.lstm_input_size)])"
   ]
  },
  {
   "cell_type": "markdown",
   "metadata": {},
   "source": [
    "### Inference"
   ]
  },
  {
   "cell_type": "code",
   "execution_count": 41,
   "metadata": {},
   "outputs": [],
   "source": [
    "output_result = []\n",
    "for row in output_tokens[0]:\n",
    "    if np.argmax(row) == data_util.encoding_size:\n",
    "        break\n",
    "    else:\n",
    "        pitch_indx = np.argmax(row[:-1][:inference.indx])\n",
    "        duration_indx = np.argmax(row[:-1][inference.indx:])\n",
    "        c_result = np.zeros((data_util.encoding_size+1,))\n",
    "        c_result[pitch_indx] = 1.0\n",
    "        c_result[inference.indx+duration_indx] = 1.0\n",
    "        output_result.append(\\\n",
    "            data_util.decode_pitch_duration(c_result[:-1]))"
   ]
  },
  {
   "cell_type": "code",
   "execution_count": 42,
   "metadata": {},
   "outputs": [],
   "source": [
    "s = inference.output_stream(output_result)"
   ]
  },
  {
   "cell_type": "code",
   "execution_count": 43,
   "metadata": {},
   "outputs": [
    {
     "data": {
      "image/png": "[encoded data removed]",
      "text/plain": [
       "<IPython.core.display.Image object>"
      ]
     },
     "metadata": {
      "image/png": {
       "height": 76,
       "width": 748
      }
     },
     "output_type": "display_data"
    }
   ],
   "source": [
    "s[:20].show()"
   ]
  }
 ],
 "metadata": {
  "kernelspec": {
   "display_name": "test-jupyter-omr",
   "language": "python",
   "name": "test-jupyter-omr"
  },
  "language_info": {
   "codemirror_mode": {
    "name": "ipython",
    "version": 3
   },
   "file_extension": ".py",
   "mimetype": "text/x-python",
   "name": "python",
   "nbconvert_exporter": "python",
   "pygments_lexer": "ipython3",
   "version": "3.6.5"
  }
 },
 "nbformat": 4,
 "nbformat_minor": 2
}
