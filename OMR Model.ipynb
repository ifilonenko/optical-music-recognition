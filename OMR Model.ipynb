{
 "cells": [
  {
   "cell_type": "code",
   "execution_count": 637,
   "metadata": {},
   "outputs": [],
   "source": [
    "import datetime\n",
    "import os\n",
    "from time import time\n",
    "\n",
    "import argparse\n",
    "import csv \n",
    "import keras\n",
    "import numpy as np\n",
    "import shutil\n",
    "from sklearn.preprocessing import LabelBinarizer,LabelEncoder,OneHotEncoder\n",
    "from keras.callbacks import EarlyStopping, ModelCheckpoint, ReduceLROnPlateau\n",
    "from keras.preprocessing.image import ImageDataGenerator\n",
    "from keras.layers import Activation, BatchNormalization, Convolution2D, Dense, Dropout, Flatten, MaxPooling2D, LSTM\n",
    "from keras.models import Sequential, load_model\n",
    "from keras.optimizers import SGD\n",
    "from keras.regularizers import l2\n",
    "from recurrentshop import *\n",
    "from keras.layers import *\n",
    "from keras.models import Model\n",
    "from keras.applications.vgg16 import VGG16\n",
    "import h5py\n",
    "import midi\n",
    "from fractions import Fraction\n",
    "import shutil"
   ]
  },
  {
   "cell_type": "code",
   "execution_count": 2,
   "metadata": {},
   "outputs": [],
   "source": [
    "from keras.applications.imagenet_utils import preprocess_input\n",
    "from keras.applications.resnet50 import ResNet50\n",
    "from keras.preprocessing import image as KImage\n",
    "from keras.models import Sequential, Model\n",
    "from keras.layers import Flatten\n",
    "import os, sys, numpy as np\n",
    "from pdf2image import convert_from_path, convert_from_bytes\n",
    "from PIL import Image\n",
    "import re"
   ]
  },
  {
   "cell_type": "code",
   "execution_count": 3,
   "metadata": {},
   "outputs": [],
   "source": [
    "id_file = 'scripts/{}_good_ids.csv'\n",
    "t_file_data = 'scripts/{}/training/{}.{}'\n",
    "v_file_data = 'scripts/{}/validation/{}.{}'\n",
    "e_file_data = 'scrips/{}/evaluation/{}.{}'"
   ]
  },
  {
   "cell_type": "code",
   "execution_count": 4,
   "metadata": {},
   "outputs": [],
   "source": [
    "DIRS = [\"training\",\"evalation\",\"validation\"]"
   ]
  },
  {
   "cell_type": "code",
   "execution_count": 5,
   "metadata": {},
   "outputs": [],
   "source": [
    "def convert_dir_pdf2img():\n",
    "    for parent_dir in DIRS:\n",
    "        print(\"Working on %s\" % parent_dir)\n",
    "        print(\"==========================\")\n",
    "        dir_pdf = 'scripts/%s/pdfs' % parent_dir\n",
    "        dir_notes = 'scripts/%s/notes' % parent_dir\n",
    "        dir_images = 'scripts/%s/images' % parent_dir\n",
    "        if os.path.exists(dir_images):\n",
    "            shutil.rmtree(dir_images)\n",
    "        os.makedirs(dir_images)\n",
    "        print(\"\\n\")\n",
    "        id_list = set()\n",
    "        for subdir, _, files in os.walk(dir_notes):\n",
    "            for file in files:\n",
    "                id_list.add((file[:-4]))\n",
    "        for subdir, _, files in os.walk(dir_pdf):\n",
    "            for file in files:\n",
    "                if file[:-4] in id_list:\n",
    "                    images = convert_from_path(os.path.join(subdir, file), \\\n",
    "                                              output_folder=dir_images, dpi=300, fmt='jpg')\n",
    "                    temp_files = [image.filename for image in images]\n",
    "                    for i,f in enumerate(temp_files):\n",
    "                        if len(temp_files)==1:\n",
    "                            os.rename(f,\"{}/{}.jpg\".format(dir_images,file[:-4]))\n",
    "                        else:\n",
    "                            os.rename(f,\"{}/{}-{}.jpg\".format(dir_images,file[:-4],i+1))"
   ]
  },
  {
   "cell_type": "code",
   "execution_count": 6,
   "metadata": {},
   "outputs": [
    {
     "name": "stdout",
     "output_type": "stream",
     "text": [
      "Working on training\n",
      "==========================\n",
      "Working on evalation\n",
      "==========================\n",
      "Working on validation\n",
      "==========================\n"
     ]
    }
   ],
   "source": [
    "dir_ids = {}\n",
    "for parent_dir in DIRS:\n",
    "    print(\"Working on %s\" % parent_dir)\n",
    "    print(\"==========================\")\n",
    "    dir_pdf = 'scripts/%s/pdfs' % parent_dir\n",
    "    dir_notes = 'scripts/%s/notes' % parent_dir\n",
    "    id_list = set()\n",
    "    for subdir, _, files in os.walk(dir_notes):\n",
    "        for file in files:\n",
    "            id_list.add((file[:-4]))\n",
    "    dir_ids[parent_dir] = id_list"
   ]
  },
  {
   "cell_type": "code",
   "execution_count": 7,
   "metadata": {},
   "outputs": [],
   "source": [
    "DIRS = [\"training\",\"evalation\",\"validation\"]"
   ]
  },
  {
   "cell_type": "code",
   "execution_count": 8,
   "metadata": {},
   "outputs": [],
   "source": [
    "def load_images(image_list):\n",
    "    images = []\n",
    "    for i in image_list:\n",
    "        c_img = np.expand_dims(KImage.img_to_array(KImage.load_img(i, target_size = (224, 224))), axis = 0)\n",
    "        images.append(c_img)\n",
    "    return preprocess_input(np.vstack(images))"
   ]
  },
  {
   "cell_type": "code",
   "execution_count": 9,
   "metadata": {},
   "outputs": [],
   "source": [
    "def image_generator(fnames, batch_size):\n",
    "    while True: #Keras generators need to loop forever for some reason...\n",
    "        cfns = []\n",
    "        for i, p in enumerate(fnames):\n",
    "            cfns.append(p)\n",
    "            if len(cfns) == batch_size:\n",
    "                yield load_images(cfns)\n",
    "                cfns = []\n",
    "        if len(cfns) != 0:\n",
    "            yield load_images(cfns)\n",
    "            cfns = []"
   ]
  },
  {
   "cell_type": "code",
   "execution_count": 10,
   "metadata": {},
   "outputs": [
    {
     "name": "stderr",
     "output_type": "stream",
     "text": [
      "/Users/ilanfilonenko/6700/mono-MusicXML-dataset/venv/lib/python3.6/site-packages/ipykernel_launcher.py:6: UserWarning: Update your `Model` call to the Keras 2 API: `Model(inputs=Tensor(\"in..., outputs=Tensor(\"av...)`\n",
      "  \n"
     ]
    },
    {
     "name": "stdout",
     "output_type": "stream",
     "text": [
      "_________________________________________________________________\n",
      "Layer (type)                 Output Shape              Param #   \n",
      "=================================================================\n",
      "model_1 (Model)              (None, 1, 1, 2048)        23587712  \n",
      "_________________________________________________________________\n",
      "flatten_2 (Flatten)          (None, 2048)              0         \n",
      "=================================================================\n",
      "Total params: 23,587,712\n",
      "Trainable params: 23,534,592\n",
      "Non-trainable params: 53,120\n",
      "_________________________________________________________________\n"
     ]
    }
   ],
   "source": [
    "base_model = ResNet50()\n",
    "base_model.trainable = False\n",
    "image_model = Sequential()\n",
    "\n",
    "image_model.add(Model(input = base_model.input,\n",
    "                      output=base_model.get_layer('avg_pool').output))\n",
    "image_model.add(Flatten())\n",
    "\n",
    "image_model.summary()"
   ]
  },
  {
   "cell_type": "code",
   "execution_count": 11,
   "metadata": {},
   "outputs": [],
   "source": [
    "regex = re.compile('([0-9]+)-([0-9]+).jpg')\n",
    "def build_vector_features(base_model,output_dir,file_list):\n",
    "    all_ids = []\n",
    "    all_paths = []\n",
    "    for subdir, _, files in os.walk(file_list):\n",
    "        for i,file in enumerate(files):\n",
    "            if not bool(regex.search(file)):\n",
    "                all_ids.append(file[:-4])\n",
    "                all_paths.append(os.path.join(subdir, file))\n",
    "    fpath = \"{}/vectors.out\".format(output_dir)\n",
    "    print(\"Extracting from {} files\".format(len(all_paths)))\n",
    "    print('Saving to {}'.format(fpath))\n",
    "    gen = image_generator(all_paths, 1)\n",
    "    feats = image_model.predict_generator(gen, len(all_paths),use_multiprocessing=True,verbose=1)\n",
    "    np.savetxt(fpath,feats)\n",
    "    return all_ids"
   ]
  },
  {
   "cell_type": "code",
   "execution_count": 156,
   "metadata": {},
   "outputs": [],
   "source": [
    "def grab_ids(file_list):\n",
    "    all_ids = []\n",
    "    for subdir, _, files in os.walk(file_list):\n",
    "        for i,file in enumerate(files):\n",
    "            if not bool(regex.search(file)):\n",
    "                all_ids.append(file[:-4])\n",
    "    return all_ids"
   ]
  },
  {
   "cell_type": "code",
   "execution_count": 157,
   "metadata": {},
   "outputs": [
    {
     "name": "stdout",
     "output_type": "stream",
     "text": [
      "Working on training\n",
      "==========================\n",
      "Working on evalation\n",
      "==========================\n",
      "Working on validation\n",
      "==========================\n"
     ]
    }
   ],
   "source": [
    "id_dir = {}\n",
    "for i,parent_dir in enumerate(DIRS):\n",
    "    print(\"Working on %s\" % parent_dir)\n",
    "    print(\"==========================\")\n",
    "    output_dir = 'scripts/%s' % parent_dir\n",
    "    dir_imgs = '%s/images' % output_dir\n",
    "    id_dir[DIRS[i]] = grab_ids(dir_imgs)"
   ]
  },
  {
   "cell_type": "code",
   "execution_count": 14,
   "metadata": {},
   "outputs": [],
   "source": [
    "# id_dir = {}\n",
    "# for i,parent_dir in enumerate(DIRS):\n",
    "#     print(\"Working on %s\" % parent_dir)\n",
    "#     print(\"==========================\")\n",
    "#     output_dir = 'scripts/%s' % parent_dir\n",
    "#     dir_imgs = '%s/images' % output_dir\n",
    "#     id_dir[DIRS[i]] = build_vector_features(base_model,output_dir,dir_imgs)"
   ]
  },
  {
   "cell_type": "code",
   "execution_count": 243,
   "metadata": {},
   "outputs": [],
   "source": [
    "training_data = np.loadtxt(\"scripts/training/vectors.out\")\n",
    "evaluation_data = np.loadtxt(\"scripts/evalation/vectors.out\")\n",
    "validation_data = np.loadtxt(\"scripts/validation/vectors.out\")"
   ]
  },
  {
   "cell_type": "code",
   "execution_count": 252,
   "metadata": {},
   "outputs": [
    {
     "data": {
      "text/plain": [
       "array([[ 0,  1,  2,  3],\n",
       "       [ 4,  5,  6,  7],\n",
       "       [16, 17, 18, 19]])"
      ]
     },
     "execution_count": 252,
     "metadata": {},
     "output_type": "execute_result"
    }
   ],
   "source": [
    "a = np.arange(20).reshape((5,4))\n",
    "a[np.ix_([0,1,4],)]"
   ]
  },
  {
   "cell_type": "code",
   "execution_count": 16,
   "metadata": {},
   "outputs": [],
   "source": [
    "def note_check(note):\n",
    "    pitch,octave = note.split(\"_\")\n",
    "    if pitch == \"Cb\":\n",
    "        pitch = \"B\"\n",
    "    elif pitch == \"Bs\":\n",
    "        pitch = \"C\"\n",
    "    elif pitch == \"Es\":\n",
    "        pitch = \"F\"\n",
    "    elif pitch == \"Fb\":\n",
    "        pitch = \"E\"\n",
    "    return \"{}_{}\".format(pitch.replace(\"sb\",\"\").replace(\"bs\",\"\"),octave)\n",
    "def parser(note):\n",
    "    indx = re.search(r\"[0-9]\", note).start()\n",
    "    return note_check(note[:indx].replace(\"#\",\"s\").replace(\"-\",\"b\") + \"_\" + note[indx:])\n",
    "def parse_val(v):\n",
    "    try:\n",
    "        new_v = float(v)\n",
    "    except ValueError:\n",
    "        new_v = float(Fraction(v))\n",
    "    return new_v"
   ]
  },
  {
   "cell_type": "code",
   "execution_count": 185,
   "metadata": {},
   "outputs": [],
   "source": [
    "flatten = lambda l: [item for sublist in l for item in sublist]\n",
    "import csv\n",
    "def build_data(data_type):\n",
    "    training_data = []\n",
    "    good_ids = []\n",
    "    for file_name in id_dir[data_type]:\n",
    "        with open('scripts/{}/pitchNotes/{}.csv'.format(data_type,file_name),'r') as f:\n",
    "            intermediate = [[float(tuple(line)[0]),parse_val((tuple(line)[1]))] for line in csv.reader(f)]\n",
    "            if len(intermediate) > 0:\n",
    "                training_data.append(intermediate)\n",
    "                good_ids.append(file_name)\n",
    "    return (training_data,np.array(flatten(training_data)),good_ids)"
   ]
  },
  {
   "cell_type": "code",
   "execution_count": 186,
   "metadata": {},
   "outputs": [],
   "source": [
    "training_results,flattened_training_results,training_good_ids = build_data(\"training\")"
   ]
  },
  {
   "cell_type": "code",
   "execution_count": 187,
   "metadata": {},
   "outputs": [],
   "source": [
    "validation_results,flattened_validation_results,validation_good_ids = build_data(\"validation\")"
   ]
  },
  {
   "cell_type": "code",
   "execution_count": 188,
   "metadata": {},
   "outputs": [],
   "source": [
    "evaluation_results,flattened_evaluation_results,evaluation_good_ids = build_data(\"evalation\")"
   ]
  },
  {
   "cell_type": "code",
   "execution_count": 191,
   "metadata": {},
   "outputs": [
    {
     "data": {
      "text/plain": [
       "array([67., 68., 67., ..., 65., 64., 62.])"
      ]
     },
     "execution_count": 191,
     "metadata": {},
     "output_type": "execute_result"
    }
   ],
   "source": [
    "flattened_training_results[:,0]"
   ]
  },
  {
   "cell_type": "code",
   "execution_count": 192,
   "metadata": {},
   "outputs": [
    {
     "data": {
      "text/plain": [
       "array([67., 68., 67., 66., 67.])"
      ]
     },
     "execution_count": 192,
     "metadata": {},
     "output_type": "execute_result"
    }
   ],
   "source": [
    "flattened_training_results[:,0][0:5]"
   ]
  },
  {
   "cell_type": "code",
   "execution_count": 193,
   "metadata": {},
   "outputs": [
    {
     "data": {
      "text/plain": [
       "array([[67.,  4.],\n",
       "       [68.,  1.],\n",
       "       [67.,  1.],\n",
       "       [66.,  1.],\n",
       "       [67.,  1.]])"
      ]
     },
     "execution_count": 193,
     "metadata": {},
     "output_type": "execute_result"
    }
   ],
   "source": [
    "flattened_training_results[0:5]"
   ]
  },
  {
   "cell_type": "code",
   "execution_count": 194,
   "metadata": {},
   "outputs": [
    {
     "data": {
      "text/plain": [
       "LabelBinarizer(neg_label=0, pos_label=1, sparse_output=False)"
      ]
     },
     "execution_count": 194,
     "metadata": {},
     "output_type": "execute_result"
    }
   ],
   "source": [
    "lb_pitch = LabelBinarizer()\n",
    "lb_pitch.fit(np.concatenate((np.concatenate((flattened_training_results[:,0],\\\n",
    "                            flattened_validation_results[:,0])),\n",
    "                            flattened_evaluation_results[:,0])))\n",
    "le_duration = LabelEncoder()\n",
    "le_duration.fit(np.concatenate((np.concatenate((flattened_training_results[:,1],\\\n",
    "                            flattened_validation_results[:,1])),\n",
    "                            flattened_evaluation_results[:,1])))\n",
    "lb_duration = LabelBinarizer()\n",
    "lb_duration.fit([le_duration.transform([r])[0] for r in \\\n",
    "                 np.concatenate((np.concatenate((flattened_training_results[:,1],\n",
    "                                               flattened_validation_results[:,1])),\n",
    "                                flattened_evaluation_results[:,1]))])"
   ]
  },
  {
   "cell_type": "code",
   "execution_count": 197,
   "metadata": {},
   "outputs": [],
   "source": [
    "def encode_pitch_duration(pd):\n",
    "    return np.concatenate((lb_pitch.transform([pd[0]])[0]\\\n",
    "                           ,lb_duration.transform(le_duration.transform([pd[1]]))[0]))\n",
    "def decode_pitch_duration(one_hot):\n",
    "    INDX = 122\n",
    "    return [lb_pitch.inverse_transform(np.array([one_hot[:INDX]])),\\\n",
    "            le_duration.inverse_transform(lb_duration.inverse_transform(np.array([one_hot[INDX:]])))]"
   ]
  },
  {
   "cell_type": "code",
   "execution_count": 987,
   "metadata": {},
   "outputs": [
    {
     "data": {
      "text/plain": [
       "(665,)"
      ]
     },
     "execution_count": 987,
     "metadata": {},
     "output_type": "execute_result"
    }
   ],
   "source": [
    "decode_pitch_duration(encode_pitch_duration([44.,0.5]))"
   ]
  },
  {
   "cell_type": "code",
   "execution_count": 369,
   "metadata": {},
   "outputs": [],
   "source": [
    "stop_state = np.zeros((1,666))\n",
    "stop_state[0][665] = 1."
   ]
  },
  {
   "cell_type": "code",
   "execution_count": 370,
   "metadata": {},
   "outputs": [],
   "source": [
    "one_hot_training_data = []\n",
    "for s in training_results:\n",
    "    one_hot_training_data.append(np.array([np.append(encode_pitch_duration(tup),0) for tup in s]))\n",
    "one_hot_training_data = np.array(one_hot_training_data)"
   ]
  },
  {
   "cell_type": "code",
   "execution_count": 371,
   "metadata": {},
   "outputs": [],
   "source": [
    "one_hot_validation_data = []\n",
    "for s in validation_results:\n",
    "    one_hot_validation_data.append(np.array([np.append(encode_pitch_duration(tup),0) for tup in s]))\n",
    "one_hot_validation_data = np.array(one_hot_validation_data)"
   ]
  },
  {
   "cell_type": "code",
   "execution_count": 372,
   "metadata": {},
   "outputs": [],
   "source": [
    "one_hot_evaluation_data = []\n",
    "for s in evaluation_results:\n",
    "    one_hot_evaluation_data.append(np.array([np.append(encode_pitch_duration(tup),0) for tup in s]))\n",
    "one_hot_evaluation_data = np.array(one_hot_evaluation_data)"
   ]
  },
  {
   "cell_type": "code",
   "execution_count": 373,
   "metadata": {},
   "outputs": [],
   "source": [
    "def shorten(input_mat):\n",
    "    return np.array([row[:400] for row in input_mat])"
   ]
  },
  {
   "cell_type": "code",
   "execution_count": 374,
   "metadata": {},
   "outputs": [],
   "source": [
    "training_output_data = shorten(one_hot_training_data)\n",
    "validation_output_data = shorten(one_hot_validation_data)\n",
    "evaluation_output_data = shorten(one_hot_validation_data)"
   ]
  },
  {
   "cell_type": "code",
   "execution_count": 375,
   "metadata": {},
   "outputs": [],
   "source": [
    "%matplotlib inline\n",
    "import matplotlib.pyplot as plt "
   ]
  },
  {
   "cell_type": "code",
   "execution_count": 376,
   "metadata": {},
   "outputs": [
    {
     "data": {
      "image/png": "[encoded data removed]",
      "text/plain": [
       "<Figure size 432x288 with 1 Axes>"
      ]
     },
     "metadata": {},
     "output_type": "display_data"
    }
   ],
   "source": [
    "plt.hist([ a.shape[0] for a in training_output_data])\n",
    "plt.show()"
   ]
  },
  {
   "cell_type": "code",
   "execution_count": 377,
   "metadata": {},
   "outputs": [
    {
     "data": {
      "image/png": "[encoded data removed]",
      "text/plain": [
       "<Figure size 432x288 with 1 Axes>"
      ]
     },
     "metadata": {},
     "output_type": "display_data"
    }
   ],
   "source": [
    "plt.hist([ a.shape[0] for a in validation_output_data])\n",
    "plt.show()"
   ]
  },
  {
   "cell_type": "code",
   "execution_count": 378,
   "metadata": {},
   "outputs": [
    {
     "data": {
      "image/png": "[encoded data removed]",
      "text/plain": [
       "<Figure size 432x288 with 1 Axes>"
      ]
     },
     "metadata": {},
     "output_type": "display_data"
    }
   ],
   "source": [
    "plt.hist([ a.shape[0] for a in evaluation_output_data])\n",
    "plt.show()"
   ]
  },
  {
   "cell_type": "code",
   "execution_count": 379,
   "metadata": {},
   "outputs": [],
   "source": [
    "def build_encoder_decoder(\n",
    "    NUM_IMAGE_VEC_DIM = 2048,\n",
    "    N = 1,\n",
    "    L = 400,\n",
    "    LSTM_INPUT_SIZE = 256,\n",
    "    DECODER_SIZE = 666,\n",
    "    DECODER_OUTPUT = 666):   \n",
    "    # Input is a 2 dimensional array of size (n,2048).\n",
    "    encoder_inputs = Input(shape=(N,NUM_IMAGE_VEC_DIM))\n",
    "    # Input into Dense(256) layer which will turn (n,2048) into (n,256)\n",
    "    image_dense = TimeDistributed(Dense(LSTM_INPUT_SIZE))\n",
    "    image_dense_input = image_dense(encoder_inputs)\n",
    "    encoder = LSTM(LSTM_INPUT_SIZE, return_state=True)\n",
    "    encoder_outputs, state_h, state_c = encoder(image_dense_input)\n",
    "    # We discard `encoder_outputs` and only keep the states.\n",
    "    encoder_states = [state_h, state_c]\n",
    "    decoder_inputs = Input(shape=(L,DECODER_SIZE))\n",
    "    inv_image_dense = TimeDistributed(Dense(LSTM_INPUT_SIZE))\n",
    "    decoder_lstm = LSTM(LSTM_INPUT_SIZE, return_sequences=True, return_state=True)\n",
    "    # Set up the decoder, using `encoder_states` as initial state.\n",
    "    decoder_outputs, _, _ = decoder_lstm(inv_image_dense(decoder_inputs),\n",
    "                                         initial_state=encoder_states)\n",
    "    # Softmax because it is multi-class classification\n",
    "    decoder_dense = Dense(DECODER_OUTPUT, activation='softmax')\n",
    "    decoder_outputs = decoder_dense(decoder_outputs)\n",
    "    return Model([encoder_inputs, decoder_inputs], decoder_outputs)"
   ]
  },
  {
   "cell_type": "code",
   "execution_count": 380,
   "metadata": {},
   "outputs": [],
   "source": [
    "ec_model = build_encoder_decoder()"
   ]
  },
  {
   "cell_type": "code",
   "execution_count": 381,
   "metadata": {},
   "outputs": [
    {
     "name": "stdout",
     "output_type": "stream",
     "text": [
      "__________________________________________________________________________________________________\n",
      "Layer (type)                    Output Shape         Param #     Connected to                     \n",
      "==================================================================================================\n",
      "input_27 (InputLayer)           (None, 1, 2048)      0                                            \n",
      "__________________________________________________________________________________________________\n",
      "input_28 (InputLayer)           (None, 400, 666)     0                                            \n",
      "__________________________________________________________________________________________________\n",
      "time_distributed_26 (TimeDistri (None, 1, 256)       524544      input_27[0][0]                   \n",
      "__________________________________________________________________________________________________\n",
      "time_distributed_27 (TimeDistri (None, 400, 256)     170752      input_28[0][0]                   \n",
      "__________________________________________________________________________________________________\n",
      "lstm_26 (LSTM)                  [(None, 256), (None, 525312      time_distributed_26[0][0]        \n",
      "__________________________________________________________________________________________________\n",
      "lstm_27 (LSTM)                  [(None, 400, 256), ( 525312      time_distributed_27[0][0]        \n",
      "                                                                 lstm_26[0][1]                    \n",
      "                                                                 lstm_26[0][2]                    \n",
      "__________________________________________________________________________________________________\n",
      "dense_37 (Dense)                (None, 400, 666)     171162      lstm_27[0][0]                    \n",
      "==================================================================================================\n",
      "Total params: 1,917,082\n",
      "Trainable params: 1,917,082\n",
      "Non-trainable params: 0\n",
      "__________________________________________________________________________________________________\n"
     ]
    }
   ],
   "source": [
    "ec_model.summary()"
   ]
  },
  {
   "cell_type": "code",
   "execution_count": 382,
   "metadata": {},
   "outputs": [],
   "source": [
    "ec_model.compile(optimizer='rmsprop', loss='categorical_crossentropy')"
   ]
  },
  {
   "cell_type": "code",
   "execution_count": 383,
   "metadata": {},
   "outputs": [],
   "source": [
    "middle_c = np.append(encode_pitch_duration([48.,1.0]),0)"
   ]
  },
  {
   "cell_type": "code",
   "execution_count": 387,
   "metadata": {},
   "outputs": [],
   "source": [
    "inv_id_training = {k:i for i,k in enumerate(id_dir[\"training\"])}\n",
    "inv_id_validation = {k:i for i,k in enumerate(id_dir[\"validation\"])}\n",
    "inv_id_evaluation = {k:i for i,k in enumerate(id_dir[\"evalation\"])}"
   ]
  },
  {
   "cell_type": "code",
   "execution_count": 388,
   "metadata": {},
   "outputs": [],
   "source": [
    "new_training_data_vectors = training_data[np.ix_([inv_id_training[k] for k in training_good_ids],)]\n",
    "new_validation_data_vectors = validation_data[np.ix_([inv_id_validation[k] for k in validation_good_ids],)]\n",
    "new_evaluation_data_vectors = evaluation_data[np.ix_([inv_id_evaluation[k] for k in evaluation_good_ids],)]"
   ]
  },
  {
   "cell_type": "code",
   "execution_count": 389,
   "metadata": {},
   "outputs": [],
   "source": [
    "encoder_input_data_training = np.array([k.reshape(1,2048) for k in new_training_data_vectors])\n",
    "encoder_input_data_validation = np.array([k.reshape(1,2048) for k in new_validation_data_vectors])\n",
    "encoder_input_data_evaluation = np.array([k.reshape(1,2048) for k in new_evaluation_data_vectors])"
   ]
  },
  {
   "cell_type": "code",
   "execution_count": 471,
   "metadata": {},
   "outputs": [
    {
     "data": {
      "text/plain": [
       "(1513, 1, 2048)"
      ]
     },
     "execution_count": 471,
     "metadata": {},
     "output_type": "execute_result"
    }
   ],
   "source": [
    "encoder_input_data_evaluation.shape"
   ]
  },
  {
   "cell_type": "code",
   "execution_count": 442,
   "metadata": {},
   "outputs": [],
   "source": [
    "def padding(input_mat,N=400):\n",
    "    (num_rows,vec_size) = input_mat.shape\n",
    "    num_to_pad = N-num_rows\n",
    "    if (num_to_pad == 0):\n",
    "        return input_mat\n",
    "    elif (num_to_pad > 0):\n",
    "        return np.vstack((input_mat,np.zeros((num_to_pad,vec_size))))\n",
    "    else:\n",
    "        return input_mat[:N]"
   ]
  },
  {
   "cell_type": "code",
   "execution_count": 443,
   "metadata": {},
   "outputs": [],
   "source": [
    "decoder_input_data_training = np.array([padding(np.vstack((k[1:],stop_state))) for k in one_hot_training_data])\n",
    "decoder_output_data_training = np.array([padding(np.vstack((middle_c,k[:-1]))) for k in one_hot_training_data])"
   ]
  },
  {
   "cell_type": "code",
   "execution_count": 473,
   "metadata": {},
   "outputs": [],
   "source": [
    "decoder_input_data_validation = np.array([padding(np.vstack((k[1:],stop_state))) for k in one_hot_validation_data])\n",
    "decoder_output_data_validation = np.array([padding(np.vstack((middle_c,k[:-1]))) for k in one_hot_validation_data])"
   ]
  },
  {
   "cell_type": "code",
   "execution_count": 481,
   "metadata": {},
   "outputs": [],
   "source": [
    "decoder_input_data_evaluation = np.array([padding(np.vstack((k[1:],stop_state))) for k in one_hot_evaluation_data])\n",
    "decoder_output_data_evaluation = np.array([padding(np.vstack((middle_c,k[:-1]))) for k in one_hot_evaluation_data])"
   ]
  },
  {
   "cell_type": "code",
   "execution_count": 447,
   "metadata": {},
   "outputs": [
    {
     "name": "stdout",
     "output_type": "stream",
     "text": [
      "(6012, 1, 2048)\n",
      "(6012, 400, 666)\n",
      "(6012, 400, 666)\n"
     ]
    }
   ],
   "source": [
    "print(training_data_vectors.shape)\n",
    "print(decoder_input_data_training.shape)\n",
    "print(decoder_output_data_training.shape)"
   ]
  },
  {
   "cell_type": "code",
   "execution_count": 477,
   "metadata": {},
   "outputs": [],
   "source": [
    "ec_model_2 = build_encoder_decoder()"
   ]
  },
  {
   "cell_type": "code",
   "execution_count": 479,
   "metadata": {},
   "outputs": [],
   "source": [
    "ec_model_2.compile(optimizer='rmsprop', loss='categorical_crossentropy')"
   ]
  },
  {
   "cell_type": "code",
   "execution_count": 480,
   "metadata": {},
   "outputs": [
    {
     "name": "stdout",
     "output_type": "stream",
     "text": [
      "Train on 6012 samples, validate on 2497 samples\n",
      "Epoch 1/50\n",
      "6012/6012 [==============================] - 485s 81ms/step - loss: 2.3322 - val_loss: 2.0088\n",
      "Epoch 2/50\n",
      "6012/6012 [==============================] - 483s 80ms/step - loss: 2.0052 - val_loss: 1.8849\n",
      "Epoch 3/50\n",
      "6012/6012 [==============================] - 482s 80ms/step - loss: 1.8840 - val_loss: 1.7842\n",
      "Epoch 4/50\n",
      "6012/6012 [==============================] - 485s 81ms/step - loss: 1.7305 - val_loss: 1.6458\n",
      "Epoch 5/50\n",
      "6012/6012 [==============================] - 486s 81ms/step - loss: 1.5792 - val_loss: 1.4887\n",
      "Epoch 6/50\n",
      "6012/6012 [==============================] - 485s 81ms/step - loss: 1.4678 - val_loss: 1.3724\n",
      "Epoch 7/50\n",
      "6012/6012 [==============================] - 482s 80ms/step - loss: 1.3691 - val_loss: 1.3160\n",
      "Epoch 8/50\n",
      "6012/6012 [==============================] - 484s 80ms/step - loss: 1.2849 - val_loss: 1.2360\n",
      "Epoch 9/50\n",
      "6012/6012 [==============================] - 489s 81ms/step - loss: 1.2140 - val_loss: 1.1534\n",
      "Epoch 10/50\n",
      "6012/6012 [==============================] - 489s 81ms/step - loss: 1.1526 - val_loss: 1.1049\n",
      "Epoch 11/50\n",
      "6012/6012 [==============================] - 486s 81ms/step - loss: 1.0908 - val_loss: 1.0353\n",
      "Epoch 12/50\n",
      "6012/6012 [==============================] - 492s 82ms/step - loss: 1.0319 - val_loss: 0.9678\n",
      "Epoch 13/50\n",
      "6012/6012 [==============================] - 483s 80ms/step - loss: 0.9673 - val_loss: 0.9072\n",
      "Epoch 14/50\n",
      "6012/6012 [==============================] - 486s 81ms/step - loss: 0.8954 - val_loss: 0.8436\n",
      "Epoch 15/50\n",
      "6012/6012 [==============================] - 489s 81ms/step - loss: 0.8317 - val_loss: 0.7781\n",
      "Epoch 16/50\n",
      "6012/6012 [==============================] - 489s 81ms/step - loss: 0.7698 - val_loss: 0.7190\n",
      "Epoch 17/50\n",
      "6012/6012 [==============================] - 485s 81ms/step - loss: 0.7150 - val_loss: 0.6629\n",
      "Epoch 18/50\n",
      "6012/6012 [==============================] - 486s 81ms/step - loss: 0.6634 - val_loss: 0.6281\n",
      "Epoch 19/50\n",
      "6012/6012 [==============================] - 486s 81ms/step - loss: 0.6195 - val_loss: 0.5823\n",
      "Epoch 20/50\n",
      "6012/6012 [==============================] - 491s 82ms/step - loss: 0.5864 - val_loss: 0.5999\n",
      "Epoch 21/50\n",
      "6012/6012 [==============================] - 486s 81ms/step - loss: 0.5677 - val_loss: 0.5457\n",
      "Epoch 22/50\n",
      "6012/6012 [==============================] - 490s 82ms/step - loss: 0.5499 - val_loss: 0.5301\n",
      "Epoch 23/50\n",
      "6012/6012 [==============================] - 483s 80ms/step - loss: 0.5374 - val_loss: 0.5150\n",
      "Epoch 24/50\n",
      "6012/6012 [==============================] - 487s 81ms/step - loss: 0.5287 - val_loss: 0.5135\n",
      "Epoch 25/50\n",
      "6012/6012 [==============================] - 484s 80ms/step - loss: 0.5199 - val_loss: 0.5085\n",
      "Epoch 26/50\n",
      "6012/6012 [==============================] - 487s 81ms/step - loss: 0.5147 - val_loss: 0.4965\n",
      "Epoch 27/50\n",
      "6012/6012 [==============================] - 490s 81ms/step - loss: 0.5073 - val_loss: 0.4983\n",
      "Epoch 28/50\n",
      "6012/6012 [==============================] - 487s 81ms/step - loss: 0.5035 - val_loss: 0.4855\n",
      "Epoch 29/50\n",
      "6012/6012 [==============================] - 486s 81ms/step - loss: 0.4979 - val_loss: 0.4799\n",
      "Epoch 30/50\n",
      "6012/6012 [==============================] - 485s 81ms/step - loss: 0.4960 - val_loss: 0.4773\n",
      "Epoch 31/50\n",
      "6012/6012 [==============================] - 486s 81ms/step - loss: 0.4905 - val_loss: 0.4755\n",
      "Epoch 32/50\n",
      "6012/6012 [==============================] - 485s 81ms/step - loss: 0.4878 - val_loss: 0.4710\n",
      "Epoch 33/50\n",
      "6012/6012 [==============================] - 487s 81ms/step - loss: 0.4858 - val_loss: 0.4722\n",
      "Epoch 34/50\n",
      "6012/6012 [==============================] - 492s 82ms/step - loss: 0.4835 - val_loss: 0.4743\n",
      "Epoch 35/50\n",
      "6012/6012 [==============================] - 489s 81ms/step - loss: 0.4812 - val_loss: 0.4692\n",
      "Epoch 36/50\n",
      "6012/6012 [==============================] - 483s 80ms/step - loss: 0.4796 - val_loss: 0.4726\n",
      "Epoch 37/50\n",
      "6012/6012 [==============================] - 485s 81ms/step - loss: 0.4772 - val_loss: 0.4646\n",
      "Epoch 38/50\n",
      "6012/6012 [==============================] - 485s 81ms/step - loss: 0.4765 - val_loss: 0.4633\n",
      "Epoch 39/50\n",
      "6012/6012 [==============================] - 483s 80ms/step - loss: 0.4736 - val_loss: 0.4604\n",
      "Epoch 40/50\n",
      "6012/6012 [==============================] - 487s 81ms/step - loss: 0.4736 - val_loss: 0.4595\n",
      "Epoch 41/50\n",
      "6012/6012 [==============================] - 491s 82ms/step - loss: 0.4720 - val_loss: 0.4601\n",
      "Epoch 42/50\n",
      "6012/6012 [==============================] - 485s 81ms/step - loss: 0.4700 - val_loss: 0.4589\n",
      "Epoch 43/50\n",
      "6012/6012 [==============================] - 485s 81ms/step - loss: 0.4699 - val_loss: 0.4617\n",
      "Epoch 44/50\n",
      "6012/6012 [==============================] - 489s 81ms/step - loss: 0.4679 - val_loss: 0.4577\n",
      "Epoch 45/50\n",
      "6012/6012 [==============================] - 465s 77ms/step - loss: 0.4678 - val_loss: 0.4539\n",
      "Epoch 46/50\n",
      "6012/6012 [==============================] - 462s 77ms/step - loss: 0.4668 - val_loss: 0.4516\n",
      "Epoch 47/50\n",
      "6012/6012 [==============================] - 474s 79ms/step - loss: 0.4647 - val_loss: 0.4524\n",
      "Epoch 48/50\n",
      "6012/6012 [==============================] - 481s 80ms/step - loss: 0.4654 - val_loss: 0.4527\n",
      "Epoch 49/50\n",
      "6012/6012 [==============================] - 489s 81ms/step - loss: 0.4641 - val_loss: 0.4497\n",
      "Epoch 50/50\n",
      "6012/6012 [==============================] - 486s 81ms/step - loss: 0.4635 - val_loss: 0.4508\n"
     ]
    },
    {
     "data": {
      "text/plain": [
       "<keras.callbacks.History at 0x8a0f05630>"
      ]
     },
     "execution_count": 480,
     "metadata": {},
     "output_type": "execute_result"
    }
   ],
   "source": [
    "ec_model_2.fit([encoder_input_data_training,decoder_input_data_training], decoder_output_data_training,\n",
    "          batch_size=256,\n",
    "          epochs=50,\n",
    "          validation_data=([encoder_input_data_validation,decoder_input_data_validation],\\\n",
    "                          decoder_output_data_validation))"
   ]
  },
  {
   "cell_type": "code",
   "execution_count": 485,
   "metadata": {},
   "outputs": [
    {
     "name": "stdout",
     "output_type": "stream",
     "text": [
      "1513/1513 [==============================] - 29s 19ms/step\n"
     ]
    },
    {
     "data": {
      "text/plain": [
       "0.4519499409340583"
      ]
     },
     "execution_count": 485,
     "metadata": {},
     "output_type": "execute_result"
    }
   ],
   "source": [
    "ec_model_2.evaluate([encoder_input_data_evaluation,decoder_input_data_evaluation],\\\n",
    "                    decoder_output_data_evaluation,\\\n",
    "                    batch_size=256,\\\n",
    "                    verbose=1)"
   ]
  },
  {
   "cell_type": "code",
   "execution_count": 491,
   "metadata": {},
   "outputs": [
    {
     "name": "stdout",
     "output_type": "stream",
     "text": [
      "__________________________________________________________________________________________________\n",
      "Layer (type)                    Output Shape         Param #     Connected to                     \n",
      "==================================================================================================\n",
      "input_29 (InputLayer)           (None, 1, 2048)      0                                            \n",
      "__________________________________________________________________________________________________\n",
      "input_30 (InputLayer)           (None, 400, 666)     0                                            \n",
      "__________________________________________________________________________________________________\n",
      "time_distributed_28 (TimeDistri (None, 1, 256)       524544      input_29[0][0]                   \n",
      "__________________________________________________________________________________________________\n",
      "time_distributed_29 (TimeDistri (None, 400, 256)     170752      input_30[0][0]                   \n",
      "__________________________________________________________________________________________________\n",
      "lstm_28 (LSTM)                  [(None, 256), (None, 525312      time_distributed_28[0][0]        \n",
      "__________________________________________________________________________________________________\n",
      "lstm_29 (LSTM)                  [(None, 400, 256), ( 525312      time_distributed_29[0][0]        \n",
      "                                                                 lstm_28[0][1]                    \n",
      "                                                                 lstm_28[0][2]                    \n",
      "__________________________________________________________________________________________________\n",
      "dense_40 (Dense)                (None, 400, 666)     171162      lstm_29[0][0]                    \n",
      "==================================================================================================\n",
      "Total params: 1,917,082\n",
      "Trainable params: 1,917,082\n",
      "Non-trainable params: 0\n",
      "__________________________________________________________________________________________________\n"
     ]
    }
   ],
   "source": [
    "ec_model_2.summary()"
   ]
  },
  {
   "cell_type": "code",
   "execution_count": 474,
   "metadata": {},
   "outputs": [
    {
     "name": "stdout",
     "output_type": "stream",
     "text": [
      "Train on 6012 samples, validate on 2497 samples\n",
      "Epoch 1/25\n",
      "6012/6012 [==============================] - 572s 95ms/step - loss: 1.1809 - val_loss: 1.1062\n",
      "Epoch 2/25\n",
      "6012/6012 [==============================] - 546s 91ms/step - loss: 1.1138 - val_loss: 1.0417\n",
      "Epoch 3/25\n",
      "6012/6012 [==============================] - 538s 90ms/step - loss: 1.0494 - val_loss: 0.9829\n",
      "Epoch 4/25\n",
      "6012/6012 [==============================] - 529s 88ms/step - loss: 0.9769 - val_loss: 0.9203\n",
      "Epoch 5/25\n",
      "6012/6012 [==============================] - 541s 90ms/step - loss: 0.9054 - val_loss: 0.8456\n",
      "Epoch 6/25\n",
      "6012/6012 [==============================] - 545s 91ms/step - loss: 0.8387 - val_loss: 0.7862\n",
      "Epoch 7/25\n",
      "6012/6012 [==============================] - 544s 90ms/step - loss: 0.7782 - val_loss: 0.7348\n",
      "Epoch 8/25\n",
      "6012/6012 [==============================] - 1153s 192ms/step - loss: 0.7240 - val_loss: 0.6775\n",
      "Epoch 9/25\n",
      "6012/6012 [==============================] - 472s 79ms/step - loss: 0.6707 - val_loss: 0.6244\n",
      "Epoch 10/25\n",
      "6012/6012 [==============================] - 486s 81ms/step - loss: 0.6263 - val_loss: 0.6035\n",
      "Epoch 11/25\n",
      "6012/6012 [==============================] - 468s 78ms/step - loss: 0.5960 - val_loss: 0.5678\n",
      "Epoch 12/25\n",
      "6012/6012 [==============================] - 463s 77ms/step - loss: 0.5735 - val_loss: 0.5449\n",
      "Epoch 13/25\n",
      "6012/6012 [==============================] - 475s 79ms/step - loss: 0.5568 - val_loss: 0.5406\n",
      "Epoch 14/25\n",
      "6012/6012 [==============================] - 489s 81ms/step - loss: 0.5436 - val_loss: 0.5262\n",
      "Epoch 15/25\n",
      "6012/6012 [==============================] - 492s 82ms/step - loss: 0.5335 - val_loss: 0.5249\n",
      "Epoch 16/25\n",
      "6012/6012 [==============================] - 490s 81ms/step - loss: 0.5249 - val_loss: 0.5106\n",
      "Epoch 17/25\n",
      "6012/6012 [==============================] - 486s 81ms/step - loss: 0.5178 - val_loss: 0.5154\n",
      "Epoch 18/25\n",
      "6012/6012 [==============================] - 489s 81ms/step - loss: 0.5125 - val_loss: 0.4972\n",
      "Epoch 19/25\n",
      "6012/6012 [==============================] - 489s 81ms/step - loss: 0.5080 - val_loss: 0.4979\n",
      "Epoch 20/25\n",
      "6012/6012 [==============================] - 493s 82ms/step - loss: 0.5023 - val_loss: 0.4915\n",
      "Epoch 21/25\n",
      "6012/6012 [==============================] - 490s 81ms/step - loss: 0.4988 - val_loss: 0.4853\n",
      "Epoch 22/25\n",
      "6012/6012 [==============================] - 491s 82ms/step - loss: 0.4958 - val_loss: 0.4863\n",
      "Epoch 23/25\n",
      "6012/6012 [==============================] - 488s 81ms/step - loss: 0.4932 - val_loss: 0.4796\n",
      "Epoch 24/25\n",
      "6012/6012 [==============================] - 489s 81ms/step - loss: 0.4893 - val_loss: 0.4799\n",
      "Epoch 25/25\n",
      "6012/6012 [==============================] - 488s 81ms/step - loss: 0.4867 - val_loss: 0.4787\n"
     ]
    },
    {
     "data": {
      "text/plain": [
       "<keras.callbacks.History at 0x89d79cf60>"
      ]
     },
     "execution_count": 474,
     "metadata": {},
     "output_type": "execute_result"
    }
   ],
   "source": [
    "ec_model.fit([encoder_input_data_training,decoder_input_data_training], decoder_output_data_training,\n",
    "          batch_size=256,\n",
    "          epochs=25,\n",
    "          validation_data=([encoder_input_data_validation,decoder_input_data_validation],\\\n",
    "                          decoder_output_data_validation))"
   ]
  },
  {
   "cell_type": "code",
   "execution_count": 476,
   "metadata": {},
   "outputs": [
    {
     "name": "stderr",
     "output_type": "stream",
     "text": [
      "/Users/ilanfilonenko/6700/mono-MusicXML-dataset/venv/lib/python3.6/site-packages/keras/engine/topology.py:2368: UserWarning: Layer lstm_27 was passed non-serializable keyword arguments: {'initial_state': [<tf.Tensor 'lstm_26/while/Exit_2:0' shape=(?, 256) dtype=float32>, <tf.Tensor 'lstm_26/while/Exit_3:0' shape=(?, 256) dtype=float32>]}. They will not be included in the serialized model (and thus will be missing at deserialization time).\n",
      "  str(node.arguments) + '. They will not be included '\n"
     ]
    }
   ],
   "source": [
    "ec_model.save('initial_model_25.h5')"
   ]
  },
  {
   "cell_type": "code",
   "execution_count": 486,
   "metadata": {},
   "outputs": [
    {
     "name": "stderr",
     "output_type": "stream",
     "text": [
      "/Users/ilanfilonenko/6700/mono-MusicXML-dataset/venv/lib/python3.6/site-packages/keras/engine/topology.py:2368: UserWarning: Layer lstm_29 was passed non-serializable keyword arguments: {'initial_state': [<tf.Tensor 'lstm_28/while/Exit_2:0' shape=(?, 256) dtype=float32>, <tf.Tensor 'lstm_28/while/Exit_3:0' shape=(?, 256) dtype=float32>]}. They will not be included in the serialized model (and thus will be missing at deserialization time).\n",
      "  str(node.arguments) + '. They will not be included '\n"
     ]
    }
   ],
   "source": [
    "ec_model_2.save('initial_model_50.h5')"
   ]
  },
  {
   "cell_type": "code",
   "execution_count": 498,
   "metadata": {},
   "outputs": [
    {
     "name": "stdout",
     "output_type": "stream",
     "text": [
      "__________________________________________________________________________________________________\n",
      "Layer (type)                    Output Shape         Param #     Connected to                     \n",
      "==================================================================================================\n",
      "input_29 (InputLayer)           (None, 1, 2048)      0                                            \n",
      "__________________________________________________________________________________________________\n",
      "input_30 (InputLayer)           (None, 400, 666)     0                                            \n",
      "__________________________________________________________________________________________________\n",
      "time_distributed_28 (TimeDistri (None, 1, 256)       524544      input_29[0][0]                   \n",
      "__________________________________________________________________________________________________\n",
      "time_distributed_29 (TimeDistri (None, 400, 256)     170752      input_30[0][0]                   \n",
      "__________________________________________________________________________________________________\n",
      "lstm_28 (LSTM)                  [(None, 256), (None, 525312      time_distributed_28[0][0]        \n",
      "__________________________________________________________________________________________________\n",
      "lstm_29 (LSTM)                  [(None, 400, 256), ( 525312      time_distributed_29[0][0]        \n",
      "                                                                 lstm_28[0][1]                    \n",
      "                                                                 lstm_28[0][2]                    \n",
      "__________________________________________________________________________________________________\n",
      "dense_40 (Dense)                (None, 400, 666)     171162      lstm_29[0][0]                    \n",
      "==================================================================================================\n",
      "Total params: 1,917,082\n",
      "Trainable params: 1,917,082\n",
      "Non-trainable params: 0\n",
      "__________________________________________________________________________________________________\n"
     ]
    }
   ],
   "source": [
    "ec_model_2.summary()"
   ]
  },
  {
   "cell_type": "code",
   "execution_count": 638,
   "metadata": {},
   "outputs": [],
   "source": [
    "ec_model = load_model('initial_model_25.h5')\n",
    "ec_model_2 = load_model('initial_model_50.h5')"
   ]
  },
  {
   "cell_type": "code",
   "execution_count": 640,
   "metadata": {},
   "outputs": [
    {
     "name": "stdout",
     "output_type": "stream",
     "text": [
      "1513/1513 [==============================] - 39s 26ms/step\n"
     ]
    },
    {
     "data": {
      "text/plain": [
       "0.4519499409340583"
      ]
     },
     "execution_count": 640,
     "metadata": {},
     "output_type": "execute_result"
    }
   ],
   "source": [
    "ec_model_2.evaluate([encoder_input_data_evaluation,decoder_input_data_evaluation],\\\n",
    "                    decoder_output_data_evaluation,\\\n",
    "                    batch_size=256,\\\n",
    "                    verbose=1)"
   ]
  },
  {
   "cell_type": "code",
   "execution_count": 641,
   "metadata": {},
   "outputs": [
    {
     "name": "stdout",
     "output_type": "stream",
     "text": [
      "1513/1513 [==============================] - 35s 23ms/step\n"
     ]
    },
    {
     "data": {
      "text/plain": [
       "0.4791718912258577"
      ]
     },
     "execution_count": 641,
     "metadata": {},
     "output_type": "execute_result"
    }
   ],
   "source": [
    "ec_model.evaluate([encoder_input_data_evaluation,decoder_input_data_evaluation],\\\n",
    "                    decoder_output_data_evaluation,\\\n",
    "                    batch_size=256,\\\n",
    "                    verbose=1)"
   ]
  },
  {
   "cell_type": "markdown",
   "metadata": {},
   "source": [
    "# BEGIN LOOKING HERE"
   ]
  },
  {
   "cell_type": "code",
   "execution_count": 1064,
   "metadata": {},
   "outputs": [],
   "source": [
    "NUM_IMAGE_VEC_DIM = 2048\n",
    "N = 1\n",
    "L = 400\n",
    "LSTM_INPUT_SIZE = 256\n",
    "DECODER_SIZE = 666\n",
    "DECODER_OUTPUT = 666\n",
    "# Input is a 2 dimensional array of size (n,2048).\n",
    "encoder_inputs = Input(shape=(N,NUM_IMAGE_VEC_DIM))\n",
    "# Input into Dense(256) layer which will turn (n,2048) into (n,256)\n",
    "image_dense = TimeDistributed(Dense(LSTM_INPUT_SIZE))\n",
    "image_dense_input = image_dense(encoder_inputs)\n",
    "encoder = LSTM(LSTM_INPUT_SIZE, return_state=True)\n",
    "encoder_outputs, state_h, state_c = encoder(image_dense_input)\n",
    "# We discard `encoder_outputs` and only keep the states.\n",
    "encoder_states = [state_h, state_c]\n",
    "inv_image_dense = TimeDistributed(Dense(LSTM_INPUT_SIZE))\n",
    "decoder_lstm = LSTM(LSTM_INPUT_SIZE, return_sequences=True, return_state=True)\n",
    "decoder_inputs = Input(shape=(L,DECODER_SIZE))\n",
    "# Set up the decoder, using `encoder_states` as initial state.\n",
    "decoder_outputs, _, _ = decoder_lstm(inv_image_dense(decoder_inputs),\n",
    "                                     initial_state=encoder_states)\n",
    "# Softmax because it is multi-class classification\n",
    "decoder_dense = Dense(DECODER_OUTPUT, activation='softmax')\n",
    "decoder_outputs = decoder_dense(decoder_outputs)\n",
    "intro_model = Model([encoder_inputs, decoder_inputs], decoder_outputs)\n",
    "intro_model.compile(optimizer='rmsprop', loss='categorical_crossentropy')"
   ]
  },
  {
   "cell_type": "code",
   "execution_count": 1065,
   "metadata": {},
   "outputs": [],
   "source": [
    "# from IPython.display import SVG\n",
    "# from keras.utils.vis_utils import model_to_dot\n",
    "\n",
    "# SVG(model_to_dot(intro_model).create(prog='dot', format='svg'))"
   ]
  },
  {
   "cell_type": "code",
   "execution_count": 1066,
   "metadata": {},
   "outputs": [
    {
     "name": "stdout",
     "output_type": "stream",
     "text": [
      "Train on 6012 samples, validate on 2497 samples\n",
      "Epoch 1/25\n",
      "6012/6012 [==============================] - 545s 91ms/step - loss: 2.4181 - val_loss: 2.0278\n",
      "Epoch 2/25\n",
      "6012/6012 [==============================] - 550s 92ms/step - loss: 2.0546 - val_loss: 1.9349\n",
      "Epoch 3/25\n",
      "6012/6012 [==============================] - 523s 87ms/step - loss: 1.9542 - val_loss: 1.8875\n",
      "Epoch 4/25\n",
      "6012/6012 [==============================] - 2312s 385ms/step - loss: 1.8840 - val_loss: 1.7799\n",
      "Epoch 5/25\n",
      "6012/6012 [==============================] - 526s 87ms/step - loss: 1.7738 - val_loss: 1.6401\n",
      "Epoch 6/25\n",
      "6012/6012 [==============================] - 524s 87ms/step - loss: 1.6539 - val_loss: 1.5441\n",
      "Epoch 7/25\n",
      "6012/6012 [==============================] - 544s 90ms/step - loss: 1.5515 - val_loss: 1.4773\n",
      "Epoch 8/25\n",
      "6012/6012 [==============================] - 561s 93ms/step - loss: 1.4629 - val_loss: 1.3857\n",
      "Epoch 9/25\n",
      "6012/6012 [==============================] - 587s 98ms/step - loss: 1.3879 - val_loss: 1.3073\n",
      "Epoch 10/25\n",
      "6012/6012 [==============================] - 523s 87ms/step - loss: 1.3216 - val_loss: 1.2475\n",
      "Epoch 11/25\n",
      "6012/6012 [==============================] - 507s 84ms/step - loss: 1.2600 - val_loss: 1.1936\n",
      "Epoch 12/25\n",
      "6012/6012 [==============================] - 517s 86ms/step - loss: 1.2030 - val_loss: 1.1343\n",
      "Epoch 13/25\n",
      "6012/6012 [==============================] - 536s 89ms/step - loss: 1.1528 - val_loss: 1.0903\n",
      "Epoch 14/25\n",
      "6012/6012 [==============================] - 529s 88ms/step - loss: 1.1046 - val_loss: 1.0543\n",
      "Epoch 15/25\n",
      "6012/6012 [==============================] - 512s 85ms/step - loss: 1.0548 - val_loss: 0.9913\n",
      "Epoch 16/25\n",
      "6012/6012 [==============================] - 524s 87ms/step - loss: 1.0003 - val_loss: 0.9481\n",
      "Epoch 17/25\n",
      "6012/6012 [==============================] - 539s 90ms/step - loss: 0.9403 - val_loss: 0.8807\n",
      "Epoch 18/25\n",
      "6012/6012 [==============================] - 525s 87ms/step - loss: 0.8813 - val_loss: 0.8322\n",
      "Epoch 19/25\n",
      "6012/6012 [==============================] - 519s 86ms/step - loss: 0.8329 - val_loss: 0.7828\n",
      "Epoch 20/25\n",
      "6012/6012 [==============================] - 518s 86ms/step - loss: 0.7855 - val_loss: 0.7555\n",
      "Epoch 21/25\n",
      "6012/6012 [==============================] - 544s 91ms/step - loss: 0.7406 - val_loss: 0.6981\n",
      "Epoch 22/25\n",
      "6012/6012 [==============================] - 544s 91ms/step - loss: 0.6987 - val_loss: 0.6614\n",
      "Epoch 23/25\n",
      "6012/6012 [==============================] - 548s 91ms/step - loss: 0.6609 - val_loss: 0.6293\n",
      "Epoch 24/25\n",
      "6012/6012 [==============================] - 547s 91ms/step - loss: 0.6240 - val_loss: 0.5959\n",
      "Epoch 25/25\n",
      "6012/6012 [==============================] - 574s 95ms/step - loss: 0.6006 - val_loss: 0.5755\n"
     ]
    },
    {
     "data": {
      "text/plain": [
       "<keras.callbacks.History at 0x28d02e710>"
      ]
     },
     "execution_count": 1066,
     "metadata": {},
     "output_type": "execute_result"
    }
   ],
   "source": [
    "intro_model.fit([encoder_input_data_training,decoder_input_data_training], decoder_output_data_training,\n",
    "          batch_size=334,\n",
    "          epochs=25,\n",
    "          validation_data=([encoder_input_data_validation,decoder_input_data_validation],\\\n",
    "                          decoder_output_data_validation))"
   ]
  },
  {
   "cell_type": "code",
   "execution_count": 1067,
   "metadata": {},
   "outputs": [],
   "source": [
    "encoder_model = Model(encoder_inputs, encoder_states)\n",
    "decoder_state_input_h = Input(shape=(1,LSTM_INPUT_SIZE))\n",
    "decoder_state_input_c = Input(shape=(1,LSTM_INPUT_SIZE))\n",
    "decoder_states_inputs = [decoder_state_input_h, decoder_state_input_c]\n",
    "decoder_outputs, state_h_new, state_c_new = decoder_lstm(\n",
    "    inv_image_dense(decoder_inputs), initial_state=decoder_states_inputs)\n",
    "decoder_states = [state_h_new, state_c_new]\n",
    "decoder_outputs = decoder_dense(decoder_outputs)\n",
    "decoder_model = Model(\n",
    "    [decoder_inputs] + decoder_states_inputs,\n",
    "    [decoder_outputs] + decoder_states)"
   ]
  },
  {
   "cell_type": "code",
   "execution_count": 1068,
   "metadata": {},
   "outputs": [],
   "source": [
    "# intro_model.summary()"
   ]
  },
  {
   "cell_type": "code",
   "execution_count": 1069,
   "metadata": {},
   "outputs": [],
   "source": [
    "# Next: inference mode (sampling).\n",
    "# Here's the drill:\n",
    "# 1) encode input and retrieve initial decoder state\n",
    "# 2) run one step of decoder with this initial state\n",
    "# and a \"start of sequence\" token as target.\n",
    "# Output will be the next target token\n",
    "# 3) Repeat with the current target token and current states"
   ]
  },
  {
   "cell_type": "code",
   "execution_count": 1070,
   "metadata": {},
   "outputs": [
    {
     "data": {
      "text/plain": [
       "[<tf.Tensor 'input_104:0' shape=(?, 1, 256) dtype=float32>,\n",
       " <tf.Tensor 'input_105:0' shape=(?, 1, 256) dtype=float32>]"
      ]
     },
     "execution_count": 1070,
     "metadata": {},
     "output_type": "execute_result"
    }
   ],
   "source": [
    "decoder_states_inputs"
   ]
  },
  {
   "cell_type": "code",
   "execution_count": 1071,
   "metadata": {},
   "outputs": [
    {
     "data": {
      "text/plain": [
       "[<tf.Tensor 'lstm_53_1/while/Exit_2:0' shape=(?, 1, 256) dtype=float32>,\n",
       " <tf.Tensor 'lstm_53_1/while/Exit_3:0' shape=(?, 1, 256) dtype=float32>]"
      ]
     },
     "execution_count": 1071,
     "metadata": {},
     "output_type": "execute_result"
    }
   ],
   "source": [
    "decoder_states"
   ]
  },
  {
   "cell_type": "code",
   "execution_count": 1084,
   "metadata": {},
   "outputs": [],
   "source": [
    "decode_middle_c = middle_c.reshape(1,1,666)\n",
    "def decode_sequence(input_img):\n",
    "    # Encode the input as state vectors.\n",
    "    states_value = encoder_model.predict(input_img)\n",
    "    # Generate empty target sequence of length 400.\n",
    "    target_seq = np.tile(decode_middle_c,(400,1))\n",
    "    # Sampling loop for a batch of sequences\n",
    "    # (to simplify, here we assume a batch of size 1).\n",
    "    stop_condition = False\n",
    "    decoded_list = []\n",
    "    indx = 0\n",
    "    while not stop_condition:\n",
    "        output_tokens, h, c = decoder_model.predict(\n",
    "            [target_seq] + [states_value[0].reshape(1,1,256),states_value[1].reshape(1,1,256)])\n",
    "        max_indx = np.argmax(output_tokens[0][0])\n",
    "        curr_result = np.zeros((1,666))\n",
    "        curr_result[0][max_indx] = 1.0\n",
    "        # Exit condition: either hit max length\n",
    "        # or find stop character.\n",
    "        if ((curr_result==stop_state).all() or\\\n",
    "            len(decoded_list) >= 399):\n",
    "            stop_condition = True\n",
    "        tup_pair = decode_pitch_duration(curr_result[0][:-1])\n",
    "        decoded_list.append(tup_pair)\n",
    "        indx+=1\n",
    "        # Update the target sequence (of length 1).\n",
    "        target_seq = output_tokens\n",
    "        # Update states\n",
    "        states_value = [h, c]\n",
    "    return decoded_list"
   ]
  },
  {
   "cell_type": "code",
   "execution_count": 1085,
   "metadata": {},
   "outputs": [
    {
     "data": {
      "text/plain": [
       "'45308'"
      ]
     },
     "execution_count": 1085,
     "metadata": {},
     "output_type": "execute_result"
    }
   ],
   "source": [
    "evaluation_good_ids[3]"
   ]
  },
  {
   "cell_type": "code",
   "execution_count": 1086,
   "metadata": {},
   "outputs": [
    {
     "name": "stderr",
     "output_type": "stream",
     "text": [
      "/Users/ilanfilonenko/6700/mono-MusicXML-dataset/venv/lib/python3.6/site-packages/sklearn/preprocessing/label.py:151: DeprecationWarning: The truth value of an empty array is ambiguous. Returning False, but in future this will result in an error. Use `array.size > 0` to check that an array is not empty.\n",
      "  if diff:\n",
      "/Users/ilanfilonenko/6700/mono-MusicXML-dataset/venv/lib/python3.6/site-packages/sklearn/preprocessing/label.py:151: DeprecationWarning: The truth value of an empty array is ambiguous. Returning False, but in future this will result in an error. Use `array.size > 0` to check that an array is not empty.\n",
      "  if diff:\n",
      "/Users/ilanfilonenko/6700/mono-MusicXML-dataset/venv/lib/python3.6/site-packages/sklearn/preprocessing/label.py:151: DeprecationWarning: The truth value of an empty array is ambiguous. Returning False, but in future this will result in an error. Use `array.size > 0` to check that an array is not empty.\n",
      "  if diff:\n",
      "/Users/ilanfilonenko/6700/mono-MusicXML-dataset/venv/lib/python3.6/site-packages/sklearn/preprocessing/label.py:151: DeprecationWarning: The truth value of an empty array is ambiguous. Returning False, but in future this will result in an error. Use `array.size > 0` to check that an array is not empty.\n",
      "  if diff:\n",
      "/Users/ilanfilonenko/6700/mono-MusicXML-dataset/venv/lib/python3.6/site-packages/sklearn/preprocessing/label.py:151: DeprecationWarning: The truth value of an empty array is ambiguous. Returning False, but in future this will result in an error. Use `array.size > 0` to check that an array is not empty.\n",
      "  if diff:\n",
      "/Users/ilanfilonenko/6700/mono-MusicXML-dataset/venv/lib/python3.6/site-packages/sklearn/preprocessing/label.py:151: DeprecationWarning: The truth value of an empty array is ambiguous. Returning False, but in future this will result in an error. Use `array.size > 0` to check that an array is not empty.\n",
      "  if diff:\n",
      "/Users/ilanfilonenko/6700/mono-MusicXML-dataset/venv/lib/python3.6/site-packages/sklearn/preprocessing/label.py:151: DeprecationWarning: The truth value of an empty array is ambiguous. Returning False, but in future this will result in an error. Use `array.size > 0` to check that an array is not empty.\n",
      "  if diff:\n",
      "/Users/ilanfilonenko/6700/mono-MusicXML-dataset/venv/lib/python3.6/site-packages/sklearn/preprocessing/label.py:151: DeprecationWarning: The truth value of an empty array is ambiguous. Returning False, but in future this will result in an error. Use `array.size > 0` to check that an array is not empty.\n",
      "  if diff:\n",
      "/Users/ilanfilonenko/6700/mono-MusicXML-dataset/venv/lib/python3.6/site-packages/sklearn/preprocessing/label.py:151: DeprecationWarning: The truth value of an empty array is ambiguous. Returning False, but in future this will result in an error. Use `array.size > 0` to check that an array is not empty.\n",
      "  if diff:\n",
      "/Users/ilanfilonenko/6700/mono-MusicXML-dataset/venv/lib/python3.6/site-packages/sklearn/preprocessing/label.py:151: DeprecationWarning: The truth value of an empty array is ambiguous. Returning False, but in future this will result in an error. Use `array.size > 0` to check that an array is not empty.\n",
      "  if diff:\n",
      "/Users/ilanfilonenko/6700/mono-MusicXML-dataset/venv/lib/python3.6/site-packages/sklearn/preprocessing/label.py:151: DeprecationWarning: The truth value of an empty array is ambiguous. Returning False, but in future this will result in an error. Use `array.size > 0` to check that an array is not empty.\n",
      "  if diff:\n",
      "/Users/ilanfilonenko/6700/mono-MusicXML-dataset/venv/lib/python3.6/site-packages/sklearn/preprocessing/label.py:151: DeprecationWarning: The truth value of an empty array is ambiguous. Returning False, but in future this will result in an error. Use `array.size > 0` to check that an array is not empty.\n",
      "  if diff:\n",
      "/Users/ilanfilonenko/6700/mono-MusicXML-dataset/venv/lib/python3.6/site-packages/sklearn/preprocessing/label.py:151: DeprecationWarning: The truth value of an empty array is ambiguous. Returning False, but in future this will result in an error. Use `array.size > 0` to check that an array is not empty.\n",
      "  if diff:\n",
      "/Users/ilanfilonenko/6700/mono-MusicXML-dataset/venv/lib/python3.6/site-packages/sklearn/preprocessing/label.py:151: DeprecationWarning: The truth value of an empty array is ambiguous. Returning False, but in future this will result in an error. Use `array.size > 0` to check that an array is not empty.\n",
      "  if diff:\n",
      "/Users/ilanfilonenko/6700/mono-MusicXML-dataset/venv/lib/python3.6/site-packages/sklearn/preprocessing/label.py:151: DeprecationWarning: The truth value of an empty array is ambiguous. Returning False, but in future this will result in an error. Use `array.size > 0` to check that an array is not empty.\n",
      "  if diff:\n",
      "/Users/ilanfilonenko/6700/mono-MusicXML-dataset/venv/lib/python3.6/site-packages/sklearn/preprocessing/label.py:151: DeprecationWarning: The truth value of an empty array is ambiguous. Returning False, but in future this will result in an error. Use `array.size > 0` to check that an array is not empty.\n",
      "  if diff:\n",
      "/Users/ilanfilonenko/6700/mono-MusicXML-dataset/venv/lib/python3.6/site-packages/sklearn/preprocessing/label.py:151: DeprecationWarning: The truth value of an empty array is ambiguous. Returning False, but in future this will result in an error. Use `array.size > 0` to check that an array is not empty.\n",
      "  if diff:\n",
      "/Users/ilanfilonenko/6700/mono-MusicXML-dataset/venv/lib/python3.6/site-packages/sklearn/preprocessing/label.py:151: DeprecationWarning: The truth value of an empty array is ambiguous. Returning False, but in future this will result in an error. Use `array.size > 0` to check that an array is not empty.\n",
      "  if diff:\n",
      "/Users/ilanfilonenko/6700/mono-MusicXML-dataset/venv/lib/python3.6/site-packages/sklearn/preprocessing/label.py:151: DeprecationWarning: The truth value of an empty array is ambiguous. Returning False, but in future this will result in an error. Use `array.size > 0` to check that an array is not empty.\n",
      "  if diff:\n",
      "/Users/ilanfilonenko/6700/mono-MusicXML-dataset/venv/lib/python3.6/site-packages/sklearn/preprocessing/label.py:151: DeprecationWarning: The truth value of an empty array is ambiguous. Returning False, but in future this will result in an error. Use `array.size > 0` to check that an array is not empty.\n",
      "  if diff:\n",
      "/Users/ilanfilonenko/6700/mono-MusicXML-dataset/venv/lib/python3.6/site-packages/sklearn/preprocessing/label.py:151: DeprecationWarning: The truth value of an empty array is ambiguous. Returning False, but in future this will result in an error. Use `array.size > 0` to check that an array is not empty.\n",
      "  if diff:\n",
      "/Users/ilanfilonenko/6700/mono-MusicXML-dataset/venv/lib/python3.6/site-packages/sklearn/preprocessing/label.py:151: DeprecationWarning: The truth value of an empty array is ambiguous. Returning False, but in future this will result in an error. Use `array.size > 0` to check that an array is not empty.\n",
      "  if diff:\n",
      "/Users/ilanfilonenko/6700/mono-MusicXML-dataset/venv/lib/python3.6/site-packages/sklearn/preprocessing/label.py:151: DeprecationWarning: The truth value of an empty array is ambiguous. Returning False, but in future this will result in an error. Use `array.size > 0` to check that an array is not empty.\n",
      "  if diff:\n",
      "/Users/ilanfilonenko/6700/mono-MusicXML-dataset/venv/lib/python3.6/site-packages/sklearn/preprocessing/label.py:151: DeprecationWarning: The truth value of an empty array is ambiguous. Returning False, but in future this will result in an error. Use `array.size > 0` to check that an array is not empty.\n",
      "  if diff:\n",
      "/Users/ilanfilonenko/6700/mono-MusicXML-dataset/venv/lib/python3.6/site-packages/sklearn/preprocessing/label.py:151: DeprecationWarning: The truth value of an empty array is ambiguous. Returning False, but in future this will result in an error. Use `array.size > 0` to check that an array is not empty.\n",
      "  if diff:\n",
      "/Users/ilanfilonenko/6700/mono-MusicXML-dataset/venv/lib/python3.6/site-packages/sklearn/preprocessing/label.py:151: DeprecationWarning: The truth value of an empty array is ambiguous. Returning False, but in future this will result in an error. Use `array.size > 0` to check that an array is not empty.\n",
      "  if diff:\n",
      "/Users/ilanfilonenko/6700/mono-MusicXML-dataset/venv/lib/python3.6/site-packages/sklearn/preprocessing/label.py:151: DeprecationWarning: The truth value of an empty array is ambiguous. Returning False, but in future this will result in an error. Use `array.size > 0` to check that an array is not empty.\n",
      "  if diff:\n",
      "/Users/ilanfilonenko/6700/mono-MusicXML-dataset/venv/lib/python3.6/site-packages/sklearn/preprocessing/label.py:151: DeprecationWarning: The truth value of an empty array is ambiguous. Returning False, but in future this will result in an error. Use `array.size > 0` to check that an array is not empty.\n",
      "  if diff:\n"
     ]
    },
    {
     "name": "stderr",
     "output_type": "stream",
     "text": [
      "/Users/ilanfilonenko/6700/mono-MusicXML-dataset/venv/lib/python3.6/site-packages/sklearn/preprocessing/label.py:151: DeprecationWarning: The truth value of an empty array is ambiguous. Returning False, but in future this will result in an error. Use `array.size > 0` to check that an array is not empty.\n",
      "  if diff:\n",
      "/Users/ilanfilonenko/6700/mono-MusicXML-dataset/venv/lib/python3.6/site-packages/sklearn/preprocessing/label.py:151: DeprecationWarning: The truth value of an empty array is ambiguous. Returning False, but in future this will result in an error. Use `array.size > 0` to check that an array is not empty.\n",
      "  if diff:\n",
      "/Users/ilanfilonenko/6700/mono-MusicXML-dataset/venv/lib/python3.6/site-packages/sklearn/preprocessing/label.py:151: DeprecationWarning: The truth value of an empty array is ambiguous. Returning False, but in future this will result in an error. Use `array.size > 0` to check that an array is not empty.\n",
      "  if diff:\n",
      "/Users/ilanfilonenko/6700/mono-MusicXML-dataset/venv/lib/python3.6/site-packages/sklearn/preprocessing/label.py:151: DeprecationWarning: The truth value of an empty array is ambiguous. Returning False, but in future this will result in an error. Use `array.size > 0` to check that an array is not empty.\n",
      "  if diff:\n",
      "/Users/ilanfilonenko/6700/mono-MusicXML-dataset/venv/lib/python3.6/site-packages/sklearn/preprocessing/label.py:151: DeprecationWarning: The truth value of an empty array is ambiguous. Returning False, but in future this will result in an error. Use `array.size > 0` to check that an array is not empty.\n",
      "  if diff:\n",
      "/Users/ilanfilonenko/6700/mono-MusicXML-dataset/venv/lib/python3.6/site-packages/sklearn/preprocessing/label.py:151: DeprecationWarning: The truth value of an empty array is ambiguous. Returning False, but in future this will result in an error. Use `array.size > 0` to check that an array is not empty.\n",
      "  if diff:\n",
      "/Users/ilanfilonenko/6700/mono-MusicXML-dataset/venv/lib/python3.6/site-packages/sklearn/preprocessing/label.py:151: DeprecationWarning: The truth value of an empty array is ambiguous. Returning False, but in future this will result in an error. Use `array.size > 0` to check that an array is not empty.\n",
      "  if diff:\n",
      "/Users/ilanfilonenko/6700/mono-MusicXML-dataset/venv/lib/python3.6/site-packages/sklearn/preprocessing/label.py:151: DeprecationWarning: The truth value of an empty array is ambiguous. Returning False, but in future this will result in an error. Use `array.size > 0` to check that an array is not empty.\n",
      "  if diff:\n",
      "/Users/ilanfilonenko/6700/mono-MusicXML-dataset/venv/lib/python3.6/site-packages/sklearn/preprocessing/label.py:151: DeprecationWarning: The truth value of an empty array is ambiguous. Returning False, but in future this will result in an error. Use `array.size > 0` to check that an array is not empty.\n",
      "  if diff:\n",
      "/Users/ilanfilonenko/6700/mono-MusicXML-dataset/venv/lib/python3.6/site-packages/sklearn/preprocessing/label.py:151: DeprecationWarning: The truth value of an empty array is ambiguous. Returning False, but in future this will result in an error. Use `array.size > 0` to check that an array is not empty.\n",
      "  if diff:\n",
      "/Users/ilanfilonenko/6700/mono-MusicXML-dataset/venv/lib/python3.6/site-packages/sklearn/preprocessing/label.py:151: DeprecationWarning: The truth value of an empty array is ambiguous. Returning False, but in future this will result in an error. Use `array.size > 0` to check that an array is not empty.\n",
      "  if diff:\n",
      "/Users/ilanfilonenko/6700/mono-MusicXML-dataset/venv/lib/python3.6/site-packages/sklearn/preprocessing/label.py:151: DeprecationWarning: The truth value of an empty array is ambiguous. Returning False, but in future this will result in an error. Use `array.size > 0` to check that an array is not empty.\n",
      "  if diff:\n",
      "/Users/ilanfilonenko/6700/mono-MusicXML-dataset/venv/lib/python3.6/site-packages/sklearn/preprocessing/label.py:151: DeprecationWarning: The truth value of an empty array is ambiguous. Returning False, but in future this will result in an error. Use `array.size > 0` to check that an array is not empty.\n",
      "  if diff:\n",
      "/Users/ilanfilonenko/6700/mono-MusicXML-dataset/venv/lib/python3.6/site-packages/sklearn/preprocessing/label.py:151: DeprecationWarning: The truth value of an empty array is ambiguous. Returning False, but in future this will result in an error. Use `array.size > 0` to check that an array is not empty.\n",
      "  if diff:\n",
      "/Users/ilanfilonenko/6700/mono-MusicXML-dataset/venv/lib/python3.6/site-packages/sklearn/preprocessing/label.py:151: DeprecationWarning: The truth value of an empty array is ambiguous. Returning False, but in future this will result in an error. Use `array.size > 0` to check that an array is not empty.\n",
      "  if diff:\n",
      "/Users/ilanfilonenko/6700/mono-MusicXML-dataset/venv/lib/python3.6/site-packages/sklearn/preprocessing/label.py:151: DeprecationWarning: The truth value of an empty array is ambiguous. Returning False, but in future this will result in an error. Use `array.size > 0` to check that an array is not empty.\n",
      "  if diff:\n",
      "/Users/ilanfilonenko/6700/mono-MusicXML-dataset/venv/lib/python3.6/site-packages/sklearn/preprocessing/label.py:151: DeprecationWarning: The truth value of an empty array is ambiguous. Returning False, but in future this will result in an error. Use `array.size > 0` to check that an array is not empty.\n",
      "  if diff:\n",
      "/Users/ilanfilonenko/6700/mono-MusicXML-dataset/venv/lib/python3.6/site-packages/sklearn/preprocessing/label.py:151: DeprecationWarning: The truth value of an empty array is ambiguous. Returning False, but in future this will result in an error. Use `array.size > 0` to check that an array is not empty.\n",
      "  if diff:\n",
      "/Users/ilanfilonenko/6700/mono-MusicXML-dataset/venv/lib/python3.6/site-packages/sklearn/preprocessing/label.py:151: DeprecationWarning: The truth value of an empty array is ambiguous. Returning False, but in future this will result in an error. Use `array.size > 0` to check that an array is not empty.\n",
      "  if diff:\n",
      "/Users/ilanfilonenko/6700/mono-MusicXML-dataset/venv/lib/python3.6/site-packages/sklearn/preprocessing/label.py:151: DeprecationWarning: The truth value of an empty array is ambiguous. Returning False, but in future this will result in an error. Use `array.size > 0` to check that an array is not empty.\n",
      "  if diff:\n",
      "/Users/ilanfilonenko/6700/mono-MusicXML-dataset/venv/lib/python3.6/site-packages/sklearn/preprocessing/label.py:151: DeprecationWarning: The truth value of an empty array is ambiguous. Returning False, but in future this will result in an error. Use `array.size > 0` to check that an array is not empty.\n",
      "  if diff:\n",
      "/Users/ilanfilonenko/6700/mono-MusicXML-dataset/venv/lib/python3.6/site-packages/sklearn/preprocessing/label.py:151: DeprecationWarning: The truth value of an empty array is ambiguous. Returning False, but in future this will result in an error. Use `array.size > 0` to check that an array is not empty.\n",
      "  if diff:\n",
      "/Users/ilanfilonenko/6700/mono-MusicXML-dataset/venv/lib/python3.6/site-packages/sklearn/preprocessing/label.py:151: DeprecationWarning: The truth value of an empty array is ambiguous. Returning False, but in future this will result in an error. Use `array.size > 0` to check that an array is not empty.\n",
      "  if diff:\n",
      "/Users/ilanfilonenko/6700/mono-MusicXML-dataset/venv/lib/python3.6/site-packages/sklearn/preprocessing/label.py:151: DeprecationWarning: The truth value of an empty array is ambiguous. Returning False, but in future this will result in an error. Use `array.size > 0` to check that an array is not empty.\n",
      "  if diff:\n",
      "/Users/ilanfilonenko/6700/mono-MusicXML-dataset/venv/lib/python3.6/site-packages/sklearn/preprocessing/label.py:151: DeprecationWarning: The truth value of an empty array is ambiguous. Returning False, but in future this will result in an error. Use `array.size > 0` to check that an array is not empty.\n",
      "  if diff:\n",
      "/Users/ilanfilonenko/6700/mono-MusicXML-dataset/venv/lib/python3.6/site-packages/sklearn/preprocessing/label.py:151: DeprecationWarning: The truth value of an empty array is ambiguous. Returning False, but in future this will result in an error. Use `array.size > 0` to check that an array is not empty.\n",
      "  if diff:\n",
      "/Users/ilanfilonenko/6700/mono-MusicXML-dataset/venv/lib/python3.6/site-packages/sklearn/preprocessing/label.py:151: DeprecationWarning: The truth value of an empty array is ambiguous. Returning False, but in future this will result in an error. Use `array.size > 0` to check that an array is not empty.\n",
      "  if diff:\n",
      "/Users/ilanfilonenko/6700/mono-MusicXML-dataset/venv/lib/python3.6/site-packages/sklearn/preprocessing/label.py:151: DeprecationWarning: The truth value of an empty array is ambiguous. Returning False, but in future this will result in an error. Use `array.size > 0` to check that an array is not empty.\n",
      "  if diff:\n",
      "/Users/ilanfilonenko/6700/mono-MusicXML-dataset/venv/lib/python3.6/site-packages/sklearn/preprocessing/label.py:151: DeprecationWarning: The truth value of an empty array is ambiguous. Returning False, but in future this will result in an error. Use `array.size > 0` to check that an array is not empty.\n",
      "  if diff:\n"
     ]
    },
    {
     "name": "stderr",
     "output_type": "stream",
     "text": [
      "/Users/ilanfilonenko/6700/mono-MusicXML-dataset/venv/lib/python3.6/site-packages/sklearn/preprocessing/label.py:151: DeprecationWarning: The truth value of an empty array is ambiguous. Returning False, but in future this will result in an error. Use `array.size > 0` to check that an array is not empty.\n",
      "  if diff:\n",
      "/Users/ilanfilonenko/6700/mono-MusicXML-dataset/venv/lib/python3.6/site-packages/sklearn/preprocessing/label.py:151: DeprecationWarning: The truth value of an empty array is ambiguous. Returning False, but in future this will result in an error. Use `array.size > 0` to check that an array is not empty.\n",
      "  if diff:\n",
      "/Users/ilanfilonenko/6700/mono-MusicXML-dataset/venv/lib/python3.6/site-packages/sklearn/preprocessing/label.py:151: DeprecationWarning: The truth value of an empty array is ambiguous. Returning False, but in future this will result in an error. Use `array.size > 0` to check that an array is not empty.\n",
      "  if diff:\n",
      "/Users/ilanfilonenko/6700/mono-MusicXML-dataset/venv/lib/python3.6/site-packages/sklearn/preprocessing/label.py:151: DeprecationWarning: The truth value of an empty array is ambiguous. Returning False, but in future this will result in an error. Use `array.size > 0` to check that an array is not empty.\n",
      "  if diff:\n",
      "/Users/ilanfilonenko/6700/mono-MusicXML-dataset/venv/lib/python3.6/site-packages/sklearn/preprocessing/label.py:151: DeprecationWarning: The truth value of an empty array is ambiguous. Returning False, but in future this will result in an error. Use `array.size > 0` to check that an array is not empty.\n",
      "  if diff:\n",
      "/Users/ilanfilonenko/6700/mono-MusicXML-dataset/venv/lib/python3.6/site-packages/sklearn/preprocessing/label.py:151: DeprecationWarning: The truth value of an empty array is ambiguous. Returning False, but in future this will result in an error. Use `array.size > 0` to check that an array is not empty.\n",
      "  if diff:\n",
      "/Users/ilanfilonenko/6700/mono-MusicXML-dataset/venv/lib/python3.6/site-packages/sklearn/preprocessing/label.py:151: DeprecationWarning: The truth value of an empty array is ambiguous. Returning False, but in future this will result in an error. Use `array.size > 0` to check that an array is not empty.\n",
      "  if diff:\n",
      "/Users/ilanfilonenko/6700/mono-MusicXML-dataset/venv/lib/python3.6/site-packages/sklearn/preprocessing/label.py:151: DeprecationWarning: The truth value of an empty array is ambiguous. Returning False, but in future this will result in an error. Use `array.size > 0` to check that an array is not empty.\n",
      "  if diff:\n",
      "/Users/ilanfilonenko/6700/mono-MusicXML-dataset/venv/lib/python3.6/site-packages/sklearn/preprocessing/label.py:151: DeprecationWarning: The truth value of an empty array is ambiguous. Returning False, but in future this will result in an error. Use `array.size > 0` to check that an array is not empty.\n",
      "  if diff:\n",
      "/Users/ilanfilonenko/6700/mono-MusicXML-dataset/venv/lib/python3.6/site-packages/sklearn/preprocessing/label.py:151: DeprecationWarning: The truth value of an empty array is ambiguous. Returning False, but in future this will result in an error. Use `array.size > 0` to check that an array is not empty.\n",
      "  if diff:\n",
      "/Users/ilanfilonenko/6700/mono-MusicXML-dataset/venv/lib/python3.6/site-packages/sklearn/preprocessing/label.py:151: DeprecationWarning: The truth value of an empty array is ambiguous. Returning False, but in future this will result in an error. Use `array.size > 0` to check that an array is not empty.\n",
      "  if diff:\n",
      "/Users/ilanfilonenko/6700/mono-MusicXML-dataset/venv/lib/python3.6/site-packages/sklearn/preprocessing/label.py:151: DeprecationWarning: The truth value of an empty array is ambiguous. Returning False, but in future this will result in an error. Use `array.size > 0` to check that an array is not empty.\n",
      "  if diff:\n",
      "/Users/ilanfilonenko/6700/mono-MusicXML-dataset/venv/lib/python3.6/site-packages/sklearn/preprocessing/label.py:151: DeprecationWarning: The truth value of an empty array is ambiguous. Returning False, but in future this will result in an error. Use `array.size > 0` to check that an array is not empty.\n",
      "  if diff:\n",
      "/Users/ilanfilonenko/6700/mono-MusicXML-dataset/venv/lib/python3.6/site-packages/sklearn/preprocessing/label.py:151: DeprecationWarning: The truth value of an empty array is ambiguous. Returning False, but in future this will result in an error. Use `array.size > 0` to check that an array is not empty.\n",
      "  if diff:\n",
      "/Users/ilanfilonenko/6700/mono-MusicXML-dataset/venv/lib/python3.6/site-packages/sklearn/preprocessing/label.py:151: DeprecationWarning: The truth value of an empty array is ambiguous. Returning False, but in future this will result in an error. Use `array.size > 0` to check that an array is not empty.\n",
      "  if diff:\n",
      "/Users/ilanfilonenko/6700/mono-MusicXML-dataset/venv/lib/python3.6/site-packages/sklearn/preprocessing/label.py:151: DeprecationWarning: The truth value of an empty array is ambiguous. Returning False, but in future this will result in an error. Use `array.size > 0` to check that an array is not empty.\n",
      "  if diff:\n",
      "/Users/ilanfilonenko/6700/mono-MusicXML-dataset/venv/lib/python3.6/site-packages/sklearn/preprocessing/label.py:151: DeprecationWarning: The truth value of an empty array is ambiguous. Returning False, but in future this will result in an error. Use `array.size > 0` to check that an array is not empty.\n",
      "  if diff:\n",
      "/Users/ilanfilonenko/6700/mono-MusicXML-dataset/venv/lib/python3.6/site-packages/sklearn/preprocessing/label.py:151: DeprecationWarning: The truth value of an empty array is ambiguous. Returning False, but in future this will result in an error. Use `array.size > 0` to check that an array is not empty.\n",
      "  if diff:\n",
      "/Users/ilanfilonenko/6700/mono-MusicXML-dataset/venv/lib/python3.6/site-packages/sklearn/preprocessing/label.py:151: DeprecationWarning: The truth value of an empty array is ambiguous. Returning False, but in future this will result in an error. Use `array.size > 0` to check that an array is not empty.\n",
      "  if diff:\n",
      "/Users/ilanfilonenko/6700/mono-MusicXML-dataset/venv/lib/python3.6/site-packages/sklearn/preprocessing/label.py:151: DeprecationWarning: The truth value of an empty array is ambiguous. Returning False, but in future this will result in an error. Use `array.size > 0` to check that an array is not empty.\n",
      "  if diff:\n",
      "/Users/ilanfilonenko/6700/mono-MusicXML-dataset/venv/lib/python3.6/site-packages/sklearn/preprocessing/label.py:151: DeprecationWarning: The truth value of an empty array is ambiguous. Returning False, but in future this will result in an error. Use `array.size > 0` to check that an array is not empty.\n",
      "  if diff:\n",
      "/Users/ilanfilonenko/6700/mono-MusicXML-dataset/venv/lib/python3.6/site-packages/sklearn/preprocessing/label.py:151: DeprecationWarning: The truth value of an empty array is ambiguous. Returning False, but in future this will result in an error. Use `array.size > 0` to check that an array is not empty.\n",
      "  if diff:\n",
      "/Users/ilanfilonenko/6700/mono-MusicXML-dataset/venv/lib/python3.6/site-packages/sklearn/preprocessing/label.py:151: DeprecationWarning: The truth value of an empty array is ambiguous. Returning False, but in future this will result in an error. Use `array.size > 0` to check that an array is not empty.\n",
      "  if diff:\n",
      "/Users/ilanfilonenko/6700/mono-MusicXML-dataset/venv/lib/python3.6/site-packages/sklearn/preprocessing/label.py:151: DeprecationWarning: The truth value of an empty array is ambiguous. Returning False, but in future this will result in an error. Use `array.size > 0` to check that an array is not empty.\n",
      "  if diff:\n",
      "/Users/ilanfilonenko/6700/mono-MusicXML-dataset/venv/lib/python3.6/site-packages/sklearn/preprocessing/label.py:151: DeprecationWarning: The truth value of an empty array is ambiguous. Returning False, but in future this will result in an error. Use `array.size > 0` to check that an array is not empty.\n",
      "  if diff:\n",
      "/Users/ilanfilonenko/6700/mono-MusicXML-dataset/venv/lib/python3.6/site-packages/sklearn/preprocessing/label.py:151: DeprecationWarning: The truth value of an empty array is ambiguous. Returning False, but in future this will result in an error. Use `array.size > 0` to check that an array is not empty.\n",
      "  if diff:\n",
      "/Users/ilanfilonenko/6700/mono-MusicXML-dataset/venv/lib/python3.6/site-packages/sklearn/preprocessing/label.py:151: DeprecationWarning: The truth value of an empty array is ambiguous. Returning False, but in future this will result in an error. Use `array.size > 0` to check that an array is not empty.\n",
      "  if diff:\n",
      "/Users/ilanfilonenko/6700/mono-MusicXML-dataset/venv/lib/python3.6/site-packages/sklearn/preprocessing/label.py:151: DeprecationWarning: The truth value of an empty array is ambiguous. Returning False, but in future this will result in an error. Use `array.size > 0` to check that an array is not empty.\n",
      "  if diff:\n"
     ]
    },
    {
     "name": "stderr",
     "output_type": "stream",
     "text": [
      "/Users/ilanfilonenko/6700/mono-MusicXML-dataset/venv/lib/python3.6/site-packages/sklearn/preprocessing/label.py:151: DeprecationWarning: The truth value of an empty array is ambiguous. Returning False, but in future this will result in an error. Use `array.size > 0` to check that an array is not empty.\n",
      "  if diff:\n",
      "/Users/ilanfilonenko/6700/mono-MusicXML-dataset/venv/lib/python3.6/site-packages/sklearn/preprocessing/label.py:151: DeprecationWarning: The truth value of an empty array is ambiguous. Returning False, but in future this will result in an error. Use `array.size > 0` to check that an array is not empty.\n",
      "  if diff:\n",
      "/Users/ilanfilonenko/6700/mono-MusicXML-dataset/venv/lib/python3.6/site-packages/sklearn/preprocessing/label.py:151: DeprecationWarning: The truth value of an empty array is ambiguous. Returning False, but in future this will result in an error. Use `array.size > 0` to check that an array is not empty.\n",
      "  if diff:\n",
      "/Users/ilanfilonenko/6700/mono-MusicXML-dataset/venv/lib/python3.6/site-packages/sklearn/preprocessing/label.py:151: DeprecationWarning: The truth value of an empty array is ambiguous. Returning False, but in future this will result in an error. Use `array.size > 0` to check that an array is not empty.\n",
      "  if diff:\n",
      "/Users/ilanfilonenko/6700/mono-MusicXML-dataset/venv/lib/python3.6/site-packages/sklearn/preprocessing/label.py:151: DeprecationWarning: The truth value of an empty array is ambiguous. Returning False, but in future this will result in an error. Use `array.size > 0` to check that an array is not empty.\n",
      "  if diff:\n",
      "/Users/ilanfilonenko/6700/mono-MusicXML-dataset/venv/lib/python3.6/site-packages/sklearn/preprocessing/label.py:151: DeprecationWarning: The truth value of an empty array is ambiguous. Returning False, but in future this will result in an error. Use `array.size > 0` to check that an array is not empty.\n",
      "  if diff:\n",
      "/Users/ilanfilonenko/6700/mono-MusicXML-dataset/venv/lib/python3.6/site-packages/sklearn/preprocessing/label.py:151: DeprecationWarning: The truth value of an empty array is ambiguous. Returning False, but in future this will result in an error. Use `array.size > 0` to check that an array is not empty.\n",
      "  if diff:\n",
      "/Users/ilanfilonenko/6700/mono-MusicXML-dataset/venv/lib/python3.6/site-packages/sklearn/preprocessing/label.py:151: DeprecationWarning: The truth value of an empty array is ambiguous. Returning False, but in future this will result in an error. Use `array.size > 0` to check that an array is not empty.\n",
      "  if diff:\n",
      "/Users/ilanfilonenko/6700/mono-MusicXML-dataset/venv/lib/python3.6/site-packages/sklearn/preprocessing/label.py:151: DeprecationWarning: The truth value of an empty array is ambiguous. Returning False, but in future this will result in an error. Use `array.size > 0` to check that an array is not empty.\n",
      "  if diff:\n",
      "/Users/ilanfilonenko/6700/mono-MusicXML-dataset/venv/lib/python3.6/site-packages/sklearn/preprocessing/label.py:151: DeprecationWarning: The truth value of an empty array is ambiguous. Returning False, but in future this will result in an error. Use `array.size > 0` to check that an array is not empty.\n",
      "  if diff:\n",
      "/Users/ilanfilonenko/6700/mono-MusicXML-dataset/venv/lib/python3.6/site-packages/sklearn/preprocessing/label.py:151: DeprecationWarning: The truth value of an empty array is ambiguous. Returning False, but in future this will result in an error. Use `array.size > 0` to check that an array is not empty.\n",
      "  if diff:\n",
      "/Users/ilanfilonenko/6700/mono-MusicXML-dataset/venv/lib/python3.6/site-packages/sklearn/preprocessing/label.py:151: DeprecationWarning: The truth value of an empty array is ambiguous. Returning False, but in future this will result in an error. Use `array.size > 0` to check that an array is not empty.\n",
      "  if diff:\n",
      "/Users/ilanfilonenko/6700/mono-MusicXML-dataset/venv/lib/python3.6/site-packages/sklearn/preprocessing/label.py:151: DeprecationWarning: The truth value of an empty array is ambiguous. Returning False, but in future this will result in an error. Use `array.size > 0` to check that an array is not empty.\n",
      "  if diff:\n",
      "/Users/ilanfilonenko/6700/mono-MusicXML-dataset/venv/lib/python3.6/site-packages/sklearn/preprocessing/label.py:151: DeprecationWarning: The truth value of an empty array is ambiguous. Returning False, but in future this will result in an error. Use `array.size > 0` to check that an array is not empty.\n",
      "  if diff:\n",
      "/Users/ilanfilonenko/6700/mono-MusicXML-dataset/venv/lib/python3.6/site-packages/sklearn/preprocessing/label.py:151: DeprecationWarning: The truth value of an empty array is ambiguous. Returning False, but in future this will result in an error. Use `array.size > 0` to check that an array is not empty.\n",
      "  if diff:\n",
      "/Users/ilanfilonenko/6700/mono-MusicXML-dataset/venv/lib/python3.6/site-packages/sklearn/preprocessing/label.py:151: DeprecationWarning: The truth value of an empty array is ambiguous. Returning False, but in future this will result in an error. Use `array.size > 0` to check that an array is not empty.\n",
      "  if diff:\n",
      "/Users/ilanfilonenko/6700/mono-MusicXML-dataset/venv/lib/python3.6/site-packages/sklearn/preprocessing/label.py:151: DeprecationWarning: The truth value of an empty array is ambiguous. Returning False, but in future this will result in an error. Use `array.size > 0` to check that an array is not empty.\n",
      "  if diff:\n",
      "/Users/ilanfilonenko/6700/mono-MusicXML-dataset/venv/lib/python3.6/site-packages/sklearn/preprocessing/label.py:151: DeprecationWarning: The truth value of an empty array is ambiguous. Returning False, but in future this will result in an error. Use `array.size > 0` to check that an array is not empty.\n",
      "  if diff:\n",
      "/Users/ilanfilonenko/6700/mono-MusicXML-dataset/venv/lib/python3.6/site-packages/sklearn/preprocessing/label.py:151: DeprecationWarning: The truth value of an empty array is ambiguous. Returning False, but in future this will result in an error. Use `array.size > 0` to check that an array is not empty.\n",
      "  if diff:\n",
      "/Users/ilanfilonenko/6700/mono-MusicXML-dataset/venv/lib/python3.6/site-packages/sklearn/preprocessing/label.py:151: DeprecationWarning: The truth value of an empty array is ambiguous. Returning False, but in future this will result in an error. Use `array.size > 0` to check that an array is not empty.\n",
      "  if diff:\n",
      "/Users/ilanfilonenko/6700/mono-MusicXML-dataset/venv/lib/python3.6/site-packages/sklearn/preprocessing/label.py:151: DeprecationWarning: The truth value of an empty array is ambiguous. Returning False, but in future this will result in an error. Use `array.size > 0` to check that an array is not empty.\n",
      "  if diff:\n",
      "/Users/ilanfilonenko/6700/mono-MusicXML-dataset/venv/lib/python3.6/site-packages/sklearn/preprocessing/label.py:151: DeprecationWarning: The truth value of an empty array is ambiguous. Returning False, but in future this will result in an error. Use `array.size > 0` to check that an array is not empty.\n",
      "  if diff:\n",
      "/Users/ilanfilonenko/6700/mono-MusicXML-dataset/venv/lib/python3.6/site-packages/sklearn/preprocessing/label.py:151: DeprecationWarning: The truth value of an empty array is ambiguous. Returning False, but in future this will result in an error. Use `array.size > 0` to check that an array is not empty.\n",
      "  if diff:\n",
      "/Users/ilanfilonenko/6700/mono-MusicXML-dataset/venv/lib/python3.6/site-packages/sklearn/preprocessing/label.py:151: DeprecationWarning: The truth value of an empty array is ambiguous. Returning False, but in future this will result in an error. Use `array.size > 0` to check that an array is not empty.\n",
      "  if diff:\n",
      "/Users/ilanfilonenko/6700/mono-MusicXML-dataset/venv/lib/python3.6/site-packages/sklearn/preprocessing/label.py:151: DeprecationWarning: The truth value of an empty array is ambiguous. Returning False, but in future this will result in an error. Use `array.size > 0` to check that an array is not empty.\n",
      "  if diff:\n",
      "/Users/ilanfilonenko/6700/mono-MusicXML-dataset/venv/lib/python3.6/site-packages/sklearn/preprocessing/label.py:151: DeprecationWarning: The truth value of an empty array is ambiguous. Returning False, but in future this will result in an error. Use `array.size > 0` to check that an array is not empty.\n",
      "  if diff:\n",
      "/Users/ilanfilonenko/6700/mono-MusicXML-dataset/venv/lib/python3.6/site-packages/sklearn/preprocessing/label.py:151: DeprecationWarning: The truth value of an empty array is ambiguous. Returning False, but in future this will result in an error. Use `array.size > 0` to check that an array is not empty.\n",
      "  if diff:\n"
     ]
    },
    {
     "name": "stderr",
     "output_type": "stream",
     "text": [
      "/Users/ilanfilonenko/6700/mono-MusicXML-dataset/venv/lib/python3.6/site-packages/sklearn/preprocessing/label.py:151: DeprecationWarning: The truth value of an empty array is ambiguous. Returning False, but in future this will result in an error. Use `array.size > 0` to check that an array is not empty.\n",
      "  if diff:\n",
      "/Users/ilanfilonenko/6700/mono-MusicXML-dataset/venv/lib/python3.6/site-packages/sklearn/preprocessing/label.py:151: DeprecationWarning: The truth value of an empty array is ambiguous. Returning False, but in future this will result in an error. Use `array.size > 0` to check that an array is not empty.\n",
      "  if diff:\n",
      "/Users/ilanfilonenko/6700/mono-MusicXML-dataset/venv/lib/python3.6/site-packages/sklearn/preprocessing/label.py:151: DeprecationWarning: The truth value of an empty array is ambiguous. Returning False, but in future this will result in an error. Use `array.size > 0` to check that an array is not empty.\n",
      "  if diff:\n",
      "/Users/ilanfilonenko/6700/mono-MusicXML-dataset/venv/lib/python3.6/site-packages/sklearn/preprocessing/label.py:151: DeprecationWarning: The truth value of an empty array is ambiguous. Returning False, but in future this will result in an error. Use `array.size > 0` to check that an array is not empty.\n",
      "  if diff:\n",
      "/Users/ilanfilonenko/6700/mono-MusicXML-dataset/venv/lib/python3.6/site-packages/sklearn/preprocessing/label.py:151: DeprecationWarning: The truth value of an empty array is ambiguous. Returning False, but in future this will result in an error. Use `array.size > 0` to check that an array is not empty.\n",
      "  if diff:\n",
      "/Users/ilanfilonenko/6700/mono-MusicXML-dataset/venv/lib/python3.6/site-packages/sklearn/preprocessing/label.py:151: DeprecationWarning: The truth value of an empty array is ambiguous. Returning False, but in future this will result in an error. Use `array.size > 0` to check that an array is not empty.\n",
      "  if diff:\n",
      "/Users/ilanfilonenko/6700/mono-MusicXML-dataset/venv/lib/python3.6/site-packages/sklearn/preprocessing/label.py:151: DeprecationWarning: The truth value of an empty array is ambiguous. Returning False, but in future this will result in an error. Use `array.size > 0` to check that an array is not empty.\n",
      "  if diff:\n",
      "/Users/ilanfilonenko/6700/mono-MusicXML-dataset/venv/lib/python3.6/site-packages/sklearn/preprocessing/label.py:151: DeprecationWarning: The truth value of an empty array is ambiguous. Returning False, but in future this will result in an error. Use `array.size > 0` to check that an array is not empty.\n",
      "  if diff:\n",
      "/Users/ilanfilonenko/6700/mono-MusicXML-dataset/venv/lib/python3.6/site-packages/sklearn/preprocessing/label.py:151: DeprecationWarning: The truth value of an empty array is ambiguous. Returning False, but in future this will result in an error. Use `array.size > 0` to check that an array is not empty.\n",
      "  if diff:\n",
      "/Users/ilanfilonenko/6700/mono-MusicXML-dataset/venv/lib/python3.6/site-packages/sklearn/preprocessing/label.py:151: DeprecationWarning: The truth value of an empty array is ambiguous. Returning False, but in future this will result in an error. Use `array.size > 0` to check that an array is not empty.\n",
      "  if diff:\n",
      "/Users/ilanfilonenko/6700/mono-MusicXML-dataset/venv/lib/python3.6/site-packages/sklearn/preprocessing/label.py:151: DeprecationWarning: The truth value of an empty array is ambiguous. Returning False, but in future this will result in an error. Use `array.size > 0` to check that an array is not empty.\n",
      "  if diff:\n",
      "/Users/ilanfilonenko/6700/mono-MusicXML-dataset/venv/lib/python3.6/site-packages/sklearn/preprocessing/label.py:151: DeprecationWarning: The truth value of an empty array is ambiguous. Returning False, but in future this will result in an error. Use `array.size > 0` to check that an array is not empty.\n",
      "  if diff:\n",
      "/Users/ilanfilonenko/6700/mono-MusicXML-dataset/venv/lib/python3.6/site-packages/sklearn/preprocessing/label.py:151: DeprecationWarning: The truth value of an empty array is ambiguous. Returning False, but in future this will result in an error. Use `array.size > 0` to check that an array is not empty.\n",
      "  if diff:\n",
      "/Users/ilanfilonenko/6700/mono-MusicXML-dataset/venv/lib/python3.6/site-packages/sklearn/preprocessing/label.py:151: DeprecationWarning: The truth value of an empty array is ambiguous. Returning False, but in future this will result in an error. Use `array.size > 0` to check that an array is not empty.\n",
      "  if diff:\n",
      "/Users/ilanfilonenko/6700/mono-MusicXML-dataset/venv/lib/python3.6/site-packages/sklearn/preprocessing/label.py:151: DeprecationWarning: The truth value of an empty array is ambiguous. Returning False, but in future this will result in an error. Use `array.size > 0` to check that an array is not empty.\n",
      "  if diff:\n",
      "/Users/ilanfilonenko/6700/mono-MusicXML-dataset/venv/lib/python3.6/site-packages/sklearn/preprocessing/label.py:151: DeprecationWarning: The truth value of an empty array is ambiguous. Returning False, but in future this will result in an error. Use `array.size > 0` to check that an array is not empty.\n",
      "  if diff:\n",
      "/Users/ilanfilonenko/6700/mono-MusicXML-dataset/venv/lib/python3.6/site-packages/sklearn/preprocessing/label.py:151: DeprecationWarning: The truth value of an empty array is ambiguous. Returning False, but in future this will result in an error. Use `array.size > 0` to check that an array is not empty.\n",
      "  if diff:\n",
      "/Users/ilanfilonenko/6700/mono-MusicXML-dataset/venv/lib/python3.6/site-packages/sklearn/preprocessing/label.py:151: DeprecationWarning: The truth value of an empty array is ambiguous. Returning False, but in future this will result in an error. Use `array.size > 0` to check that an array is not empty.\n",
      "  if diff:\n",
      "/Users/ilanfilonenko/6700/mono-MusicXML-dataset/venv/lib/python3.6/site-packages/sklearn/preprocessing/label.py:151: DeprecationWarning: The truth value of an empty array is ambiguous. Returning False, but in future this will result in an error. Use `array.size > 0` to check that an array is not empty.\n",
      "  if diff:\n",
      "/Users/ilanfilonenko/6700/mono-MusicXML-dataset/venv/lib/python3.6/site-packages/sklearn/preprocessing/label.py:151: DeprecationWarning: The truth value of an empty array is ambiguous. Returning False, but in future this will result in an error. Use `array.size > 0` to check that an array is not empty.\n",
      "  if diff:\n",
      "/Users/ilanfilonenko/6700/mono-MusicXML-dataset/venv/lib/python3.6/site-packages/sklearn/preprocessing/label.py:151: DeprecationWarning: The truth value of an empty array is ambiguous. Returning False, but in future this will result in an error. Use `array.size > 0` to check that an array is not empty.\n",
      "  if diff:\n",
      "/Users/ilanfilonenko/6700/mono-MusicXML-dataset/venv/lib/python3.6/site-packages/sklearn/preprocessing/label.py:151: DeprecationWarning: The truth value of an empty array is ambiguous. Returning False, but in future this will result in an error. Use `array.size > 0` to check that an array is not empty.\n",
      "  if diff:\n",
      "/Users/ilanfilonenko/6700/mono-MusicXML-dataset/venv/lib/python3.6/site-packages/sklearn/preprocessing/label.py:151: DeprecationWarning: The truth value of an empty array is ambiguous. Returning False, but in future this will result in an error. Use `array.size > 0` to check that an array is not empty.\n",
      "  if diff:\n",
      "/Users/ilanfilonenko/6700/mono-MusicXML-dataset/venv/lib/python3.6/site-packages/sklearn/preprocessing/label.py:151: DeprecationWarning: The truth value of an empty array is ambiguous. Returning False, but in future this will result in an error. Use `array.size > 0` to check that an array is not empty.\n",
      "  if diff:\n",
      "/Users/ilanfilonenko/6700/mono-MusicXML-dataset/venv/lib/python3.6/site-packages/sklearn/preprocessing/label.py:151: DeprecationWarning: The truth value of an empty array is ambiguous. Returning False, but in future this will result in an error. Use `array.size > 0` to check that an array is not empty.\n",
      "  if diff:\n",
      "/Users/ilanfilonenko/6700/mono-MusicXML-dataset/venv/lib/python3.6/site-packages/sklearn/preprocessing/label.py:151: DeprecationWarning: The truth value of an empty array is ambiguous. Returning False, but in future this will result in an error. Use `array.size > 0` to check that an array is not empty.\n",
      "  if diff:\n",
      "/Users/ilanfilonenko/6700/mono-MusicXML-dataset/venv/lib/python3.6/site-packages/sklearn/preprocessing/label.py:151: DeprecationWarning: The truth value of an empty array is ambiguous. Returning False, but in future this will result in an error. Use `array.size > 0` to check that an array is not empty.\n",
      "  if diff:\n"
     ]
    },
    {
     "name": "stderr",
     "output_type": "stream",
     "text": [
      "/Users/ilanfilonenko/6700/mono-MusicXML-dataset/venv/lib/python3.6/site-packages/sklearn/preprocessing/label.py:151: DeprecationWarning: The truth value of an empty array is ambiguous. Returning False, but in future this will result in an error. Use `array.size > 0` to check that an array is not empty.\n",
      "  if diff:\n",
      "/Users/ilanfilonenko/6700/mono-MusicXML-dataset/venv/lib/python3.6/site-packages/sklearn/preprocessing/label.py:151: DeprecationWarning: The truth value of an empty array is ambiguous. Returning False, but in future this will result in an error. Use `array.size > 0` to check that an array is not empty.\n",
      "  if diff:\n",
      "/Users/ilanfilonenko/6700/mono-MusicXML-dataset/venv/lib/python3.6/site-packages/sklearn/preprocessing/label.py:151: DeprecationWarning: The truth value of an empty array is ambiguous. Returning False, but in future this will result in an error. Use `array.size > 0` to check that an array is not empty.\n",
      "  if diff:\n",
      "/Users/ilanfilonenko/6700/mono-MusicXML-dataset/venv/lib/python3.6/site-packages/sklearn/preprocessing/label.py:151: DeprecationWarning: The truth value of an empty array is ambiguous. Returning False, but in future this will result in an error. Use `array.size > 0` to check that an array is not empty.\n",
      "  if diff:\n",
      "/Users/ilanfilonenko/6700/mono-MusicXML-dataset/venv/lib/python3.6/site-packages/sklearn/preprocessing/label.py:151: DeprecationWarning: The truth value of an empty array is ambiguous. Returning False, but in future this will result in an error. Use `array.size > 0` to check that an array is not empty.\n",
      "  if diff:\n",
      "/Users/ilanfilonenko/6700/mono-MusicXML-dataset/venv/lib/python3.6/site-packages/sklearn/preprocessing/label.py:151: DeprecationWarning: The truth value of an empty array is ambiguous. Returning False, but in future this will result in an error. Use `array.size > 0` to check that an array is not empty.\n",
      "  if diff:\n",
      "/Users/ilanfilonenko/6700/mono-MusicXML-dataset/venv/lib/python3.6/site-packages/sklearn/preprocessing/label.py:151: DeprecationWarning: The truth value of an empty array is ambiguous. Returning False, but in future this will result in an error. Use `array.size > 0` to check that an array is not empty.\n",
      "  if diff:\n",
      "/Users/ilanfilonenko/6700/mono-MusicXML-dataset/venv/lib/python3.6/site-packages/sklearn/preprocessing/label.py:151: DeprecationWarning: The truth value of an empty array is ambiguous. Returning False, but in future this will result in an error. Use `array.size > 0` to check that an array is not empty.\n",
      "  if diff:\n",
      "/Users/ilanfilonenko/6700/mono-MusicXML-dataset/venv/lib/python3.6/site-packages/sklearn/preprocessing/label.py:151: DeprecationWarning: The truth value of an empty array is ambiguous. Returning False, but in future this will result in an error. Use `array.size > 0` to check that an array is not empty.\n",
      "  if diff:\n",
      "/Users/ilanfilonenko/6700/mono-MusicXML-dataset/venv/lib/python3.6/site-packages/sklearn/preprocessing/label.py:151: DeprecationWarning: The truth value of an empty array is ambiguous. Returning False, but in future this will result in an error. Use `array.size > 0` to check that an array is not empty.\n",
      "  if diff:\n",
      "/Users/ilanfilonenko/6700/mono-MusicXML-dataset/venv/lib/python3.6/site-packages/sklearn/preprocessing/label.py:151: DeprecationWarning: The truth value of an empty array is ambiguous. Returning False, but in future this will result in an error. Use `array.size > 0` to check that an array is not empty.\n",
      "  if diff:\n",
      "/Users/ilanfilonenko/6700/mono-MusicXML-dataset/venv/lib/python3.6/site-packages/sklearn/preprocessing/label.py:151: DeprecationWarning: The truth value of an empty array is ambiguous. Returning False, but in future this will result in an error. Use `array.size > 0` to check that an array is not empty.\n",
      "  if diff:\n",
      "/Users/ilanfilonenko/6700/mono-MusicXML-dataset/venv/lib/python3.6/site-packages/sklearn/preprocessing/label.py:151: DeprecationWarning: The truth value of an empty array is ambiguous. Returning False, but in future this will result in an error. Use `array.size > 0` to check that an array is not empty.\n",
      "  if diff:\n",
      "/Users/ilanfilonenko/6700/mono-MusicXML-dataset/venv/lib/python3.6/site-packages/sklearn/preprocessing/label.py:151: DeprecationWarning: The truth value of an empty array is ambiguous. Returning False, but in future this will result in an error. Use `array.size > 0` to check that an array is not empty.\n",
      "  if diff:\n",
      "/Users/ilanfilonenko/6700/mono-MusicXML-dataset/venv/lib/python3.6/site-packages/sklearn/preprocessing/label.py:151: DeprecationWarning: The truth value of an empty array is ambiguous. Returning False, but in future this will result in an error. Use `array.size > 0` to check that an array is not empty.\n",
      "  if diff:\n",
      "/Users/ilanfilonenko/6700/mono-MusicXML-dataset/venv/lib/python3.6/site-packages/sklearn/preprocessing/label.py:151: DeprecationWarning: The truth value of an empty array is ambiguous. Returning False, but in future this will result in an error. Use `array.size > 0` to check that an array is not empty.\n",
      "  if diff:\n",
      "/Users/ilanfilonenko/6700/mono-MusicXML-dataset/venv/lib/python3.6/site-packages/sklearn/preprocessing/label.py:151: DeprecationWarning: The truth value of an empty array is ambiguous. Returning False, but in future this will result in an error. Use `array.size > 0` to check that an array is not empty.\n",
      "  if diff:\n",
      "/Users/ilanfilonenko/6700/mono-MusicXML-dataset/venv/lib/python3.6/site-packages/sklearn/preprocessing/label.py:151: DeprecationWarning: The truth value of an empty array is ambiguous. Returning False, but in future this will result in an error. Use `array.size > 0` to check that an array is not empty.\n",
      "  if diff:\n",
      "/Users/ilanfilonenko/6700/mono-MusicXML-dataset/venv/lib/python3.6/site-packages/sklearn/preprocessing/label.py:151: DeprecationWarning: The truth value of an empty array is ambiguous. Returning False, but in future this will result in an error. Use `array.size > 0` to check that an array is not empty.\n",
      "  if diff:\n",
      "/Users/ilanfilonenko/6700/mono-MusicXML-dataset/venv/lib/python3.6/site-packages/sklearn/preprocessing/label.py:151: DeprecationWarning: The truth value of an empty array is ambiguous. Returning False, but in future this will result in an error. Use `array.size > 0` to check that an array is not empty.\n",
      "  if diff:\n",
      "/Users/ilanfilonenko/6700/mono-MusicXML-dataset/venv/lib/python3.6/site-packages/sklearn/preprocessing/label.py:151: DeprecationWarning: The truth value of an empty array is ambiguous. Returning False, but in future this will result in an error. Use `array.size > 0` to check that an array is not empty.\n",
      "  if diff:\n",
      "/Users/ilanfilonenko/6700/mono-MusicXML-dataset/venv/lib/python3.6/site-packages/sklearn/preprocessing/label.py:151: DeprecationWarning: The truth value of an empty array is ambiguous. Returning False, but in future this will result in an error. Use `array.size > 0` to check that an array is not empty.\n",
      "  if diff:\n",
      "/Users/ilanfilonenko/6700/mono-MusicXML-dataset/venv/lib/python3.6/site-packages/sklearn/preprocessing/label.py:151: DeprecationWarning: The truth value of an empty array is ambiguous. Returning False, but in future this will result in an error. Use `array.size > 0` to check that an array is not empty.\n",
      "  if diff:\n",
      "/Users/ilanfilonenko/6700/mono-MusicXML-dataset/venv/lib/python3.6/site-packages/sklearn/preprocessing/label.py:151: DeprecationWarning: The truth value of an empty array is ambiguous. Returning False, but in future this will result in an error. Use `array.size > 0` to check that an array is not empty.\n",
      "  if diff:\n",
      "/Users/ilanfilonenko/6700/mono-MusicXML-dataset/venv/lib/python3.6/site-packages/sklearn/preprocessing/label.py:151: DeprecationWarning: The truth value of an empty array is ambiguous. Returning False, but in future this will result in an error. Use `array.size > 0` to check that an array is not empty.\n",
      "  if diff:\n",
      "/Users/ilanfilonenko/6700/mono-MusicXML-dataset/venv/lib/python3.6/site-packages/sklearn/preprocessing/label.py:151: DeprecationWarning: The truth value of an empty array is ambiguous. Returning False, but in future this will result in an error. Use `array.size > 0` to check that an array is not empty.\n",
      "  if diff:\n",
      "/Users/ilanfilonenko/6700/mono-MusicXML-dataset/venv/lib/python3.6/site-packages/sklearn/preprocessing/label.py:151: DeprecationWarning: The truth value of an empty array is ambiguous. Returning False, but in future this will result in an error. Use `array.size > 0` to check that an array is not empty.\n",
      "  if diff:\n"
     ]
    },
    {
     "name": "stderr",
     "output_type": "stream",
     "text": [
      "/Users/ilanfilonenko/6700/mono-MusicXML-dataset/venv/lib/python3.6/site-packages/sklearn/preprocessing/label.py:151: DeprecationWarning: The truth value of an empty array is ambiguous. Returning False, but in future this will result in an error. Use `array.size > 0` to check that an array is not empty.\n",
      "  if diff:\n",
      "/Users/ilanfilonenko/6700/mono-MusicXML-dataset/venv/lib/python3.6/site-packages/sklearn/preprocessing/label.py:151: DeprecationWarning: The truth value of an empty array is ambiguous. Returning False, but in future this will result in an error. Use `array.size > 0` to check that an array is not empty.\n",
      "  if diff:\n",
      "/Users/ilanfilonenko/6700/mono-MusicXML-dataset/venv/lib/python3.6/site-packages/sklearn/preprocessing/label.py:151: DeprecationWarning: The truth value of an empty array is ambiguous. Returning False, but in future this will result in an error. Use `array.size > 0` to check that an array is not empty.\n",
      "  if diff:\n",
      "/Users/ilanfilonenko/6700/mono-MusicXML-dataset/venv/lib/python3.6/site-packages/sklearn/preprocessing/label.py:151: DeprecationWarning: The truth value of an empty array is ambiguous. Returning False, but in future this will result in an error. Use `array.size > 0` to check that an array is not empty.\n",
      "  if diff:\n",
      "/Users/ilanfilonenko/6700/mono-MusicXML-dataset/venv/lib/python3.6/site-packages/sklearn/preprocessing/label.py:151: DeprecationWarning: The truth value of an empty array is ambiguous. Returning False, but in future this will result in an error. Use `array.size > 0` to check that an array is not empty.\n",
      "  if diff:\n",
      "/Users/ilanfilonenko/6700/mono-MusicXML-dataset/venv/lib/python3.6/site-packages/sklearn/preprocessing/label.py:151: DeprecationWarning: The truth value of an empty array is ambiguous. Returning False, but in future this will result in an error. Use `array.size > 0` to check that an array is not empty.\n",
      "  if diff:\n",
      "/Users/ilanfilonenko/6700/mono-MusicXML-dataset/venv/lib/python3.6/site-packages/sklearn/preprocessing/label.py:151: DeprecationWarning: The truth value of an empty array is ambiguous. Returning False, but in future this will result in an error. Use `array.size > 0` to check that an array is not empty.\n",
      "  if diff:\n",
      "/Users/ilanfilonenko/6700/mono-MusicXML-dataset/venv/lib/python3.6/site-packages/sklearn/preprocessing/label.py:151: DeprecationWarning: The truth value of an empty array is ambiguous. Returning False, but in future this will result in an error. Use `array.size > 0` to check that an array is not empty.\n",
      "  if diff:\n",
      "/Users/ilanfilonenko/6700/mono-MusicXML-dataset/venv/lib/python3.6/site-packages/sklearn/preprocessing/label.py:151: DeprecationWarning: The truth value of an empty array is ambiguous. Returning False, but in future this will result in an error. Use `array.size > 0` to check that an array is not empty.\n",
      "  if diff:\n",
      "/Users/ilanfilonenko/6700/mono-MusicXML-dataset/venv/lib/python3.6/site-packages/sklearn/preprocessing/label.py:151: DeprecationWarning: The truth value of an empty array is ambiguous. Returning False, but in future this will result in an error. Use `array.size > 0` to check that an array is not empty.\n",
      "  if diff:\n",
      "/Users/ilanfilonenko/6700/mono-MusicXML-dataset/venv/lib/python3.6/site-packages/sklearn/preprocessing/label.py:151: DeprecationWarning: The truth value of an empty array is ambiguous. Returning False, but in future this will result in an error. Use `array.size > 0` to check that an array is not empty.\n",
      "  if diff:\n",
      "/Users/ilanfilonenko/6700/mono-MusicXML-dataset/venv/lib/python3.6/site-packages/sklearn/preprocessing/label.py:151: DeprecationWarning: The truth value of an empty array is ambiguous. Returning False, but in future this will result in an error. Use `array.size > 0` to check that an array is not empty.\n",
      "  if diff:\n",
      "/Users/ilanfilonenko/6700/mono-MusicXML-dataset/venv/lib/python3.6/site-packages/sklearn/preprocessing/label.py:151: DeprecationWarning: The truth value of an empty array is ambiguous. Returning False, but in future this will result in an error. Use `array.size > 0` to check that an array is not empty.\n",
      "  if diff:\n",
      "/Users/ilanfilonenko/6700/mono-MusicXML-dataset/venv/lib/python3.6/site-packages/sklearn/preprocessing/label.py:151: DeprecationWarning: The truth value of an empty array is ambiguous. Returning False, but in future this will result in an error. Use `array.size > 0` to check that an array is not empty.\n",
      "  if diff:\n",
      "/Users/ilanfilonenko/6700/mono-MusicXML-dataset/venv/lib/python3.6/site-packages/sklearn/preprocessing/label.py:151: DeprecationWarning: The truth value of an empty array is ambiguous. Returning False, but in future this will result in an error. Use `array.size > 0` to check that an array is not empty.\n",
      "  if diff:\n",
      "/Users/ilanfilonenko/6700/mono-MusicXML-dataset/venv/lib/python3.6/site-packages/sklearn/preprocessing/label.py:151: DeprecationWarning: The truth value of an empty array is ambiguous. Returning False, but in future this will result in an error. Use `array.size > 0` to check that an array is not empty.\n",
      "  if diff:\n",
      "/Users/ilanfilonenko/6700/mono-MusicXML-dataset/venv/lib/python3.6/site-packages/sklearn/preprocessing/label.py:151: DeprecationWarning: The truth value of an empty array is ambiguous. Returning False, but in future this will result in an error. Use `array.size > 0` to check that an array is not empty.\n",
      "  if diff:\n",
      "/Users/ilanfilonenko/6700/mono-MusicXML-dataset/venv/lib/python3.6/site-packages/sklearn/preprocessing/label.py:151: DeprecationWarning: The truth value of an empty array is ambiguous. Returning False, but in future this will result in an error. Use `array.size > 0` to check that an array is not empty.\n",
      "  if diff:\n",
      "/Users/ilanfilonenko/6700/mono-MusicXML-dataset/venv/lib/python3.6/site-packages/sklearn/preprocessing/label.py:151: DeprecationWarning: The truth value of an empty array is ambiguous. Returning False, but in future this will result in an error. Use `array.size > 0` to check that an array is not empty.\n",
      "  if diff:\n",
      "/Users/ilanfilonenko/6700/mono-MusicXML-dataset/venv/lib/python3.6/site-packages/sklearn/preprocessing/label.py:151: DeprecationWarning: The truth value of an empty array is ambiguous. Returning False, but in future this will result in an error. Use `array.size > 0` to check that an array is not empty.\n",
      "  if diff:\n",
      "/Users/ilanfilonenko/6700/mono-MusicXML-dataset/venv/lib/python3.6/site-packages/sklearn/preprocessing/label.py:151: DeprecationWarning: The truth value of an empty array is ambiguous. Returning False, but in future this will result in an error. Use `array.size > 0` to check that an array is not empty.\n",
      "  if diff:\n",
      "/Users/ilanfilonenko/6700/mono-MusicXML-dataset/venv/lib/python3.6/site-packages/sklearn/preprocessing/label.py:151: DeprecationWarning: The truth value of an empty array is ambiguous. Returning False, but in future this will result in an error. Use `array.size > 0` to check that an array is not empty.\n",
      "  if diff:\n",
      "/Users/ilanfilonenko/6700/mono-MusicXML-dataset/venv/lib/python3.6/site-packages/sklearn/preprocessing/label.py:151: DeprecationWarning: The truth value of an empty array is ambiguous. Returning False, but in future this will result in an error. Use `array.size > 0` to check that an array is not empty.\n",
      "  if diff:\n",
      "/Users/ilanfilonenko/6700/mono-MusicXML-dataset/venv/lib/python3.6/site-packages/sklearn/preprocessing/label.py:151: DeprecationWarning: The truth value of an empty array is ambiguous. Returning False, but in future this will result in an error. Use `array.size > 0` to check that an array is not empty.\n",
      "  if diff:\n",
      "/Users/ilanfilonenko/6700/mono-MusicXML-dataset/venv/lib/python3.6/site-packages/sklearn/preprocessing/label.py:151: DeprecationWarning: The truth value of an empty array is ambiguous. Returning False, but in future this will result in an error. Use `array.size > 0` to check that an array is not empty.\n",
      "  if diff:\n",
      "/Users/ilanfilonenko/6700/mono-MusicXML-dataset/venv/lib/python3.6/site-packages/sklearn/preprocessing/label.py:151: DeprecationWarning: The truth value of an empty array is ambiguous. Returning False, but in future this will result in an error. Use `array.size > 0` to check that an array is not empty.\n",
      "  if diff:\n",
      "/Users/ilanfilonenko/6700/mono-MusicXML-dataset/venv/lib/python3.6/site-packages/sklearn/preprocessing/label.py:151: DeprecationWarning: The truth value of an empty array is ambiguous. Returning False, but in future this will result in an error. Use `array.size > 0` to check that an array is not empty.\n",
      "  if diff:\n"
     ]
    },
    {
     "name": "stderr",
     "output_type": "stream",
     "text": [
      "/Users/ilanfilonenko/6700/mono-MusicXML-dataset/venv/lib/python3.6/site-packages/sklearn/preprocessing/label.py:151: DeprecationWarning: The truth value of an empty array is ambiguous. Returning False, but in future this will result in an error. Use `array.size > 0` to check that an array is not empty.\n",
      "  if diff:\n",
      "/Users/ilanfilonenko/6700/mono-MusicXML-dataset/venv/lib/python3.6/site-packages/sklearn/preprocessing/label.py:151: DeprecationWarning: The truth value of an empty array is ambiguous. Returning False, but in future this will result in an error. Use `array.size > 0` to check that an array is not empty.\n",
      "  if diff:\n",
      "/Users/ilanfilonenko/6700/mono-MusicXML-dataset/venv/lib/python3.6/site-packages/sklearn/preprocessing/label.py:151: DeprecationWarning: The truth value of an empty array is ambiguous. Returning False, but in future this will result in an error. Use `array.size > 0` to check that an array is not empty.\n",
      "  if diff:\n",
      "/Users/ilanfilonenko/6700/mono-MusicXML-dataset/venv/lib/python3.6/site-packages/sklearn/preprocessing/label.py:151: DeprecationWarning: The truth value of an empty array is ambiguous. Returning False, but in future this will result in an error. Use `array.size > 0` to check that an array is not empty.\n",
      "  if diff:\n",
      "/Users/ilanfilonenko/6700/mono-MusicXML-dataset/venv/lib/python3.6/site-packages/sklearn/preprocessing/label.py:151: DeprecationWarning: The truth value of an empty array is ambiguous. Returning False, but in future this will result in an error. Use `array.size > 0` to check that an array is not empty.\n",
      "  if diff:\n",
      "/Users/ilanfilonenko/6700/mono-MusicXML-dataset/venv/lib/python3.6/site-packages/sklearn/preprocessing/label.py:151: DeprecationWarning: The truth value of an empty array is ambiguous. Returning False, but in future this will result in an error. Use `array.size > 0` to check that an array is not empty.\n",
      "  if diff:\n",
      "/Users/ilanfilonenko/6700/mono-MusicXML-dataset/venv/lib/python3.6/site-packages/sklearn/preprocessing/label.py:151: DeprecationWarning: The truth value of an empty array is ambiguous. Returning False, but in future this will result in an error. Use `array.size > 0` to check that an array is not empty.\n",
      "  if diff:\n",
      "/Users/ilanfilonenko/6700/mono-MusicXML-dataset/venv/lib/python3.6/site-packages/sklearn/preprocessing/label.py:151: DeprecationWarning: The truth value of an empty array is ambiguous. Returning False, but in future this will result in an error. Use `array.size > 0` to check that an array is not empty.\n",
      "  if diff:\n",
      "/Users/ilanfilonenko/6700/mono-MusicXML-dataset/venv/lib/python3.6/site-packages/sklearn/preprocessing/label.py:151: DeprecationWarning: The truth value of an empty array is ambiguous. Returning False, but in future this will result in an error. Use `array.size > 0` to check that an array is not empty.\n",
      "  if diff:\n",
      "/Users/ilanfilonenko/6700/mono-MusicXML-dataset/venv/lib/python3.6/site-packages/sklearn/preprocessing/label.py:151: DeprecationWarning: The truth value of an empty array is ambiguous. Returning False, but in future this will result in an error. Use `array.size > 0` to check that an array is not empty.\n",
      "  if diff:\n",
      "/Users/ilanfilonenko/6700/mono-MusicXML-dataset/venv/lib/python3.6/site-packages/sklearn/preprocessing/label.py:151: DeprecationWarning: The truth value of an empty array is ambiguous. Returning False, but in future this will result in an error. Use `array.size > 0` to check that an array is not empty.\n",
      "  if diff:\n",
      "/Users/ilanfilonenko/6700/mono-MusicXML-dataset/venv/lib/python3.6/site-packages/sklearn/preprocessing/label.py:151: DeprecationWarning: The truth value of an empty array is ambiguous. Returning False, but in future this will result in an error. Use `array.size > 0` to check that an array is not empty.\n",
      "  if diff:\n",
      "/Users/ilanfilonenko/6700/mono-MusicXML-dataset/venv/lib/python3.6/site-packages/sklearn/preprocessing/label.py:151: DeprecationWarning: The truth value of an empty array is ambiguous. Returning False, but in future this will result in an error. Use `array.size > 0` to check that an array is not empty.\n",
      "  if diff:\n",
      "/Users/ilanfilonenko/6700/mono-MusicXML-dataset/venv/lib/python3.6/site-packages/sklearn/preprocessing/label.py:151: DeprecationWarning: The truth value of an empty array is ambiguous. Returning False, but in future this will result in an error. Use `array.size > 0` to check that an array is not empty.\n",
      "  if diff:\n",
      "/Users/ilanfilonenko/6700/mono-MusicXML-dataset/venv/lib/python3.6/site-packages/sklearn/preprocessing/label.py:151: DeprecationWarning: The truth value of an empty array is ambiguous. Returning False, but in future this will result in an error. Use `array.size > 0` to check that an array is not empty.\n",
      "  if diff:\n",
      "/Users/ilanfilonenko/6700/mono-MusicXML-dataset/venv/lib/python3.6/site-packages/sklearn/preprocessing/label.py:151: DeprecationWarning: The truth value of an empty array is ambiguous. Returning False, but in future this will result in an error. Use `array.size > 0` to check that an array is not empty.\n",
      "  if diff:\n",
      "/Users/ilanfilonenko/6700/mono-MusicXML-dataset/venv/lib/python3.6/site-packages/sklearn/preprocessing/label.py:151: DeprecationWarning: The truth value of an empty array is ambiguous. Returning False, but in future this will result in an error. Use `array.size > 0` to check that an array is not empty.\n",
      "  if diff:\n",
      "/Users/ilanfilonenko/6700/mono-MusicXML-dataset/venv/lib/python3.6/site-packages/sklearn/preprocessing/label.py:151: DeprecationWarning: The truth value of an empty array is ambiguous. Returning False, but in future this will result in an error. Use `array.size > 0` to check that an array is not empty.\n",
      "  if diff:\n",
      "/Users/ilanfilonenko/6700/mono-MusicXML-dataset/venv/lib/python3.6/site-packages/sklearn/preprocessing/label.py:151: DeprecationWarning: The truth value of an empty array is ambiguous. Returning False, but in future this will result in an error. Use `array.size > 0` to check that an array is not empty.\n",
      "  if diff:\n",
      "/Users/ilanfilonenko/6700/mono-MusicXML-dataset/venv/lib/python3.6/site-packages/sklearn/preprocessing/label.py:151: DeprecationWarning: The truth value of an empty array is ambiguous. Returning False, but in future this will result in an error. Use `array.size > 0` to check that an array is not empty.\n",
      "  if diff:\n",
      "/Users/ilanfilonenko/6700/mono-MusicXML-dataset/venv/lib/python3.6/site-packages/sklearn/preprocessing/label.py:151: DeprecationWarning: The truth value of an empty array is ambiguous. Returning False, but in future this will result in an error. Use `array.size > 0` to check that an array is not empty.\n",
      "  if diff:\n",
      "/Users/ilanfilonenko/6700/mono-MusicXML-dataset/venv/lib/python3.6/site-packages/sklearn/preprocessing/label.py:151: DeprecationWarning: The truth value of an empty array is ambiguous. Returning False, but in future this will result in an error. Use `array.size > 0` to check that an array is not empty.\n",
      "  if diff:\n",
      "/Users/ilanfilonenko/6700/mono-MusicXML-dataset/venv/lib/python3.6/site-packages/sklearn/preprocessing/label.py:151: DeprecationWarning: The truth value of an empty array is ambiguous. Returning False, but in future this will result in an error. Use `array.size > 0` to check that an array is not empty.\n",
      "  if diff:\n",
      "/Users/ilanfilonenko/6700/mono-MusicXML-dataset/venv/lib/python3.6/site-packages/sklearn/preprocessing/label.py:151: DeprecationWarning: The truth value of an empty array is ambiguous. Returning False, but in future this will result in an error. Use `array.size > 0` to check that an array is not empty.\n",
      "  if diff:\n",
      "/Users/ilanfilonenko/6700/mono-MusicXML-dataset/venv/lib/python3.6/site-packages/sklearn/preprocessing/label.py:151: DeprecationWarning: The truth value of an empty array is ambiguous. Returning False, but in future this will result in an error. Use `array.size > 0` to check that an array is not empty.\n",
      "  if diff:\n",
      "/Users/ilanfilonenko/6700/mono-MusicXML-dataset/venv/lib/python3.6/site-packages/sklearn/preprocessing/label.py:151: DeprecationWarning: The truth value of an empty array is ambiguous. Returning False, but in future this will result in an error. Use `array.size > 0` to check that an array is not empty.\n",
      "  if diff:\n",
      "/Users/ilanfilonenko/6700/mono-MusicXML-dataset/venv/lib/python3.6/site-packages/sklearn/preprocessing/label.py:151: DeprecationWarning: The truth value of an empty array is ambiguous. Returning False, but in future this will result in an error. Use `array.size > 0` to check that an array is not empty.\n",
      "  if diff:\n"
     ]
    },
    {
     "name": "stderr",
     "output_type": "stream",
     "text": [
      "/Users/ilanfilonenko/6700/mono-MusicXML-dataset/venv/lib/python3.6/site-packages/sklearn/preprocessing/label.py:151: DeprecationWarning: The truth value of an empty array is ambiguous. Returning False, but in future this will result in an error. Use `array.size > 0` to check that an array is not empty.\n",
      "  if diff:\n",
      "/Users/ilanfilonenko/6700/mono-MusicXML-dataset/venv/lib/python3.6/site-packages/sklearn/preprocessing/label.py:151: DeprecationWarning: The truth value of an empty array is ambiguous. Returning False, but in future this will result in an error. Use `array.size > 0` to check that an array is not empty.\n",
      "  if diff:\n",
      "/Users/ilanfilonenko/6700/mono-MusicXML-dataset/venv/lib/python3.6/site-packages/sklearn/preprocessing/label.py:151: DeprecationWarning: The truth value of an empty array is ambiguous. Returning False, but in future this will result in an error. Use `array.size > 0` to check that an array is not empty.\n",
      "  if diff:\n",
      "/Users/ilanfilonenko/6700/mono-MusicXML-dataset/venv/lib/python3.6/site-packages/sklearn/preprocessing/label.py:151: DeprecationWarning: The truth value of an empty array is ambiguous. Returning False, but in future this will result in an error. Use `array.size > 0` to check that an array is not empty.\n",
      "  if diff:\n",
      "/Users/ilanfilonenko/6700/mono-MusicXML-dataset/venv/lib/python3.6/site-packages/sklearn/preprocessing/label.py:151: DeprecationWarning: The truth value of an empty array is ambiguous. Returning False, but in future this will result in an error. Use `array.size > 0` to check that an array is not empty.\n",
      "  if diff:\n",
      "/Users/ilanfilonenko/6700/mono-MusicXML-dataset/venv/lib/python3.6/site-packages/sklearn/preprocessing/label.py:151: DeprecationWarning: The truth value of an empty array is ambiguous. Returning False, but in future this will result in an error. Use `array.size > 0` to check that an array is not empty.\n",
      "  if diff:\n",
      "/Users/ilanfilonenko/6700/mono-MusicXML-dataset/venv/lib/python3.6/site-packages/sklearn/preprocessing/label.py:151: DeprecationWarning: The truth value of an empty array is ambiguous. Returning False, but in future this will result in an error. Use `array.size > 0` to check that an array is not empty.\n",
      "  if diff:\n",
      "/Users/ilanfilonenko/6700/mono-MusicXML-dataset/venv/lib/python3.6/site-packages/sklearn/preprocessing/label.py:151: DeprecationWarning: The truth value of an empty array is ambiguous. Returning False, but in future this will result in an error. Use `array.size > 0` to check that an array is not empty.\n",
      "  if diff:\n",
      "/Users/ilanfilonenko/6700/mono-MusicXML-dataset/venv/lib/python3.6/site-packages/sklearn/preprocessing/label.py:151: DeprecationWarning: The truth value of an empty array is ambiguous. Returning False, but in future this will result in an error. Use `array.size > 0` to check that an array is not empty.\n",
      "  if diff:\n",
      "/Users/ilanfilonenko/6700/mono-MusicXML-dataset/venv/lib/python3.6/site-packages/sklearn/preprocessing/label.py:151: DeprecationWarning: The truth value of an empty array is ambiguous. Returning False, but in future this will result in an error. Use `array.size > 0` to check that an array is not empty.\n",
      "  if diff:\n",
      "/Users/ilanfilonenko/6700/mono-MusicXML-dataset/venv/lib/python3.6/site-packages/sklearn/preprocessing/label.py:151: DeprecationWarning: The truth value of an empty array is ambiguous. Returning False, but in future this will result in an error. Use `array.size > 0` to check that an array is not empty.\n",
      "  if diff:\n",
      "/Users/ilanfilonenko/6700/mono-MusicXML-dataset/venv/lib/python3.6/site-packages/sklearn/preprocessing/label.py:151: DeprecationWarning: The truth value of an empty array is ambiguous. Returning False, but in future this will result in an error. Use `array.size > 0` to check that an array is not empty.\n",
      "  if diff:\n",
      "/Users/ilanfilonenko/6700/mono-MusicXML-dataset/venv/lib/python3.6/site-packages/sklearn/preprocessing/label.py:151: DeprecationWarning: The truth value of an empty array is ambiguous. Returning False, but in future this will result in an error. Use `array.size > 0` to check that an array is not empty.\n",
      "  if diff:\n",
      "/Users/ilanfilonenko/6700/mono-MusicXML-dataset/venv/lib/python3.6/site-packages/sklearn/preprocessing/label.py:151: DeprecationWarning: The truth value of an empty array is ambiguous. Returning False, but in future this will result in an error. Use `array.size > 0` to check that an array is not empty.\n",
      "  if diff:\n",
      "/Users/ilanfilonenko/6700/mono-MusicXML-dataset/venv/lib/python3.6/site-packages/sklearn/preprocessing/label.py:151: DeprecationWarning: The truth value of an empty array is ambiguous. Returning False, but in future this will result in an error. Use `array.size > 0` to check that an array is not empty.\n",
      "  if diff:\n",
      "/Users/ilanfilonenko/6700/mono-MusicXML-dataset/venv/lib/python3.6/site-packages/sklearn/preprocessing/label.py:151: DeprecationWarning: The truth value of an empty array is ambiguous. Returning False, but in future this will result in an error. Use `array.size > 0` to check that an array is not empty.\n",
      "  if diff:\n",
      "/Users/ilanfilonenko/6700/mono-MusicXML-dataset/venv/lib/python3.6/site-packages/sklearn/preprocessing/label.py:151: DeprecationWarning: The truth value of an empty array is ambiguous. Returning False, but in future this will result in an error. Use `array.size > 0` to check that an array is not empty.\n",
      "  if diff:\n",
      "/Users/ilanfilonenko/6700/mono-MusicXML-dataset/venv/lib/python3.6/site-packages/sklearn/preprocessing/label.py:151: DeprecationWarning: The truth value of an empty array is ambiguous. Returning False, but in future this will result in an error. Use `array.size > 0` to check that an array is not empty.\n",
      "  if diff:\n",
      "/Users/ilanfilonenko/6700/mono-MusicXML-dataset/venv/lib/python3.6/site-packages/sklearn/preprocessing/label.py:151: DeprecationWarning: The truth value of an empty array is ambiguous. Returning False, but in future this will result in an error. Use `array.size > 0` to check that an array is not empty.\n",
      "  if diff:\n",
      "/Users/ilanfilonenko/6700/mono-MusicXML-dataset/venv/lib/python3.6/site-packages/sklearn/preprocessing/label.py:151: DeprecationWarning: The truth value of an empty array is ambiguous. Returning False, but in future this will result in an error. Use `array.size > 0` to check that an array is not empty.\n",
      "  if diff:\n",
      "/Users/ilanfilonenko/6700/mono-MusicXML-dataset/venv/lib/python3.6/site-packages/sklearn/preprocessing/label.py:151: DeprecationWarning: The truth value of an empty array is ambiguous. Returning False, but in future this will result in an error. Use `array.size > 0` to check that an array is not empty.\n",
      "  if diff:\n",
      "/Users/ilanfilonenko/6700/mono-MusicXML-dataset/venv/lib/python3.6/site-packages/sklearn/preprocessing/label.py:151: DeprecationWarning: The truth value of an empty array is ambiguous. Returning False, but in future this will result in an error. Use `array.size > 0` to check that an array is not empty.\n",
      "  if diff:\n",
      "/Users/ilanfilonenko/6700/mono-MusicXML-dataset/venv/lib/python3.6/site-packages/sklearn/preprocessing/label.py:151: DeprecationWarning: The truth value of an empty array is ambiguous. Returning False, but in future this will result in an error. Use `array.size > 0` to check that an array is not empty.\n",
      "  if diff:\n",
      "/Users/ilanfilonenko/6700/mono-MusicXML-dataset/venv/lib/python3.6/site-packages/sklearn/preprocessing/label.py:151: DeprecationWarning: The truth value of an empty array is ambiguous. Returning False, but in future this will result in an error. Use `array.size > 0` to check that an array is not empty.\n",
      "  if diff:\n",
      "/Users/ilanfilonenko/6700/mono-MusicXML-dataset/venv/lib/python3.6/site-packages/sklearn/preprocessing/label.py:151: DeprecationWarning: The truth value of an empty array is ambiguous. Returning False, but in future this will result in an error. Use `array.size > 0` to check that an array is not empty.\n",
      "  if diff:\n",
      "/Users/ilanfilonenko/6700/mono-MusicXML-dataset/venv/lib/python3.6/site-packages/sklearn/preprocessing/label.py:151: DeprecationWarning: The truth value of an empty array is ambiguous. Returning False, but in future this will result in an error. Use `array.size > 0` to check that an array is not empty.\n",
      "  if diff:\n",
      "/Users/ilanfilonenko/6700/mono-MusicXML-dataset/venv/lib/python3.6/site-packages/sklearn/preprocessing/label.py:151: DeprecationWarning: The truth value of an empty array is ambiguous. Returning False, but in future this will result in an error. Use `array.size > 0` to check that an array is not empty.\n",
      "  if diff:\n"
     ]
    },
    {
     "name": "stderr",
     "output_type": "stream",
     "text": [
      "/Users/ilanfilonenko/6700/mono-MusicXML-dataset/venv/lib/python3.6/site-packages/sklearn/preprocessing/label.py:151: DeprecationWarning: The truth value of an empty array is ambiguous. Returning False, but in future this will result in an error. Use `array.size > 0` to check that an array is not empty.\n",
      "  if diff:\n",
      "/Users/ilanfilonenko/6700/mono-MusicXML-dataset/venv/lib/python3.6/site-packages/sklearn/preprocessing/label.py:151: DeprecationWarning: The truth value of an empty array is ambiguous. Returning False, but in future this will result in an error. Use `array.size > 0` to check that an array is not empty.\n",
      "  if diff:\n",
      "/Users/ilanfilonenko/6700/mono-MusicXML-dataset/venv/lib/python3.6/site-packages/sklearn/preprocessing/label.py:151: DeprecationWarning: The truth value of an empty array is ambiguous. Returning False, but in future this will result in an error. Use `array.size > 0` to check that an array is not empty.\n",
      "  if diff:\n",
      "/Users/ilanfilonenko/6700/mono-MusicXML-dataset/venv/lib/python3.6/site-packages/sklearn/preprocessing/label.py:151: DeprecationWarning: The truth value of an empty array is ambiguous. Returning False, but in future this will result in an error. Use `array.size > 0` to check that an array is not empty.\n",
      "  if diff:\n",
      "/Users/ilanfilonenko/6700/mono-MusicXML-dataset/venv/lib/python3.6/site-packages/sklearn/preprocessing/label.py:151: DeprecationWarning: The truth value of an empty array is ambiguous. Returning False, but in future this will result in an error. Use `array.size > 0` to check that an array is not empty.\n",
      "  if diff:\n",
      "/Users/ilanfilonenko/6700/mono-MusicXML-dataset/venv/lib/python3.6/site-packages/sklearn/preprocessing/label.py:151: DeprecationWarning: The truth value of an empty array is ambiguous. Returning False, but in future this will result in an error. Use `array.size > 0` to check that an array is not empty.\n",
      "  if diff:\n",
      "/Users/ilanfilonenko/6700/mono-MusicXML-dataset/venv/lib/python3.6/site-packages/sklearn/preprocessing/label.py:151: DeprecationWarning: The truth value of an empty array is ambiguous. Returning False, but in future this will result in an error. Use `array.size > 0` to check that an array is not empty.\n",
      "  if diff:\n",
      "/Users/ilanfilonenko/6700/mono-MusicXML-dataset/venv/lib/python3.6/site-packages/sklearn/preprocessing/label.py:151: DeprecationWarning: The truth value of an empty array is ambiguous. Returning False, but in future this will result in an error. Use `array.size > 0` to check that an array is not empty.\n",
      "  if diff:\n",
      "/Users/ilanfilonenko/6700/mono-MusicXML-dataset/venv/lib/python3.6/site-packages/sklearn/preprocessing/label.py:151: DeprecationWarning: The truth value of an empty array is ambiguous. Returning False, but in future this will result in an error. Use `array.size > 0` to check that an array is not empty.\n",
      "  if diff:\n",
      "/Users/ilanfilonenko/6700/mono-MusicXML-dataset/venv/lib/python3.6/site-packages/sklearn/preprocessing/label.py:151: DeprecationWarning: The truth value of an empty array is ambiguous. Returning False, but in future this will result in an error. Use `array.size > 0` to check that an array is not empty.\n",
      "  if diff:\n",
      "/Users/ilanfilonenko/6700/mono-MusicXML-dataset/venv/lib/python3.6/site-packages/sklearn/preprocessing/label.py:151: DeprecationWarning: The truth value of an empty array is ambiguous. Returning False, but in future this will result in an error. Use `array.size > 0` to check that an array is not empty.\n",
      "  if diff:\n",
      "/Users/ilanfilonenko/6700/mono-MusicXML-dataset/venv/lib/python3.6/site-packages/sklearn/preprocessing/label.py:151: DeprecationWarning: The truth value of an empty array is ambiguous. Returning False, but in future this will result in an error. Use `array.size > 0` to check that an array is not empty.\n",
      "  if diff:\n",
      "/Users/ilanfilonenko/6700/mono-MusicXML-dataset/venv/lib/python3.6/site-packages/sklearn/preprocessing/label.py:151: DeprecationWarning: The truth value of an empty array is ambiguous. Returning False, but in future this will result in an error. Use `array.size > 0` to check that an array is not empty.\n",
      "  if diff:\n",
      "/Users/ilanfilonenko/6700/mono-MusicXML-dataset/venv/lib/python3.6/site-packages/sklearn/preprocessing/label.py:151: DeprecationWarning: The truth value of an empty array is ambiguous. Returning False, but in future this will result in an error. Use `array.size > 0` to check that an array is not empty.\n",
      "  if diff:\n",
      "/Users/ilanfilonenko/6700/mono-MusicXML-dataset/venv/lib/python3.6/site-packages/sklearn/preprocessing/label.py:151: DeprecationWarning: The truth value of an empty array is ambiguous. Returning False, but in future this will result in an error. Use `array.size > 0` to check that an array is not empty.\n",
      "  if diff:\n",
      "/Users/ilanfilonenko/6700/mono-MusicXML-dataset/venv/lib/python3.6/site-packages/sklearn/preprocessing/label.py:151: DeprecationWarning: The truth value of an empty array is ambiguous. Returning False, but in future this will result in an error. Use `array.size > 0` to check that an array is not empty.\n",
      "  if diff:\n",
      "/Users/ilanfilonenko/6700/mono-MusicXML-dataset/venv/lib/python3.6/site-packages/sklearn/preprocessing/label.py:151: DeprecationWarning: The truth value of an empty array is ambiguous. Returning False, but in future this will result in an error. Use `array.size > 0` to check that an array is not empty.\n",
      "  if diff:\n",
      "/Users/ilanfilonenko/6700/mono-MusicXML-dataset/venv/lib/python3.6/site-packages/sklearn/preprocessing/label.py:151: DeprecationWarning: The truth value of an empty array is ambiguous. Returning False, but in future this will result in an error. Use `array.size > 0` to check that an array is not empty.\n",
      "  if diff:\n",
      "/Users/ilanfilonenko/6700/mono-MusicXML-dataset/venv/lib/python3.6/site-packages/sklearn/preprocessing/label.py:151: DeprecationWarning: The truth value of an empty array is ambiguous. Returning False, but in future this will result in an error. Use `array.size > 0` to check that an array is not empty.\n",
      "  if diff:\n",
      "/Users/ilanfilonenko/6700/mono-MusicXML-dataset/venv/lib/python3.6/site-packages/sklearn/preprocessing/label.py:151: DeprecationWarning: The truth value of an empty array is ambiguous. Returning False, but in future this will result in an error. Use `array.size > 0` to check that an array is not empty.\n",
      "  if diff:\n",
      "/Users/ilanfilonenko/6700/mono-MusicXML-dataset/venv/lib/python3.6/site-packages/sklearn/preprocessing/label.py:151: DeprecationWarning: The truth value of an empty array is ambiguous. Returning False, but in future this will result in an error. Use `array.size > 0` to check that an array is not empty.\n",
      "  if diff:\n",
      "/Users/ilanfilonenko/6700/mono-MusicXML-dataset/venv/lib/python3.6/site-packages/sklearn/preprocessing/label.py:151: DeprecationWarning: The truth value of an empty array is ambiguous. Returning False, but in future this will result in an error. Use `array.size > 0` to check that an array is not empty.\n",
      "  if diff:\n",
      "/Users/ilanfilonenko/6700/mono-MusicXML-dataset/venv/lib/python3.6/site-packages/sklearn/preprocessing/label.py:151: DeprecationWarning: The truth value of an empty array is ambiguous. Returning False, but in future this will result in an error. Use `array.size > 0` to check that an array is not empty.\n",
      "  if diff:\n",
      "/Users/ilanfilonenko/6700/mono-MusicXML-dataset/venv/lib/python3.6/site-packages/sklearn/preprocessing/label.py:151: DeprecationWarning: The truth value of an empty array is ambiguous. Returning False, but in future this will result in an error. Use `array.size > 0` to check that an array is not empty.\n",
      "  if diff:\n",
      "/Users/ilanfilonenko/6700/mono-MusicXML-dataset/venv/lib/python3.6/site-packages/sklearn/preprocessing/label.py:151: DeprecationWarning: The truth value of an empty array is ambiguous. Returning False, but in future this will result in an error. Use `array.size > 0` to check that an array is not empty.\n",
      "  if diff:\n",
      "/Users/ilanfilonenko/6700/mono-MusicXML-dataset/venv/lib/python3.6/site-packages/sklearn/preprocessing/label.py:151: DeprecationWarning: The truth value of an empty array is ambiguous. Returning False, but in future this will result in an error. Use `array.size > 0` to check that an array is not empty.\n",
      "  if diff:\n",
      "/Users/ilanfilonenko/6700/mono-MusicXML-dataset/venv/lib/python3.6/site-packages/sklearn/preprocessing/label.py:151: DeprecationWarning: The truth value of an empty array is ambiguous. Returning False, but in future this will result in an error. Use `array.size > 0` to check that an array is not empty.\n",
      "  if diff:\n"
     ]
    },
    {
     "name": "stderr",
     "output_type": "stream",
     "text": [
      "/Users/ilanfilonenko/6700/mono-MusicXML-dataset/venv/lib/python3.6/site-packages/sklearn/preprocessing/label.py:151: DeprecationWarning: The truth value of an empty array is ambiguous. Returning False, but in future this will result in an error. Use `array.size > 0` to check that an array is not empty.\n",
      "  if diff:\n",
      "/Users/ilanfilonenko/6700/mono-MusicXML-dataset/venv/lib/python3.6/site-packages/sklearn/preprocessing/label.py:151: DeprecationWarning: The truth value of an empty array is ambiguous. Returning False, but in future this will result in an error. Use `array.size > 0` to check that an array is not empty.\n",
      "  if diff:\n",
      "/Users/ilanfilonenko/6700/mono-MusicXML-dataset/venv/lib/python3.6/site-packages/sklearn/preprocessing/label.py:151: DeprecationWarning: The truth value of an empty array is ambiguous. Returning False, but in future this will result in an error. Use `array.size > 0` to check that an array is not empty.\n",
      "  if diff:\n",
      "/Users/ilanfilonenko/6700/mono-MusicXML-dataset/venv/lib/python3.6/site-packages/sklearn/preprocessing/label.py:151: DeprecationWarning: The truth value of an empty array is ambiguous. Returning False, but in future this will result in an error. Use `array.size > 0` to check that an array is not empty.\n",
      "  if diff:\n",
      "/Users/ilanfilonenko/6700/mono-MusicXML-dataset/venv/lib/python3.6/site-packages/sklearn/preprocessing/label.py:151: DeprecationWarning: The truth value of an empty array is ambiguous. Returning False, but in future this will result in an error. Use `array.size > 0` to check that an array is not empty.\n",
      "  if diff:\n",
      "/Users/ilanfilonenko/6700/mono-MusicXML-dataset/venv/lib/python3.6/site-packages/sklearn/preprocessing/label.py:151: DeprecationWarning: The truth value of an empty array is ambiguous. Returning False, but in future this will result in an error. Use `array.size > 0` to check that an array is not empty.\n",
      "  if diff:\n",
      "/Users/ilanfilonenko/6700/mono-MusicXML-dataset/venv/lib/python3.6/site-packages/sklearn/preprocessing/label.py:151: DeprecationWarning: The truth value of an empty array is ambiguous. Returning False, but in future this will result in an error. Use `array.size > 0` to check that an array is not empty.\n",
      "  if diff:\n",
      "/Users/ilanfilonenko/6700/mono-MusicXML-dataset/venv/lib/python3.6/site-packages/sklearn/preprocessing/label.py:151: DeprecationWarning: The truth value of an empty array is ambiguous. Returning False, but in future this will result in an error. Use `array.size > 0` to check that an array is not empty.\n",
      "  if diff:\n",
      "/Users/ilanfilonenko/6700/mono-MusicXML-dataset/venv/lib/python3.6/site-packages/sklearn/preprocessing/label.py:151: DeprecationWarning: The truth value of an empty array is ambiguous. Returning False, but in future this will result in an error. Use `array.size > 0` to check that an array is not empty.\n",
      "  if diff:\n",
      "/Users/ilanfilonenko/6700/mono-MusicXML-dataset/venv/lib/python3.6/site-packages/sklearn/preprocessing/label.py:151: DeprecationWarning: The truth value of an empty array is ambiguous. Returning False, but in future this will result in an error. Use `array.size > 0` to check that an array is not empty.\n",
      "  if diff:\n",
      "/Users/ilanfilonenko/6700/mono-MusicXML-dataset/venv/lib/python3.6/site-packages/sklearn/preprocessing/label.py:151: DeprecationWarning: The truth value of an empty array is ambiguous. Returning False, but in future this will result in an error. Use `array.size > 0` to check that an array is not empty.\n",
      "  if diff:\n",
      "/Users/ilanfilonenko/6700/mono-MusicXML-dataset/venv/lib/python3.6/site-packages/sklearn/preprocessing/label.py:151: DeprecationWarning: The truth value of an empty array is ambiguous. Returning False, but in future this will result in an error. Use `array.size > 0` to check that an array is not empty.\n",
      "  if diff:\n",
      "/Users/ilanfilonenko/6700/mono-MusicXML-dataset/venv/lib/python3.6/site-packages/sklearn/preprocessing/label.py:151: DeprecationWarning: The truth value of an empty array is ambiguous. Returning False, but in future this will result in an error. Use `array.size > 0` to check that an array is not empty.\n",
      "  if diff:\n",
      "/Users/ilanfilonenko/6700/mono-MusicXML-dataset/venv/lib/python3.6/site-packages/sklearn/preprocessing/label.py:151: DeprecationWarning: The truth value of an empty array is ambiguous. Returning False, but in future this will result in an error. Use `array.size > 0` to check that an array is not empty.\n",
      "  if diff:\n",
      "/Users/ilanfilonenko/6700/mono-MusicXML-dataset/venv/lib/python3.6/site-packages/sklearn/preprocessing/label.py:151: DeprecationWarning: The truth value of an empty array is ambiguous. Returning False, but in future this will result in an error. Use `array.size > 0` to check that an array is not empty.\n",
      "  if diff:\n",
      "/Users/ilanfilonenko/6700/mono-MusicXML-dataset/venv/lib/python3.6/site-packages/sklearn/preprocessing/label.py:151: DeprecationWarning: The truth value of an empty array is ambiguous. Returning False, but in future this will result in an error. Use `array.size > 0` to check that an array is not empty.\n",
      "  if diff:\n",
      "/Users/ilanfilonenko/6700/mono-MusicXML-dataset/venv/lib/python3.6/site-packages/sklearn/preprocessing/label.py:151: DeprecationWarning: The truth value of an empty array is ambiguous. Returning False, but in future this will result in an error. Use `array.size > 0` to check that an array is not empty.\n",
      "  if diff:\n",
      "/Users/ilanfilonenko/6700/mono-MusicXML-dataset/venv/lib/python3.6/site-packages/sklearn/preprocessing/label.py:151: DeprecationWarning: The truth value of an empty array is ambiguous. Returning False, but in future this will result in an error. Use `array.size > 0` to check that an array is not empty.\n",
      "  if diff:\n",
      "/Users/ilanfilonenko/6700/mono-MusicXML-dataset/venv/lib/python3.6/site-packages/sklearn/preprocessing/label.py:151: DeprecationWarning: The truth value of an empty array is ambiguous. Returning False, but in future this will result in an error. Use `array.size > 0` to check that an array is not empty.\n",
      "  if diff:\n",
      "/Users/ilanfilonenko/6700/mono-MusicXML-dataset/venv/lib/python3.6/site-packages/sklearn/preprocessing/label.py:151: DeprecationWarning: The truth value of an empty array is ambiguous. Returning False, but in future this will result in an error. Use `array.size > 0` to check that an array is not empty.\n",
      "  if diff:\n",
      "/Users/ilanfilonenko/6700/mono-MusicXML-dataset/venv/lib/python3.6/site-packages/sklearn/preprocessing/label.py:151: DeprecationWarning: The truth value of an empty array is ambiguous. Returning False, but in future this will result in an error. Use `array.size > 0` to check that an array is not empty.\n",
      "  if diff:\n",
      "/Users/ilanfilonenko/6700/mono-MusicXML-dataset/venv/lib/python3.6/site-packages/sklearn/preprocessing/label.py:151: DeprecationWarning: The truth value of an empty array is ambiguous. Returning False, but in future this will result in an error. Use `array.size > 0` to check that an array is not empty.\n",
      "  if diff:\n",
      "/Users/ilanfilonenko/6700/mono-MusicXML-dataset/venv/lib/python3.6/site-packages/sklearn/preprocessing/label.py:151: DeprecationWarning: The truth value of an empty array is ambiguous. Returning False, but in future this will result in an error. Use `array.size > 0` to check that an array is not empty.\n",
      "  if diff:\n",
      "/Users/ilanfilonenko/6700/mono-MusicXML-dataset/venv/lib/python3.6/site-packages/sklearn/preprocessing/label.py:151: DeprecationWarning: The truth value of an empty array is ambiguous. Returning False, but in future this will result in an error. Use `array.size > 0` to check that an array is not empty.\n",
      "  if diff:\n",
      "/Users/ilanfilonenko/6700/mono-MusicXML-dataset/venv/lib/python3.6/site-packages/sklearn/preprocessing/label.py:151: DeprecationWarning: The truth value of an empty array is ambiguous. Returning False, but in future this will result in an error. Use `array.size > 0` to check that an array is not empty.\n",
      "  if diff:\n",
      "/Users/ilanfilonenko/6700/mono-MusicXML-dataset/venv/lib/python3.6/site-packages/sklearn/preprocessing/label.py:151: DeprecationWarning: The truth value of an empty array is ambiguous. Returning False, but in future this will result in an error. Use `array.size > 0` to check that an array is not empty.\n",
      "  if diff:\n",
      "/Users/ilanfilonenko/6700/mono-MusicXML-dataset/venv/lib/python3.6/site-packages/sklearn/preprocessing/label.py:151: DeprecationWarning: The truth value of an empty array is ambiguous. Returning False, but in future this will result in an error. Use `array.size > 0` to check that an array is not empty.\n",
      "  if diff:\n"
     ]
    },
    {
     "name": "stderr",
     "output_type": "stream",
     "text": [
      "/Users/ilanfilonenko/6700/mono-MusicXML-dataset/venv/lib/python3.6/site-packages/sklearn/preprocessing/label.py:151: DeprecationWarning: The truth value of an empty array is ambiguous. Returning False, but in future this will result in an error. Use `array.size > 0` to check that an array is not empty.\n",
      "  if diff:\n",
      "/Users/ilanfilonenko/6700/mono-MusicXML-dataset/venv/lib/python3.6/site-packages/sklearn/preprocessing/label.py:151: DeprecationWarning: The truth value of an empty array is ambiguous. Returning False, but in future this will result in an error. Use `array.size > 0` to check that an array is not empty.\n",
      "  if diff:\n",
      "/Users/ilanfilonenko/6700/mono-MusicXML-dataset/venv/lib/python3.6/site-packages/sklearn/preprocessing/label.py:151: DeprecationWarning: The truth value of an empty array is ambiguous. Returning False, but in future this will result in an error. Use `array.size > 0` to check that an array is not empty.\n",
      "  if diff:\n",
      "/Users/ilanfilonenko/6700/mono-MusicXML-dataset/venv/lib/python3.6/site-packages/sklearn/preprocessing/label.py:151: DeprecationWarning: The truth value of an empty array is ambiguous. Returning False, but in future this will result in an error. Use `array.size > 0` to check that an array is not empty.\n",
      "  if diff:\n",
      "/Users/ilanfilonenko/6700/mono-MusicXML-dataset/venv/lib/python3.6/site-packages/sklearn/preprocessing/label.py:151: DeprecationWarning: The truth value of an empty array is ambiguous. Returning False, but in future this will result in an error. Use `array.size > 0` to check that an array is not empty.\n",
      "  if diff:\n",
      "/Users/ilanfilonenko/6700/mono-MusicXML-dataset/venv/lib/python3.6/site-packages/sklearn/preprocessing/label.py:151: DeprecationWarning: The truth value of an empty array is ambiguous. Returning False, but in future this will result in an error. Use `array.size > 0` to check that an array is not empty.\n",
      "  if diff:\n",
      "/Users/ilanfilonenko/6700/mono-MusicXML-dataset/venv/lib/python3.6/site-packages/sklearn/preprocessing/label.py:151: DeprecationWarning: The truth value of an empty array is ambiguous. Returning False, but in future this will result in an error. Use `array.size > 0` to check that an array is not empty.\n",
      "  if diff:\n",
      "/Users/ilanfilonenko/6700/mono-MusicXML-dataset/venv/lib/python3.6/site-packages/sklearn/preprocessing/label.py:151: DeprecationWarning: The truth value of an empty array is ambiguous. Returning False, but in future this will result in an error. Use `array.size > 0` to check that an array is not empty.\n",
      "  if diff:\n",
      "/Users/ilanfilonenko/6700/mono-MusicXML-dataset/venv/lib/python3.6/site-packages/sklearn/preprocessing/label.py:151: DeprecationWarning: The truth value of an empty array is ambiguous. Returning False, but in future this will result in an error. Use `array.size > 0` to check that an array is not empty.\n",
      "  if diff:\n",
      "/Users/ilanfilonenko/6700/mono-MusicXML-dataset/venv/lib/python3.6/site-packages/sklearn/preprocessing/label.py:151: DeprecationWarning: The truth value of an empty array is ambiguous. Returning False, but in future this will result in an error. Use `array.size > 0` to check that an array is not empty.\n",
      "  if diff:\n",
      "/Users/ilanfilonenko/6700/mono-MusicXML-dataset/venv/lib/python3.6/site-packages/sklearn/preprocessing/label.py:151: DeprecationWarning: The truth value of an empty array is ambiguous. Returning False, but in future this will result in an error. Use `array.size > 0` to check that an array is not empty.\n",
      "  if diff:\n",
      "/Users/ilanfilonenko/6700/mono-MusicXML-dataset/venv/lib/python3.6/site-packages/sklearn/preprocessing/label.py:151: DeprecationWarning: The truth value of an empty array is ambiguous. Returning False, but in future this will result in an error. Use `array.size > 0` to check that an array is not empty.\n",
      "  if diff:\n",
      "/Users/ilanfilonenko/6700/mono-MusicXML-dataset/venv/lib/python3.6/site-packages/sklearn/preprocessing/label.py:151: DeprecationWarning: The truth value of an empty array is ambiguous. Returning False, but in future this will result in an error. Use `array.size > 0` to check that an array is not empty.\n",
      "  if diff:\n",
      "/Users/ilanfilonenko/6700/mono-MusicXML-dataset/venv/lib/python3.6/site-packages/sklearn/preprocessing/label.py:151: DeprecationWarning: The truth value of an empty array is ambiguous. Returning False, but in future this will result in an error. Use `array.size > 0` to check that an array is not empty.\n",
      "  if diff:\n",
      "/Users/ilanfilonenko/6700/mono-MusicXML-dataset/venv/lib/python3.6/site-packages/sklearn/preprocessing/label.py:151: DeprecationWarning: The truth value of an empty array is ambiguous. Returning False, but in future this will result in an error. Use `array.size > 0` to check that an array is not empty.\n",
      "  if diff:\n",
      "/Users/ilanfilonenko/6700/mono-MusicXML-dataset/venv/lib/python3.6/site-packages/sklearn/preprocessing/label.py:151: DeprecationWarning: The truth value of an empty array is ambiguous. Returning False, but in future this will result in an error. Use `array.size > 0` to check that an array is not empty.\n",
      "  if diff:\n",
      "/Users/ilanfilonenko/6700/mono-MusicXML-dataset/venv/lib/python3.6/site-packages/sklearn/preprocessing/label.py:151: DeprecationWarning: The truth value of an empty array is ambiguous. Returning False, but in future this will result in an error. Use `array.size > 0` to check that an array is not empty.\n",
      "  if diff:\n",
      "/Users/ilanfilonenko/6700/mono-MusicXML-dataset/venv/lib/python3.6/site-packages/sklearn/preprocessing/label.py:151: DeprecationWarning: The truth value of an empty array is ambiguous. Returning False, but in future this will result in an error. Use `array.size > 0` to check that an array is not empty.\n",
      "  if diff:\n",
      "/Users/ilanfilonenko/6700/mono-MusicXML-dataset/venv/lib/python3.6/site-packages/sklearn/preprocessing/label.py:151: DeprecationWarning: The truth value of an empty array is ambiguous. Returning False, but in future this will result in an error. Use `array.size > 0` to check that an array is not empty.\n",
      "  if diff:\n",
      "/Users/ilanfilonenko/6700/mono-MusicXML-dataset/venv/lib/python3.6/site-packages/sklearn/preprocessing/label.py:151: DeprecationWarning: The truth value of an empty array is ambiguous. Returning False, but in future this will result in an error. Use `array.size > 0` to check that an array is not empty.\n",
      "  if diff:\n",
      "/Users/ilanfilonenko/6700/mono-MusicXML-dataset/venv/lib/python3.6/site-packages/sklearn/preprocessing/label.py:151: DeprecationWarning: The truth value of an empty array is ambiguous. Returning False, but in future this will result in an error. Use `array.size > 0` to check that an array is not empty.\n",
      "  if diff:\n",
      "/Users/ilanfilonenko/6700/mono-MusicXML-dataset/venv/lib/python3.6/site-packages/sklearn/preprocessing/label.py:151: DeprecationWarning: The truth value of an empty array is ambiguous. Returning False, but in future this will result in an error. Use `array.size > 0` to check that an array is not empty.\n",
      "  if diff:\n",
      "/Users/ilanfilonenko/6700/mono-MusicXML-dataset/venv/lib/python3.6/site-packages/sklearn/preprocessing/label.py:151: DeprecationWarning: The truth value of an empty array is ambiguous. Returning False, but in future this will result in an error. Use `array.size > 0` to check that an array is not empty.\n",
      "  if diff:\n",
      "/Users/ilanfilonenko/6700/mono-MusicXML-dataset/venv/lib/python3.6/site-packages/sklearn/preprocessing/label.py:151: DeprecationWarning: The truth value of an empty array is ambiguous. Returning False, but in future this will result in an error. Use `array.size > 0` to check that an array is not empty.\n",
      "  if diff:\n",
      "/Users/ilanfilonenko/6700/mono-MusicXML-dataset/venv/lib/python3.6/site-packages/sklearn/preprocessing/label.py:151: DeprecationWarning: The truth value of an empty array is ambiguous. Returning False, but in future this will result in an error. Use `array.size > 0` to check that an array is not empty.\n",
      "  if diff:\n",
      "/Users/ilanfilonenko/6700/mono-MusicXML-dataset/venv/lib/python3.6/site-packages/sklearn/preprocessing/label.py:151: DeprecationWarning: The truth value of an empty array is ambiguous. Returning False, but in future this will result in an error. Use `array.size > 0` to check that an array is not empty.\n",
      "  if diff:\n",
      "/Users/ilanfilonenko/6700/mono-MusicXML-dataset/venv/lib/python3.6/site-packages/sklearn/preprocessing/label.py:151: DeprecationWarning: The truth value of an empty array is ambiguous. Returning False, but in future this will result in an error. Use `array.size > 0` to check that an array is not empty.\n",
      "  if diff:\n"
     ]
    },
    {
     "name": "stderr",
     "output_type": "stream",
     "text": [
      "/Users/ilanfilonenko/6700/mono-MusicXML-dataset/venv/lib/python3.6/site-packages/sklearn/preprocessing/label.py:151: DeprecationWarning: The truth value of an empty array is ambiguous. Returning False, but in future this will result in an error. Use `array.size > 0` to check that an array is not empty.\n",
      "  if diff:\n",
      "/Users/ilanfilonenko/6700/mono-MusicXML-dataset/venv/lib/python3.6/site-packages/sklearn/preprocessing/label.py:151: DeprecationWarning: The truth value of an empty array is ambiguous. Returning False, but in future this will result in an error. Use `array.size > 0` to check that an array is not empty.\n",
      "  if diff:\n",
      "/Users/ilanfilonenko/6700/mono-MusicXML-dataset/venv/lib/python3.6/site-packages/sklearn/preprocessing/label.py:151: DeprecationWarning: The truth value of an empty array is ambiguous. Returning False, but in future this will result in an error. Use `array.size > 0` to check that an array is not empty.\n",
      "  if diff:\n",
      "/Users/ilanfilonenko/6700/mono-MusicXML-dataset/venv/lib/python3.6/site-packages/sklearn/preprocessing/label.py:151: DeprecationWarning: The truth value of an empty array is ambiguous. Returning False, but in future this will result in an error. Use `array.size > 0` to check that an array is not empty.\n",
      "  if diff:\n",
      "/Users/ilanfilonenko/6700/mono-MusicXML-dataset/venv/lib/python3.6/site-packages/sklearn/preprocessing/label.py:151: DeprecationWarning: The truth value of an empty array is ambiguous. Returning False, but in future this will result in an error. Use `array.size > 0` to check that an array is not empty.\n",
      "  if diff:\n",
      "/Users/ilanfilonenko/6700/mono-MusicXML-dataset/venv/lib/python3.6/site-packages/sklearn/preprocessing/label.py:151: DeprecationWarning: The truth value of an empty array is ambiguous. Returning False, but in future this will result in an error. Use `array.size > 0` to check that an array is not empty.\n",
      "  if diff:\n",
      "/Users/ilanfilonenko/6700/mono-MusicXML-dataset/venv/lib/python3.6/site-packages/sklearn/preprocessing/label.py:151: DeprecationWarning: The truth value of an empty array is ambiguous. Returning False, but in future this will result in an error. Use `array.size > 0` to check that an array is not empty.\n",
      "  if diff:\n",
      "/Users/ilanfilonenko/6700/mono-MusicXML-dataset/venv/lib/python3.6/site-packages/sklearn/preprocessing/label.py:151: DeprecationWarning: The truth value of an empty array is ambiguous. Returning False, but in future this will result in an error. Use `array.size > 0` to check that an array is not empty.\n",
      "  if diff:\n",
      "/Users/ilanfilonenko/6700/mono-MusicXML-dataset/venv/lib/python3.6/site-packages/sklearn/preprocessing/label.py:151: DeprecationWarning: The truth value of an empty array is ambiguous. Returning False, but in future this will result in an error. Use `array.size > 0` to check that an array is not empty.\n",
      "  if diff:\n",
      "/Users/ilanfilonenko/6700/mono-MusicXML-dataset/venv/lib/python3.6/site-packages/sklearn/preprocessing/label.py:151: DeprecationWarning: The truth value of an empty array is ambiguous. Returning False, but in future this will result in an error. Use `array.size > 0` to check that an array is not empty.\n",
      "  if diff:\n",
      "/Users/ilanfilonenko/6700/mono-MusicXML-dataset/venv/lib/python3.6/site-packages/sklearn/preprocessing/label.py:151: DeprecationWarning: The truth value of an empty array is ambiguous. Returning False, but in future this will result in an error. Use `array.size > 0` to check that an array is not empty.\n",
      "  if diff:\n",
      "/Users/ilanfilonenko/6700/mono-MusicXML-dataset/venv/lib/python3.6/site-packages/sklearn/preprocessing/label.py:151: DeprecationWarning: The truth value of an empty array is ambiguous. Returning False, but in future this will result in an error. Use `array.size > 0` to check that an array is not empty.\n",
      "  if diff:\n",
      "/Users/ilanfilonenko/6700/mono-MusicXML-dataset/venv/lib/python3.6/site-packages/sklearn/preprocessing/label.py:151: DeprecationWarning: The truth value of an empty array is ambiguous. Returning False, but in future this will result in an error. Use `array.size > 0` to check that an array is not empty.\n",
      "  if diff:\n",
      "/Users/ilanfilonenko/6700/mono-MusicXML-dataset/venv/lib/python3.6/site-packages/sklearn/preprocessing/label.py:151: DeprecationWarning: The truth value of an empty array is ambiguous. Returning False, but in future this will result in an error. Use `array.size > 0` to check that an array is not empty.\n",
      "  if diff:\n",
      "/Users/ilanfilonenko/6700/mono-MusicXML-dataset/venv/lib/python3.6/site-packages/sklearn/preprocessing/label.py:151: DeprecationWarning: The truth value of an empty array is ambiguous. Returning False, but in future this will result in an error. Use `array.size > 0` to check that an array is not empty.\n",
      "  if diff:\n",
      "/Users/ilanfilonenko/6700/mono-MusicXML-dataset/venv/lib/python3.6/site-packages/sklearn/preprocessing/label.py:151: DeprecationWarning: The truth value of an empty array is ambiguous. Returning False, but in future this will result in an error. Use `array.size > 0` to check that an array is not empty.\n",
      "  if diff:\n",
      "/Users/ilanfilonenko/6700/mono-MusicXML-dataset/venv/lib/python3.6/site-packages/sklearn/preprocessing/label.py:151: DeprecationWarning: The truth value of an empty array is ambiguous. Returning False, but in future this will result in an error. Use `array.size > 0` to check that an array is not empty.\n",
      "  if diff:\n",
      "/Users/ilanfilonenko/6700/mono-MusicXML-dataset/venv/lib/python3.6/site-packages/sklearn/preprocessing/label.py:151: DeprecationWarning: The truth value of an empty array is ambiguous. Returning False, but in future this will result in an error. Use `array.size > 0` to check that an array is not empty.\n",
      "  if diff:\n",
      "/Users/ilanfilonenko/6700/mono-MusicXML-dataset/venv/lib/python3.6/site-packages/sklearn/preprocessing/label.py:151: DeprecationWarning: The truth value of an empty array is ambiguous. Returning False, but in future this will result in an error. Use `array.size > 0` to check that an array is not empty.\n",
      "  if diff:\n",
      "/Users/ilanfilonenko/6700/mono-MusicXML-dataset/venv/lib/python3.6/site-packages/sklearn/preprocessing/label.py:151: DeprecationWarning: The truth value of an empty array is ambiguous. Returning False, but in future this will result in an error. Use `array.size > 0` to check that an array is not empty.\n",
      "  if diff:\n",
      "/Users/ilanfilonenko/6700/mono-MusicXML-dataset/venv/lib/python3.6/site-packages/sklearn/preprocessing/label.py:151: DeprecationWarning: The truth value of an empty array is ambiguous. Returning False, but in future this will result in an error. Use `array.size > 0` to check that an array is not empty.\n",
      "  if diff:\n",
      "/Users/ilanfilonenko/6700/mono-MusicXML-dataset/venv/lib/python3.6/site-packages/sklearn/preprocessing/label.py:151: DeprecationWarning: The truth value of an empty array is ambiguous. Returning False, but in future this will result in an error. Use `array.size > 0` to check that an array is not empty.\n",
      "  if diff:\n",
      "/Users/ilanfilonenko/6700/mono-MusicXML-dataset/venv/lib/python3.6/site-packages/sklearn/preprocessing/label.py:151: DeprecationWarning: The truth value of an empty array is ambiguous. Returning False, but in future this will result in an error. Use `array.size > 0` to check that an array is not empty.\n",
      "  if diff:\n",
      "/Users/ilanfilonenko/6700/mono-MusicXML-dataset/venv/lib/python3.6/site-packages/sklearn/preprocessing/label.py:151: DeprecationWarning: The truth value of an empty array is ambiguous. Returning False, but in future this will result in an error. Use `array.size > 0` to check that an array is not empty.\n",
      "  if diff:\n",
      "/Users/ilanfilonenko/6700/mono-MusicXML-dataset/venv/lib/python3.6/site-packages/sklearn/preprocessing/label.py:151: DeprecationWarning: The truth value of an empty array is ambiguous. Returning False, but in future this will result in an error. Use `array.size > 0` to check that an array is not empty.\n",
      "  if diff:\n",
      "/Users/ilanfilonenko/6700/mono-MusicXML-dataset/venv/lib/python3.6/site-packages/sklearn/preprocessing/label.py:151: DeprecationWarning: The truth value of an empty array is ambiguous. Returning False, but in future this will result in an error. Use `array.size > 0` to check that an array is not empty.\n",
      "  if diff:\n",
      "/Users/ilanfilonenko/6700/mono-MusicXML-dataset/venv/lib/python3.6/site-packages/sklearn/preprocessing/label.py:151: DeprecationWarning: The truth value of an empty array is ambiguous. Returning False, but in future this will result in an error. Use `array.size > 0` to check that an array is not empty.\n",
      "  if diff:\n"
     ]
    },
    {
     "name": "stderr",
     "output_type": "stream",
     "text": [
      "/Users/ilanfilonenko/6700/mono-MusicXML-dataset/venv/lib/python3.6/site-packages/sklearn/preprocessing/label.py:151: DeprecationWarning: The truth value of an empty array is ambiguous. Returning False, but in future this will result in an error. Use `array.size > 0` to check that an array is not empty.\n",
      "  if diff:\n",
      "/Users/ilanfilonenko/6700/mono-MusicXML-dataset/venv/lib/python3.6/site-packages/sklearn/preprocessing/label.py:151: DeprecationWarning: The truth value of an empty array is ambiguous. Returning False, but in future this will result in an error. Use `array.size > 0` to check that an array is not empty.\n",
      "  if diff:\n",
      "/Users/ilanfilonenko/6700/mono-MusicXML-dataset/venv/lib/python3.6/site-packages/sklearn/preprocessing/label.py:151: DeprecationWarning: The truth value of an empty array is ambiguous. Returning False, but in future this will result in an error. Use `array.size > 0` to check that an array is not empty.\n",
      "  if diff:\n",
      "/Users/ilanfilonenko/6700/mono-MusicXML-dataset/venv/lib/python3.6/site-packages/sklearn/preprocessing/label.py:151: DeprecationWarning: The truth value of an empty array is ambiguous. Returning False, but in future this will result in an error. Use `array.size > 0` to check that an array is not empty.\n",
      "  if diff:\n",
      "/Users/ilanfilonenko/6700/mono-MusicXML-dataset/venv/lib/python3.6/site-packages/sklearn/preprocessing/label.py:151: DeprecationWarning: The truth value of an empty array is ambiguous. Returning False, but in future this will result in an error. Use `array.size > 0` to check that an array is not empty.\n",
      "  if diff:\n",
      "/Users/ilanfilonenko/6700/mono-MusicXML-dataset/venv/lib/python3.6/site-packages/sklearn/preprocessing/label.py:151: DeprecationWarning: The truth value of an empty array is ambiguous. Returning False, but in future this will result in an error. Use `array.size > 0` to check that an array is not empty.\n",
      "  if diff:\n",
      "/Users/ilanfilonenko/6700/mono-MusicXML-dataset/venv/lib/python3.6/site-packages/sklearn/preprocessing/label.py:151: DeprecationWarning: The truth value of an empty array is ambiguous. Returning False, but in future this will result in an error. Use `array.size > 0` to check that an array is not empty.\n",
      "  if diff:\n",
      "/Users/ilanfilonenko/6700/mono-MusicXML-dataset/venv/lib/python3.6/site-packages/sklearn/preprocessing/label.py:151: DeprecationWarning: The truth value of an empty array is ambiguous. Returning False, but in future this will result in an error. Use `array.size > 0` to check that an array is not empty.\n",
      "  if diff:\n",
      "/Users/ilanfilonenko/6700/mono-MusicXML-dataset/venv/lib/python3.6/site-packages/sklearn/preprocessing/label.py:151: DeprecationWarning: The truth value of an empty array is ambiguous. Returning False, but in future this will result in an error. Use `array.size > 0` to check that an array is not empty.\n",
      "  if diff:\n",
      "/Users/ilanfilonenko/6700/mono-MusicXML-dataset/venv/lib/python3.6/site-packages/sklearn/preprocessing/label.py:151: DeprecationWarning: The truth value of an empty array is ambiguous. Returning False, but in future this will result in an error. Use `array.size > 0` to check that an array is not empty.\n",
      "  if diff:\n",
      "/Users/ilanfilonenko/6700/mono-MusicXML-dataset/venv/lib/python3.6/site-packages/sklearn/preprocessing/label.py:151: DeprecationWarning: The truth value of an empty array is ambiguous. Returning False, but in future this will result in an error. Use `array.size > 0` to check that an array is not empty.\n",
      "  if diff:\n",
      "/Users/ilanfilonenko/6700/mono-MusicXML-dataset/venv/lib/python3.6/site-packages/sklearn/preprocessing/label.py:151: DeprecationWarning: The truth value of an empty array is ambiguous. Returning False, but in future this will result in an error. Use `array.size > 0` to check that an array is not empty.\n",
      "  if diff:\n",
      "/Users/ilanfilonenko/6700/mono-MusicXML-dataset/venv/lib/python3.6/site-packages/sklearn/preprocessing/label.py:151: DeprecationWarning: The truth value of an empty array is ambiguous. Returning False, but in future this will result in an error. Use `array.size > 0` to check that an array is not empty.\n",
      "  if diff:\n",
      "/Users/ilanfilonenko/6700/mono-MusicXML-dataset/venv/lib/python3.6/site-packages/sklearn/preprocessing/label.py:151: DeprecationWarning: The truth value of an empty array is ambiguous. Returning False, but in future this will result in an error. Use `array.size > 0` to check that an array is not empty.\n",
      "  if diff:\n",
      "/Users/ilanfilonenko/6700/mono-MusicXML-dataset/venv/lib/python3.6/site-packages/sklearn/preprocessing/label.py:151: DeprecationWarning: The truth value of an empty array is ambiguous. Returning False, but in future this will result in an error. Use `array.size > 0` to check that an array is not empty.\n",
      "  if diff:\n",
      "/Users/ilanfilonenko/6700/mono-MusicXML-dataset/venv/lib/python3.6/site-packages/sklearn/preprocessing/label.py:151: DeprecationWarning: The truth value of an empty array is ambiguous. Returning False, but in future this will result in an error. Use `array.size > 0` to check that an array is not empty.\n",
      "  if diff:\n",
      "/Users/ilanfilonenko/6700/mono-MusicXML-dataset/venv/lib/python3.6/site-packages/sklearn/preprocessing/label.py:151: DeprecationWarning: The truth value of an empty array is ambiguous. Returning False, but in future this will result in an error. Use `array.size > 0` to check that an array is not empty.\n",
      "  if diff:\n",
      "/Users/ilanfilonenko/6700/mono-MusicXML-dataset/venv/lib/python3.6/site-packages/sklearn/preprocessing/label.py:151: DeprecationWarning: The truth value of an empty array is ambiguous. Returning False, but in future this will result in an error. Use `array.size > 0` to check that an array is not empty.\n",
      "  if diff:\n",
      "/Users/ilanfilonenko/6700/mono-MusicXML-dataset/venv/lib/python3.6/site-packages/sklearn/preprocessing/label.py:151: DeprecationWarning: The truth value of an empty array is ambiguous. Returning False, but in future this will result in an error. Use `array.size > 0` to check that an array is not empty.\n",
      "  if diff:\n",
      "/Users/ilanfilonenko/6700/mono-MusicXML-dataset/venv/lib/python3.6/site-packages/sklearn/preprocessing/label.py:151: DeprecationWarning: The truth value of an empty array is ambiguous. Returning False, but in future this will result in an error. Use `array.size > 0` to check that an array is not empty.\n",
      "  if diff:\n",
      "/Users/ilanfilonenko/6700/mono-MusicXML-dataset/venv/lib/python3.6/site-packages/sklearn/preprocessing/label.py:151: DeprecationWarning: The truth value of an empty array is ambiguous. Returning False, but in future this will result in an error. Use `array.size > 0` to check that an array is not empty.\n",
      "  if diff:\n",
      "/Users/ilanfilonenko/6700/mono-MusicXML-dataset/venv/lib/python3.6/site-packages/sklearn/preprocessing/label.py:151: DeprecationWarning: The truth value of an empty array is ambiguous. Returning False, but in future this will result in an error. Use `array.size > 0` to check that an array is not empty.\n",
      "  if diff:\n",
      "/Users/ilanfilonenko/6700/mono-MusicXML-dataset/venv/lib/python3.6/site-packages/sklearn/preprocessing/label.py:151: DeprecationWarning: The truth value of an empty array is ambiguous. Returning False, but in future this will result in an error. Use `array.size > 0` to check that an array is not empty.\n",
      "  if diff:\n",
      "/Users/ilanfilonenko/6700/mono-MusicXML-dataset/venv/lib/python3.6/site-packages/sklearn/preprocessing/label.py:151: DeprecationWarning: The truth value of an empty array is ambiguous. Returning False, but in future this will result in an error. Use `array.size > 0` to check that an array is not empty.\n",
      "  if diff:\n",
      "/Users/ilanfilonenko/6700/mono-MusicXML-dataset/venv/lib/python3.6/site-packages/sklearn/preprocessing/label.py:151: DeprecationWarning: The truth value of an empty array is ambiguous. Returning False, but in future this will result in an error. Use `array.size > 0` to check that an array is not empty.\n",
      "  if diff:\n",
      "/Users/ilanfilonenko/6700/mono-MusicXML-dataset/venv/lib/python3.6/site-packages/sklearn/preprocessing/label.py:151: DeprecationWarning: The truth value of an empty array is ambiguous. Returning False, but in future this will result in an error. Use `array.size > 0` to check that an array is not empty.\n",
      "  if diff:\n",
      "/Users/ilanfilonenko/6700/mono-MusicXML-dataset/venv/lib/python3.6/site-packages/sklearn/preprocessing/label.py:151: DeprecationWarning: The truth value of an empty array is ambiguous. Returning False, but in future this will result in an error. Use `array.size > 0` to check that an array is not empty.\n",
      "  if diff:\n"
     ]
    },
    {
     "name": "stderr",
     "output_type": "stream",
     "text": [
      "/Users/ilanfilonenko/6700/mono-MusicXML-dataset/venv/lib/python3.6/site-packages/sklearn/preprocessing/label.py:151: DeprecationWarning: The truth value of an empty array is ambiguous. Returning False, but in future this will result in an error. Use `array.size > 0` to check that an array is not empty.\n",
      "  if diff:\n",
      "/Users/ilanfilonenko/6700/mono-MusicXML-dataset/venv/lib/python3.6/site-packages/sklearn/preprocessing/label.py:151: DeprecationWarning: The truth value of an empty array is ambiguous. Returning False, but in future this will result in an error. Use `array.size > 0` to check that an array is not empty.\n",
      "  if diff:\n",
      "/Users/ilanfilonenko/6700/mono-MusicXML-dataset/venv/lib/python3.6/site-packages/sklearn/preprocessing/label.py:151: DeprecationWarning: The truth value of an empty array is ambiguous. Returning False, but in future this will result in an error. Use `array.size > 0` to check that an array is not empty.\n",
      "  if diff:\n",
      "/Users/ilanfilonenko/6700/mono-MusicXML-dataset/venv/lib/python3.6/site-packages/sklearn/preprocessing/label.py:151: DeprecationWarning: The truth value of an empty array is ambiguous. Returning False, but in future this will result in an error. Use `array.size > 0` to check that an array is not empty.\n",
      "  if diff:\n",
      "/Users/ilanfilonenko/6700/mono-MusicXML-dataset/venv/lib/python3.6/site-packages/sklearn/preprocessing/label.py:151: DeprecationWarning: The truth value of an empty array is ambiguous. Returning False, but in future this will result in an error. Use `array.size > 0` to check that an array is not empty.\n",
      "  if diff:\n",
      "/Users/ilanfilonenko/6700/mono-MusicXML-dataset/venv/lib/python3.6/site-packages/sklearn/preprocessing/label.py:151: DeprecationWarning: The truth value of an empty array is ambiguous. Returning False, but in future this will result in an error. Use `array.size > 0` to check that an array is not empty.\n",
      "  if diff:\n",
      "/Users/ilanfilonenko/6700/mono-MusicXML-dataset/venv/lib/python3.6/site-packages/sklearn/preprocessing/label.py:151: DeprecationWarning: The truth value of an empty array is ambiguous. Returning False, but in future this will result in an error. Use `array.size > 0` to check that an array is not empty.\n",
      "  if diff:\n",
      "/Users/ilanfilonenko/6700/mono-MusicXML-dataset/venv/lib/python3.6/site-packages/sklearn/preprocessing/label.py:151: DeprecationWarning: The truth value of an empty array is ambiguous. Returning False, but in future this will result in an error. Use `array.size > 0` to check that an array is not empty.\n",
      "  if diff:\n",
      "/Users/ilanfilonenko/6700/mono-MusicXML-dataset/venv/lib/python3.6/site-packages/sklearn/preprocessing/label.py:151: DeprecationWarning: The truth value of an empty array is ambiguous. Returning False, but in future this will result in an error. Use `array.size > 0` to check that an array is not empty.\n",
      "  if diff:\n",
      "/Users/ilanfilonenko/6700/mono-MusicXML-dataset/venv/lib/python3.6/site-packages/sklearn/preprocessing/label.py:151: DeprecationWarning: The truth value of an empty array is ambiguous. Returning False, but in future this will result in an error. Use `array.size > 0` to check that an array is not empty.\n",
      "  if diff:\n",
      "/Users/ilanfilonenko/6700/mono-MusicXML-dataset/venv/lib/python3.6/site-packages/sklearn/preprocessing/label.py:151: DeprecationWarning: The truth value of an empty array is ambiguous. Returning False, but in future this will result in an error. Use `array.size > 0` to check that an array is not empty.\n",
      "  if diff:\n",
      "/Users/ilanfilonenko/6700/mono-MusicXML-dataset/venv/lib/python3.6/site-packages/sklearn/preprocessing/label.py:151: DeprecationWarning: The truth value of an empty array is ambiguous. Returning False, but in future this will result in an error. Use `array.size > 0` to check that an array is not empty.\n",
      "  if diff:\n",
      "/Users/ilanfilonenko/6700/mono-MusicXML-dataset/venv/lib/python3.6/site-packages/sklearn/preprocessing/label.py:151: DeprecationWarning: The truth value of an empty array is ambiguous. Returning False, but in future this will result in an error. Use `array.size > 0` to check that an array is not empty.\n",
      "  if diff:\n",
      "/Users/ilanfilonenko/6700/mono-MusicXML-dataset/venv/lib/python3.6/site-packages/sklearn/preprocessing/label.py:151: DeprecationWarning: The truth value of an empty array is ambiguous. Returning False, but in future this will result in an error. Use `array.size > 0` to check that an array is not empty.\n",
      "  if diff:\n",
      "/Users/ilanfilonenko/6700/mono-MusicXML-dataset/venv/lib/python3.6/site-packages/sklearn/preprocessing/label.py:151: DeprecationWarning: The truth value of an empty array is ambiguous. Returning False, but in future this will result in an error. Use `array.size > 0` to check that an array is not empty.\n",
      "  if diff:\n",
      "/Users/ilanfilonenko/6700/mono-MusicXML-dataset/venv/lib/python3.6/site-packages/sklearn/preprocessing/label.py:151: DeprecationWarning: The truth value of an empty array is ambiguous. Returning False, but in future this will result in an error. Use `array.size > 0` to check that an array is not empty.\n",
      "  if diff:\n",
      "/Users/ilanfilonenko/6700/mono-MusicXML-dataset/venv/lib/python3.6/site-packages/sklearn/preprocessing/label.py:151: DeprecationWarning: The truth value of an empty array is ambiguous. Returning False, but in future this will result in an error. Use `array.size > 0` to check that an array is not empty.\n",
      "  if diff:\n",
      "/Users/ilanfilonenko/6700/mono-MusicXML-dataset/venv/lib/python3.6/site-packages/sklearn/preprocessing/label.py:151: DeprecationWarning: The truth value of an empty array is ambiguous. Returning False, but in future this will result in an error. Use `array.size > 0` to check that an array is not empty.\n",
      "  if diff:\n"
     ]
    }
   ],
   "source": [
    "result = decode_sequence(evaluation_data[3].reshape(1,1,2048))"
   ]
  },
  {
   "cell_type": "code",
   "execution_count": 1081,
   "metadata": {},
   "outputs": [],
   "source": [
    "from music21.midi import translate\n",
    "from music21 import pitch,note\n",
    "from music21.articulations import Fingering,Articulation\n",
    "from music21.stream import Stream"
   ]
  },
  {
   "cell_type": "code",
   "execution_count": 1082,
   "metadata": {},
   "outputs": [],
   "source": [
    "def output_pdf(file_name, note_pd_lst):\n",
    "    s = Stream()\n",
    "    for note_pair in note_pd_lst:\n",
    "        n = note.Note(pitch.Pitch(note_pair[0][0]),quarterLength=note_pair[1][0])\n",
    "#         n.articulations.append((Fingering(f)))\n",
    "#         print(n.articulations)\n",
    "        s.append(n)\n",
    "    location = str(s.write(\"lily.pdf\"))\n",
    "    os.rename(location,'{}.pdf'.format(file_name))\n",
    "    mf = translate.music21ObjectToMidiFile(s)\n",
    "    mf.open('{}.mid'.format(file_name), 'wb')\n",
    "    mf.write()\n",
    "    mf.close()"
   ]
  },
  {
   "cell_type": "code",
   "execution_count": 1087,
   "metadata": {},
   "outputs": [],
   "source": [
    "output_pdf(\"example\",result)"
   ]
  },
  {
   "cell_type": "code",
   "execution_count": null,
   "metadata": {},
   "outputs": [],
   "source": []
  }
 ],
 "metadata": {
  "kernelspec": {
   "display_name": "tfenv",
   "language": "python",
   "name": "tfenv"
  },
  "language_info": {
   "codemirror_mode": {
    "name": "ipython",
    "version": 3
   },
   "file_extension": ".py",
   "mimetype": "text/x-python",
   "name": "python",
   "nbconvert_exporter": "python",
   "pygments_lexer": "ipython3",
   "version": "3.6.4"
  }
 },
 "nbformat": 4,
 "nbformat_minor": 2
}
